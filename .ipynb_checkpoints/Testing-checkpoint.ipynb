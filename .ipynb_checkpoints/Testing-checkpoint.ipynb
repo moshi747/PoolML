{
 "cells": [
  {
   "cell_type": "code",
   "execution_count": 1,
   "id": "d584b2c2-b496-411c-a859-63bf79454164",
   "metadata": {},
   "outputs": [],
   "source": [
    "import numpy as np\n",
    "import pooltool as pt\n",
    "import torch\n",
    "import pandas as pd\n",
    "from copy import deepcopy"
   ]
  },
  {
   "cell_type": "code",
   "execution_count": 2,
   "id": "a4d4cd53-438b-4a93-a7a0-cda99c0c3a6c",
   "metadata": {
    "tags": []
   },
   "outputs": [],
   "source": [
    "import math"
   ]
  },
  {
   "cell_type": "code",
   "execution_count": 3,
   "id": "f8fba2b3-93cd-4ec4-bc57-064c27c803d3",
   "metadata": {
    "tags": []
   },
   "outputs": [],
   "source": [
    "import time"
   ]
  },
  {
   "cell_type": "code",
   "execution_count": 4,
   "id": "12627dd6-7037-47e2-8f8a-baa5653bef0b",
   "metadata": {
    "tags": []
   },
   "outputs": [],
   "source": [
    "reg_net = torch.load('reg_net.pt')"
   ]
  },
  {
   "cell_type": "code",
   "execution_count": 7,
   "id": "7df22ea0-c228-4f94-a1cb-81c812b58583",
   "metadata": {
    "tags": []
   },
   "outputs": [],
   "source": [
    "n_balls = 2\n",
    "labels = ['cue', '1', '2', '3', '4', '5', '6', '7', '8', '9']\n",
    "table = pt.Table.default()\n",
    "pockets = table.pockets\n",
    "\n",
    "def random_ball():\n",
    "    a = np.random.rand(2)\n",
    "    a[0] = (0.93)*a[0]+0.03\n",
    "    a[1] = (1.92)*a[1]+0.03\n",
    "    return a\n",
    "\n",
    "def generate_balls():\n",
    "    points = []\n",
    "    points.append(random_ball())\n",
    "    \n",
    "    for _ in range(n_balls):\n",
    "        close = True\n",
    "        while close:\n",
    "            test = random_ball()\n",
    "            close = False\n",
    "            for point in points:\n",
    "                if np.square(point - test).sum() < 0.06:\n",
    "                    close = True\n",
    "                    break\n",
    "        points.append(test)\n",
    "\n",
    "    balls = {}\n",
    "    \n",
    "    for i in range(n_balls+1):\n",
    "        balls[labels[i]] = pt.Ball.create(labels[i], xy=points[i])\n",
    "\n",
    "    return balls\n",
    "\n",
    "def balls_to_obs(balls):\n",
    "    ar = tuple(x.xyz[:2] for x in balls.values())\n",
    "    return np.hstack(ar)\n",
    "\n",
    "def act_to_aim(act):\n",
    "    speed = act%9*0.3+0.3\n",
    "    vspin = act%7*0.1-0.3\n",
    "    hspin = act%5*0.1-0.2\n",
    "    return speed, vspin, hspin\n",
    "\n",
    "def act_to_aim2(act):\n",
    "    speed = act%9*0.3+0.3\n",
    "    vspin = act%11*0.1-0.5\n",
    "    hspin = act%9*0.1-0.4\n",
    "    return speed, vspin, hspin"
   ]
  },
  {
   "cell_type": "code",
   "execution_count": 46,
   "id": "8e785d9a-0324-4861-b9dd-d24719dd1906",
   "metadata": {},
   "outputs": [
    {
     "name": "stderr",
     "output_type": "stream",
     "text": [
      "Known pipe types:\n",
      "  CocoaGraphicsPipe\n",
      "(all display modules loaded.)\n"
     ]
    }
   ],
   "source": [
    "interface = pt.ShotViewer()"
   ]
  },
  {
   "cell_type": "code",
   "execution_count": 63,
   "id": "1ebb2b9d-aea1-4360-8514-f3be5cec75af",
   "metadata": {
    "collapsed": true,
    "jupyter": {
     "outputs_hidden": true,
     "source_hidden": true
    },
    "tags": []
   },
   "outputs": [
    {
     "name": "stderr",
     "output_type": "stream",
     "text": [
      ":interval(warning): CLerpNodePathInterval::priv_step() called for LerpPosQuatInterval-19507 in state final.\n",
      ":interval(warning): CLerpNodePathInterval::priv_step() called for LerpPosInterval-19508 in state final.\n",
      ":interval(warning): CLerpNodePathInterval::priv_step() called for LerpPosQuatInterval-20573 in state final.\n",
      ":interval(warning): CLerpNodePathInterval::priv_step() called for LerpPosInterval-20574 in state final.\n"
     ]
    }
   ],
   "source": [
    "#For viewing shots\n",
    "\n",
    "balls = generate_balls()\n",
    "\n",
    "\n",
    "cue = pt.Cue(cueing_ball=balls['cue'])\n",
    "target = list(balls.keys())[1]\n",
    "\n",
    "obs = balls_to_obs(balls)\n",
    "\n",
    "action = module.act(torch.as_tensor(obs, dtype=torch.float32))\n",
    "action = action*np.array([3,0.4,0.3])+np.array([3,0,0])\n",
    "\n",
    "# Aim at the head ball then strike the cue ball\n",
    "cue.aim_for_best_pocket(balls[target], pockets.values())\n",
    "\n",
    "cue.strike(V0=action[0], b=action[1], a=action[2])\n",
    "\n",
    "# Evolve the shot\n",
    "shot = pt.System(cue=cue, table=table, balls=balls)\n",
    "\n",
    "shot.simulate(continuize=True)\n",
    "\n",
    "interface.show(shot)"
   ]
  },
  {
   "cell_type": "code",
   "execution_count": null,
   "id": "55f65539-6071-479b-a7c8-7e2222c87118",
   "metadata": {
    "jupyter": {
     "source_hidden": true
    },
    "tags": []
   },
   "outputs": [],
   "source": [
    "#Testing data\n",
    "\n",
    "table = pt.PocketTable(model_name=\"7_foot\")\n",
    "pockets = table.get_pockets()\n",
    "\n",
    "n_tests = 100\n",
    "\n",
    "test_df = pd.DataFrame(columns = ['module', 'random'])\n",
    "\n",
    "\n",
    "for i in range(n_tests):\n",
    "    balls = generate_balls()\n",
    "    balls_a = deepcopy(balls)\n",
    "    \n",
    "    reward_batch = []\n",
    "    \n",
    "    #Simulate module shots\n",
    "    \n",
    "    cue = pt.Cue(cueing_ball=balls['cue'])\n",
    "    \n",
    "    cue.aim_for_best_pocket(balls['1'], pockets.values())\n",
    "    \n",
    "    obs = balls_to_obs(balls)\n",
    "\n",
    "    action = module.act(torch.as_tensor(obs, dtype=torch.float32))\n",
    "    action = action*np.array([3,0.4,0.3])+np.array([3,0,0])\n",
    "\n",
    "    cue.strike(V0=action[0], b=action[1], a=action[2])\n",
    "\n",
    "    shot = pt.System(cue=cue, table=table, balls=balls)\n",
    "    \n",
    "    try:\n",
    "        shot.simulate()\n",
    "        on_table = [key for key, value in balls.items() if value.rvw[0,2] > 0]\n",
    "        \n",
    "        if 'cue' not in on_table:\n",
    "            reward = -4\n",
    "        elif '1' in on_table:\n",
    "            reward = 0\n",
    "        elif '2' in on_table:\n",
    "            pred = reg_net(torch.as_tensor(np.hstack((balls['cue'].rvw[0,:2],\n",
    "                                                      balls['2'].rvw[0,:2])), dtype=torch.float32))\n",
    "            reward = math.exp(pred.item()*n_balls)\n",
    "        else:\n",
    "            reward = 0\n",
    "        reward_batch.append(reward)\n",
    "        \n",
    "    except:\n",
    "        continue\n",
    "    \n",
    "    #Simulate random shot\n",
    "    \n",
    "    cue = pt.Cue(cueing_ball=balls_a['cue'])\n",
    "    \n",
    "    random_action = np.random.randint(315)\n",
    "    speed, vspin, hspin = act_to_aim(random_action)\n",
    "    \n",
    "    cue.aim_for_best_pocket(balls_a['1'], pockets.values())\n",
    "    cue.strike(V0=speed, b=vspin, a=hspin)\n",
    "\n",
    "    shot = pt.System(cue=cue, table=table, balls=balls_a)\n",
    "\n",
    "    shot.simulate(continuize=True)\n",
    "    on_table = [key for key, value in balls_a.items() if value.rvw[0,2] > 0]\n",
    "\n",
    "    if 'cue' not in on_table:\n",
    "        reward = -4\n",
    "    elif '1' in on_table:\n",
    "        reward = 0\n",
    "    elif '2' in on_table:\n",
    "        pred = reg_net(torch.as_tensor(np.hstack((balls_a['cue'].rvw[0,:2],\n",
    "                                                  balls_a['2'].rvw[0,:2])), dtype=torch.float32))\n",
    "        reward = math.exp(pred.item()*n_balls)\n",
    "    else:\n",
    "        reward = 0\n",
    "    reward_batch.append(reward)\n",
    "    \n",
    "    test_df.loc[len(test_df.index)] = reward_batch\n"
   ]
  },
  {
   "cell_type": "code",
   "execution_count": 42,
   "id": "cf9b550a-1382-4827-8058-1a4a2678b895",
   "metadata": {
    "jupyter": {
     "source_hidden": true
    },
    "tags": []
   },
   "outputs": [
    {
     "name": "stdout",
     "output_type": "stream",
     "text": [
      "module mean: 2.5541538618868107, random mean: 1.8441484155842256\n"
     ]
    }
   ],
   "source": [
    "module_mean = test_df['module'].mean()\n",
    "random_mean = test_df['random'].mean()\n",
    "print(f'module mean: {module_mean}, random mean: {random_mean}')"
   ]
  },
  {
   "cell_type": "code",
   "execution_count": 48,
   "id": "4d56c9b1-ed93-4733-ad27-f3599ab80d48",
   "metadata": {
    "tags": []
   },
   "outputs": [
    {
     "ename": "TypeError",
     "evalue": "set_state() missing 1 required positional argument: 'self'",
     "output_type": "error",
     "traceback": [
      "\u001b[1;31m---------------------------------------------------------------------------\u001b[0m",
      "\u001b[1;31mTypeError\u001b[0m                                 Traceback (most recent call last)",
      "\u001b[1;32m~\\AppData\\Local\\Temp\\ipykernel_11820\\669749472.py\u001b[0m in \u001b[0;36m<module>\u001b[1;34m\u001b[0m\n\u001b[0;32m     15\u001b[0m     \u001b[0mshot\u001b[0m \u001b[1;33m=\u001b[0m \u001b[0mpt\u001b[0m\u001b[1;33m.\u001b[0m\u001b[0mSystem\u001b[0m\u001b[1;33m(\u001b[0m\u001b[0mcue\u001b[0m\u001b[1;33m=\u001b[0m\u001b[0mmy_cue\u001b[0m\u001b[1;33m,\u001b[0m \u001b[0mtable\u001b[0m\u001b[1;33m=\u001b[0m\u001b[0mtable\u001b[0m\u001b[1;33m,\u001b[0m \u001b[0mballs\u001b[0m\u001b[1;33m=\u001b[0m\u001b[0mballs\u001b[0m\u001b[1;33m)\u001b[0m\u001b[1;33m\u001b[0m\u001b[1;33m\u001b[0m\u001b[0m\n\u001b[0;32m     16\u001b[0m     \u001b[0mshot\u001b[0m\u001b[1;33m.\u001b[0m\u001b[0mcue\u001b[0m\u001b[1;33m.\u001b[0m\u001b[0mset_state\u001b[0m\u001b[1;33m(\u001b[0m\u001b[0mmy_cue\u001b[0m\u001b[1;33m,\u001b[0m \u001b[0mcue_ball_id\u001b[0m\u001b[1;33m=\u001b[0m\u001b[1;34m'cue'\u001b[0m\u001b[1;33m)\u001b[0m\u001b[1;33m\u001b[0m\u001b[1;33m\u001b[0m\u001b[0m\n\u001b[1;32m---> 17\u001b[1;33m     \u001b[0mshot\u001b[0m\u001b[1;33m.\u001b[0m\u001b[0maim_for_best_pocket\u001b[0m\u001b[1;33m(\u001b[0m\u001b[0mtarget\u001b[0m\u001b[1;33m)\u001b[0m\u001b[1;33m\u001b[0m\u001b[1;33m\u001b[0m\u001b[0m\n\u001b[0m\u001b[0;32m     18\u001b[0m     \u001b[0mphi\u001b[0m \u001b[1;33m=\u001b[0m \u001b[0mcue\u001b[0m\u001b[1;33m.\u001b[0m\u001b[0mphi\u001b[0m\u001b[1;33m\u001b[0m\u001b[1;33m\u001b[0m\u001b[0m\n\u001b[0;32m     19\u001b[0m     \u001b[0mhigh_score\u001b[0m \u001b[1;33m=\u001b[0m \u001b[1;36m0\u001b[0m\u001b[1;33m\u001b[0m\u001b[1;33m\u001b[0m\u001b[0m\n",
      "\u001b[1;32m~\\anaconda3\\lib\\site-packages\\pooltool\\system\\datatypes.py\u001b[0m in \u001b[0;36maim_for_best_pocket\u001b[1;34m(self, ball_id, config)\u001b[0m\n\u001b[0;32m    356\u001b[0m         \u001b[0mpockets\u001b[0m \u001b[1;33m=\u001b[0m \u001b[0mlist\u001b[0m\u001b[1;33m(\u001b[0m\u001b[0mself\u001b[0m\u001b[1;33m.\u001b[0m\u001b[0mtable\u001b[0m\u001b[1;33m.\u001b[0m\u001b[0mpockets\u001b[0m\u001b[1;33m.\u001b[0m\u001b[0mvalues\u001b[0m\u001b[1;33m(\u001b[0m\u001b[1;33m)\u001b[0m\u001b[1;33m)\u001b[0m\u001b[1;33m\u001b[0m\u001b[1;33m\u001b[0m\u001b[0m\n\u001b[0;32m    357\u001b[0m \u001b[1;33m\u001b[0m\u001b[0m\n\u001b[1;32m--> 358\u001b[1;33m         self.aim_for_pocket(\n\u001b[0m\u001b[0;32m    359\u001b[0m             \u001b[0mball_id\u001b[0m\u001b[1;33m=\u001b[0m\u001b[0mball_id\u001b[0m\u001b[1;33m,\u001b[0m\u001b[1;33m\u001b[0m\u001b[1;33m\u001b[0m\u001b[0m\n\u001b[0;32m    360\u001b[0m             \u001b[0mpocket_id\u001b[0m\u001b[1;33m=\u001b[0m\u001b[0mconfig\u001b[0m\u001b[1;33m.\u001b[0m\u001b[0mchoose_pocket\u001b[0m\u001b[1;33m(\u001b[0m\u001b[0mcue_ball\u001b[0m\u001b[1;33m,\u001b[0m \u001b[0mobject_ball\u001b[0m\u001b[1;33m,\u001b[0m \u001b[0mpockets\u001b[0m\u001b[1;33m)\u001b[0m\u001b[1;33m.\u001b[0m\u001b[0mid\u001b[0m\u001b[1;33m,\u001b[0m\u001b[1;33m\u001b[0m\u001b[1;33m\u001b[0m\u001b[0m\n",
      "\u001b[1;32m~\\anaconda3\\lib\\site-packages\\pooltool\\system\\datatypes.py\u001b[0m in \u001b[0;36maim_for_pocket\u001b[1;34m(self, ball_id, pocket_id, config)\u001b[0m\n\u001b[0;32m    338\u001b[0m         \u001b[1;32massert\u001b[0m \u001b[0mself\u001b[0m\u001b[1;33m.\u001b[0m\u001b[0mcue\u001b[0m\u001b[1;33m.\u001b[0m\u001b[0mcue_ball_id\u001b[0m\u001b[1;33m\u001b[0m\u001b[1;33m\u001b[0m\u001b[0m\n\u001b[0;32m    339\u001b[0m \u001b[1;33m\u001b[0m\u001b[0m\n\u001b[1;32m--> 340\u001b[1;33m         self.cue.set_state(\n\u001b[0m\u001b[0;32m    341\u001b[0m             phi=config.calculate_angle(\n\u001b[0;32m    342\u001b[0m                 \u001b[0mself\u001b[0m\u001b[1;33m.\u001b[0m\u001b[0mballs\u001b[0m\u001b[1;33m[\u001b[0m\u001b[0mself\u001b[0m\u001b[1;33m.\u001b[0m\u001b[0mcue\u001b[0m\u001b[1;33m.\u001b[0m\u001b[0mcue_ball_id\u001b[0m\u001b[1;33m]\u001b[0m\u001b[1;33m,\u001b[0m\u001b[1;33m\u001b[0m\u001b[1;33m\u001b[0m\u001b[0m\n",
      "\u001b[1;31mTypeError\u001b[0m: set_state() missing 1 required positional argument: 'self'"
     ]
    }
   ],
   "source": [
    "#Generate data\n",
    "\n",
    "table = pt.Table.default()\n",
    "pockets = table.pockets\n",
    "\n",
    "steps = 5\n",
    "\n",
    "df = pd.DataFrame(columns = ['cue_x', 'cue_y', 'one_x', 'one_y', 'two_x', 'two_y', 'hit'])\n",
    "\n",
    "\n",
    "for i in range(steps):\n",
    "    balls = generate_balls()\n",
    "    target = list(balls.keys())[1]\n",
    "    my_cue = cue\n",
    "    shot = pt.System(cue=my_cue, table=table, balls=balls)\n",
    "    shot.cue.set_state(my_cue, cue_ball_id='cue')\n",
    "    shot.aim_for_best_pocket(target)\n",
    "    phi = cue.phi\n",
    "    high_score = 0\n",
    "    success = True\n",
    "    hit = 0\n",
    "    \n",
    "    for j in range(891):\n",
    "        \n",
    "        shot.reset_balls()\n",
    "        speed, vspin, hspin = act_to_aim2(j)\n",
    "        shot.cue.set_state(V0=speed, b=vspin, a=hspin)\n",
    "        \n",
    "        try:\n",
    "            shot.simulate(continuize=True)\n",
    "            on_table = [key for key, value in balls.items() if value.xyz[2] > 0]\n",
    "\n",
    "            if 'cue' in on_table and '1' not in on_table and '2' in on_table:\n",
    "                pred = reg_net(torch.as_tensor(np.hstack((balls['cue'].xyz[:2],\n",
    "                                                          balls['2'].xyz[:2])), dtype=torch.float32))\n",
    "                score = pred.item()\n",
    "                if score > high_score:\n",
    "                    hit = j\n",
    "                    high_score = score\n",
    "        except:\n",
    "            success = False\n",
    "            break\n",
    "    \n",
    "    if high_score > 0 and success:\n",
    "        obs = balls_to_obs(balls)\n",
    "        obs = np.append(obs, hit)\n",
    "        df.loc[len(df.index)] = obs"
   ]
  },
  {
   "cell_type": "code",
   "execution_count": 83,
   "id": "3690d504-fba1-4527-a1d3-a1721442f101",
   "metadata": {},
   "outputs": [
    {
     "data": {
      "text/html": [
       "<div>\n",
       "<style scoped>\n",
       "    .dataframe tbody tr th:only-of-type {\n",
       "        vertical-align: middle;\n",
       "    }\n",
       "\n",
       "    .dataframe tbody tr th {\n",
       "        vertical-align: top;\n",
       "    }\n",
       "\n",
       "    .dataframe thead th {\n",
       "        text-align: right;\n",
       "    }\n",
       "</style>\n",
       "<table border=\"1\" class=\"dataframe\">\n",
       "  <thead>\n",
       "    <tr style=\"text-align: right;\">\n",
       "      <th></th>\n",
       "      <th>cue_x</th>\n",
       "      <th>cue_y</th>\n",
       "      <th>one_x</th>\n",
       "      <th>one_y</th>\n",
       "      <th>two_x</th>\n",
       "      <th>two_y</th>\n",
       "      <th>hit</th>\n",
       "    </tr>\n",
       "  </thead>\n",
       "  <tbody>\n",
       "    <tr>\n",
       "      <th>0</th>\n",
       "      <td>0.608722</td>\n",
       "      <td>1.798697</td>\n",
       "      <td>0.049783</td>\n",
       "      <td>1.064754</td>\n",
       "      <td>0.308480</td>\n",
       "      <td>0.905701</td>\n",
       "      <td>62.0</td>\n",
       "    </tr>\n",
       "    <tr>\n",
       "      <th>1</th>\n",
       "      <td>0.264286</td>\n",
       "      <td>1.782215</td>\n",
       "      <td>0.695591</td>\n",
       "      <td>1.659219</td>\n",
       "      <td>0.664349</td>\n",
       "      <td>1.353152</td>\n",
       "      <td>33.0</td>\n",
       "    </tr>\n",
       "    <tr>\n",
       "      <th>2</th>\n",
       "      <td>0.719703</td>\n",
       "      <td>1.217058</td>\n",
       "      <td>0.626514</td>\n",
       "      <td>0.286429</td>\n",
       "      <td>0.269556</td>\n",
       "      <td>1.507266</td>\n",
       "      <td>78.0</td>\n",
       "    </tr>\n",
       "    <tr>\n",
       "      <th>3</th>\n",
       "      <td>0.286843</td>\n",
       "      <td>1.753289</td>\n",
       "      <td>0.554085</td>\n",
       "      <td>0.284548</td>\n",
       "      <td>0.772648</td>\n",
       "      <td>1.883813</td>\n",
       "      <td>68.0</td>\n",
       "    </tr>\n",
       "    <tr>\n",
       "      <th>4</th>\n",
       "      <td>0.038134</td>\n",
       "      <td>0.509104</td>\n",
       "      <td>0.534700</td>\n",
       "      <td>1.263077</td>\n",
       "      <td>0.070971</td>\n",
       "      <td>1.715253</td>\n",
       "      <td>42.0</td>\n",
       "    </tr>\n",
       "    <tr>\n",
       "      <th>...</th>\n",
       "      <td>...</td>\n",
       "      <td>...</td>\n",
       "      <td>...</td>\n",
       "      <td>...</td>\n",
       "      <td>...</td>\n",
       "      <td>...</td>\n",
       "      <td>...</td>\n",
       "    </tr>\n",
       "    <tr>\n",
       "      <th>174</th>\n",
       "      <td>0.331442</td>\n",
       "      <td>1.262904</td>\n",
       "      <td>0.192996</td>\n",
       "      <td>0.252448</td>\n",
       "      <td>0.102176</td>\n",
       "      <td>1.580755</td>\n",
       "      <td>61.0</td>\n",
       "    </tr>\n",
       "    <tr>\n",
       "      <th>175</th>\n",
       "      <td>0.521075</td>\n",
       "      <td>1.897433</td>\n",
       "      <td>0.768810</td>\n",
       "      <td>1.555843</td>\n",
       "      <td>0.738592</td>\n",
       "      <td>0.838110</td>\n",
       "      <td>88.0</td>\n",
       "    </tr>\n",
       "    <tr>\n",
       "      <th>176</th>\n",
       "      <td>0.211277</td>\n",
       "      <td>0.693690</td>\n",
       "      <td>0.532001</td>\n",
       "      <td>1.239869</td>\n",
       "      <td>0.568159</td>\n",
       "      <td>0.536061</td>\n",
       "      <td>89.0</td>\n",
       "    </tr>\n",
       "    <tr>\n",
       "      <th>177</th>\n",
       "      <td>0.568026</td>\n",
       "      <td>0.392249</td>\n",
       "      <td>0.460234</td>\n",
       "      <td>1.333253</td>\n",
       "      <td>0.233877</td>\n",
       "      <td>0.902879</td>\n",
       "      <td>7.0</td>\n",
       "    </tr>\n",
       "    <tr>\n",
       "      <th>178</th>\n",
       "      <td>0.467360</td>\n",
       "      <td>1.334502</td>\n",
       "      <td>0.751111</td>\n",
       "      <td>1.673420</td>\n",
       "      <td>0.717317</td>\n",
       "      <td>0.372652</td>\n",
       "      <td>77.0</td>\n",
       "    </tr>\n",
       "  </tbody>\n",
       "</table>\n",
       "<p>179 rows × 7 columns</p>\n",
       "</div>"
      ],
      "text/plain": [
       "        cue_x     cue_y     one_x     one_y     two_x     two_y   hit\n",
       "0    0.608722  1.798697  0.049783  1.064754  0.308480  0.905701  62.0\n",
       "1    0.264286  1.782215  0.695591  1.659219  0.664349  1.353152  33.0\n",
       "2    0.719703  1.217058  0.626514  0.286429  0.269556  1.507266  78.0\n",
       "3    0.286843  1.753289  0.554085  0.284548  0.772648  1.883813  68.0\n",
       "4    0.038134  0.509104  0.534700  1.263077  0.070971  1.715253  42.0\n",
       "..        ...       ...       ...       ...       ...       ...   ...\n",
       "174  0.331442  1.262904  0.192996  0.252448  0.102176  1.580755  61.0\n",
       "175  0.521075  1.897433  0.768810  1.555843  0.738592  0.838110  88.0\n",
       "176  0.211277  0.693690  0.532001  1.239869  0.568159  0.536061  89.0\n",
       "177  0.568026  0.392249  0.460234  1.333253  0.233877  0.902879   7.0\n",
       "178  0.467360  1.334502  0.751111  1.673420  0.717317  0.372652  77.0\n",
       "\n",
       "[179 rows x 7 columns]"
      ]
     },
     "execution_count": 83,
     "metadata": {},
     "output_type": "execute_result"
    }
   ],
   "source": [
    "df"
   ]
  },
  {
   "cell_type": "code",
   "execution_count": 84,
   "id": "70ef2f55-c44e-45cd-b511-04a7a8c77b6b",
   "metadata": {
    "tags": []
   },
   "outputs": [],
   "source": [
    "cdf = pd.concat([df, cdf])"
   ]
  },
  {
   "cell_type": "code",
   "execution_count": 85,
   "id": "aefec1d9-ce5c-4ebe-8ebd-61e74a354538",
   "metadata": {
    "tags": []
   },
   "outputs": [
    {
     "data": {
      "text/html": [
       "<div>\n",
       "<style scoped>\n",
       "    .dataframe tbody tr th:only-of-type {\n",
       "        vertical-align: middle;\n",
       "    }\n",
       "\n",
       "    .dataframe tbody tr th {\n",
       "        vertical-align: top;\n",
       "    }\n",
       "\n",
       "    .dataframe thead th {\n",
       "        text-align: right;\n",
       "    }\n",
       "</style>\n",
       "<table border=\"1\" class=\"dataframe\">\n",
       "  <thead>\n",
       "    <tr style=\"text-align: right;\">\n",
       "      <th></th>\n",
       "      <th>cue_x</th>\n",
       "      <th>cue_y</th>\n",
       "      <th>one_x</th>\n",
       "      <th>one_y</th>\n",
       "      <th>two_x</th>\n",
       "      <th>two_y</th>\n",
       "      <th>hit</th>\n",
       "    </tr>\n",
       "  </thead>\n",
       "  <tbody>\n",
       "    <tr>\n",
       "      <th>0</th>\n",
       "      <td>0.608722</td>\n",
       "      <td>1.798697</td>\n",
       "      <td>0.049783</td>\n",
       "      <td>1.064754</td>\n",
       "      <td>0.308480</td>\n",
       "      <td>0.905701</td>\n",
       "      <td>62.0</td>\n",
       "    </tr>\n",
       "    <tr>\n",
       "      <th>1</th>\n",
       "      <td>0.264286</td>\n",
       "      <td>1.782215</td>\n",
       "      <td>0.695591</td>\n",
       "      <td>1.659219</td>\n",
       "      <td>0.664349</td>\n",
       "      <td>1.353152</td>\n",
       "      <td>33.0</td>\n",
       "    </tr>\n",
       "    <tr>\n",
       "      <th>2</th>\n",
       "      <td>0.719703</td>\n",
       "      <td>1.217058</td>\n",
       "      <td>0.626514</td>\n",
       "      <td>0.286429</td>\n",
       "      <td>0.269556</td>\n",
       "      <td>1.507266</td>\n",
       "      <td>78.0</td>\n",
       "    </tr>\n",
       "    <tr>\n",
       "      <th>3</th>\n",
       "      <td>0.286843</td>\n",
       "      <td>1.753289</td>\n",
       "      <td>0.554085</td>\n",
       "      <td>0.284548</td>\n",
       "      <td>0.772648</td>\n",
       "      <td>1.883813</td>\n",
       "      <td>68.0</td>\n",
       "    </tr>\n",
       "    <tr>\n",
       "      <th>4</th>\n",
       "      <td>0.038134</td>\n",
       "      <td>0.509104</td>\n",
       "      <td>0.534700</td>\n",
       "      <td>1.263077</td>\n",
       "      <td>0.070971</td>\n",
       "      <td>1.715253</td>\n",
       "      <td>42.0</td>\n",
       "    </tr>\n",
       "    <tr>\n",
       "      <th>...</th>\n",
       "      <td>...</td>\n",
       "      <td>...</td>\n",
       "      <td>...</td>\n",
       "      <td>...</td>\n",
       "      <td>...</td>\n",
       "      <td>...</td>\n",
       "      <td>...</td>\n",
       "    </tr>\n",
       "    <tr>\n",
       "      <th>180</th>\n",
       "      <td>0.501593</td>\n",
       "      <td>0.567335</td>\n",
       "      <td>0.067054</td>\n",
       "      <td>0.393102</td>\n",
       "      <td>0.215052</td>\n",
       "      <td>1.277497</td>\n",
       "      <td>22.0</td>\n",
       "    </tr>\n",
       "    <tr>\n",
       "      <th>181</th>\n",
       "      <td>0.036639</td>\n",
       "      <td>0.423013</td>\n",
       "      <td>0.628937</td>\n",
       "      <td>0.397026</td>\n",
       "      <td>0.336359</td>\n",
       "      <td>1.258086</td>\n",
       "      <td>5.0</td>\n",
       "    </tr>\n",
       "    <tr>\n",
       "      <th>182</th>\n",
       "      <td>0.933764</td>\n",
       "      <td>0.547160</td>\n",
       "      <td>0.247990</td>\n",
       "      <td>0.886995</td>\n",
       "      <td>0.030366</td>\n",
       "      <td>0.042764</td>\n",
       "      <td>33.0</td>\n",
       "    </tr>\n",
       "    <tr>\n",
       "      <th>183</th>\n",
       "      <td>0.091669</td>\n",
       "      <td>1.588700</td>\n",
       "      <td>0.316505</td>\n",
       "      <td>1.013553</td>\n",
       "      <td>0.614852</td>\n",
       "      <td>0.123892</td>\n",
       "      <td>5.0</td>\n",
       "    </tr>\n",
       "    <tr>\n",
       "      <th>184</th>\n",
       "      <td>0.754294</td>\n",
       "      <td>0.047796</td>\n",
       "      <td>0.713484</td>\n",
       "      <td>1.285802</td>\n",
       "      <td>0.186551</td>\n",
       "      <td>0.872287</td>\n",
       "      <td>88.0</td>\n",
       "    </tr>\n",
       "  </tbody>\n",
       "</table>\n",
       "<p>729 rows × 7 columns</p>\n",
       "</div>"
      ],
      "text/plain": [
       "        cue_x     cue_y     one_x     one_y     two_x     two_y   hit\n",
       "0    0.608722  1.798697  0.049783  1.064754  0.308480  0.905701  62.0\n",
       "1    0.264286  1.782215  0.695591  1.659219  0.664349  1.353152  33.0\n",
       "2    0.719703  1.217058  0.626514  0.286429  0.269556  1.507266  78.0\n",
       "3    0.286843  1.753289  0.554085  0.284548  0.772648  1.883813  68.0\n",
       "4    0.038134  0.509104  0.534700  1.263077  0.070971  1.715253  42.0\n",
       "..        ...       ...       ...       ...       ...       ...   ...\n",
       "180  0.501593  0.567335  0.067054  0.393102  0.215052  1.277497  22.0\n",
       "181  0.036639  0.423013  0.628937  0.397026  0.336359  1.258086   5.0\n",
       "182  0.933764  0.547160  0.247990  0.886995  0.030366  0.042764  33.0\n",
       "183  0.091669  1.588700  0.316505  1.013553  0.614852  0.123892   5.0\n",
       "184  0.754294  0.047796  0.713484  1.285802  0.186551  0.872287  88.0\n",
       "\n",
       "[729 rows x 7 columns]"
      ]
     },
     "execution_count": 85,
     "metadata": {},
     "output_type": "execute_result"
    }
   ],
   "source": [
    "cdf"
   ]
  },
  {
   "cell_type": "code",
   "execution_count": 36,
   "id": "78043699-f6b3-4df0-8da2-e24b86fb7adb",
   "metadata": {
    "tags": []
   },
   "outputs": [],
   "source": [
    "df.to_csv('two_ball_data.csv', index = False)"
   ]
  },
  {
   "cell_type": "code",
   "execution_count": 4,
   "id": "84f2d537-bd70-40af-9a30-28df6953d20f",
   "metadata": {
    "tags": []
   },
   "outputs": [],
   "source": [
    "df = pd.read_csv('two_ball_data.csv')"
   ]
  },
  {
   "cell_type": "code",
   "execution_count": 64,
   "id": "ed04313f-444e-45eb-af8b-c57b61ca99a0",
   "metadata": {},
   "outputs": [
    {
     "name": "stderr",
     "output_type": "stream",
     "text": [
      ":interval(warning): CLerpNodePathInterval::priv_step() called for LerpPosQuatInterval-66581 in state final.\n",
      ":interval(warning): CLerpNodePathInterval::priv_step() called for LerpPosInterval-66582 in state final.\n",
      ":interval(warning): CLerpNodePathInterval::priv_step() called for LerpPosQuatInterval-67735 in state final.\n",
      ":interval(warning): CLerpNodePathInterval::priv_step() called for LerpPosInterval-67736 in state final.\n",
      ":interval(warning): CLerpNodePathInterval::priv_step() called for LerpPosQuatInterval-71337 in state final.\n",
      ":interval(warning): CLerpNodePathInterval::priv_step() called for LerpPosInterval-71338 in state final.\n",
      ":interval(warning): CLerpNodePathInterval::priv_step() called for LerpPosQuatInterval-72289 in state final.\n",
      ":interval(warning): CLerpNodePathInterval::priv_step() called for LerpPosInterval-72290 in state final.\n",
      ":interval(warning): CLerpNodePathInterval::priv_step() called for LerpPosQuatInterval-72483 in state final.\n",
      ":interval(warning): CLerpNodePathInterval::priv_step() called for LerpPosInterval-72484 in state final.\n",
      ":interval(warning): CLerpNodePathInterval::priv_step() called for LerpPosQuatInterval-73655 in state final.\n",
      ":interval(warning): CLerpNodePathInterval::priv_step() called for LerpPosInterval-73656 in state final.\n",
      ":interval(warning): CLerpNodePathInterval::priv_step() called for LerpPosQuatInterval-73687 in state final.\n",
      ":interval(warning): CLerpNodePathInterval::priv_step() called for LerpPosInterval-73688 in state final.\n",
      ":interval(warning): CLerpNodePathInterval::priv_step() called for LerpPosQuatInterval-74177 in state final.\n",
      ":interval(warning): CLerpNodePathInterval::priv_step() called for LerpPosInterval-74178 in state final.\n",
      ":interval(warning): CLerpNodePathInterval::priv_step() called for LerpPosQuatInterval-75387 in state final.\n",
      ":interval(warning): CLerpNodePathInterval::priv_step() called for LerpPosInterval-75388 in state final.\n",
      ":interval(warning): CLerpNodePathInterval::priv_step() called for LerpPosQuatInterval-75481 in state final.\n",
      ":interval(warning): CLerpNodePathInterval::priv_step() called for LerpPosInterval-75482 in state final.\n",
      ":interval(warning): CLerpNodePathInterval::priv_step() called for LerpPosQuatInterval-76657 in state final.\n",
      ":interval(warning): CLerpNodePathInterval::priv_step() called for LerpPosInterval-76658 in state final.\n",
      ":interval(warning): CLerpNodePathInterval::priv_step() called for LerpPosQuatInterval-75481 in state final.\n",
      ":interval(warning): CLerpNodePathInterval::priv_step() called for LerpPosInterval-75482 in state final.\n",
      ":interval(warning): CLerpNodePathInterval::priv_step() called for LerpPosQuatInterval-76657 in state final.\n",
      ":interval(warning): CLerpNodePathInterval::priv_step() called for LerpPosInterval-76658 in state final.\n",
      ":interval(warning): CLerpNodePathInterval::priv_step() called for LerpPosQuatInterval-79177 in state final.\n",
      ":interval(warning): CLerpNodePathInterval::priv_step() called for LerpPosInterval-79178 in state final.\n",
      ":interval(warning): CLerpNodePathInterval::priv_step() called for LerpPosQuatInterval-80111 in state final.\n",
      ":interval(warning): CLerpNodePathInterval::priv_step() called for LerpPosInterval-80112 in state final.\n",
      ":interval(warning): CLerpNodePathInterval::priv_step() called for LerpPosQuatInterval-80151 in state final.\n",
      ":interval(warning): CLerpNodePathInterval::priv_step() called for LerpPosInterval-80152 in state final.\n",
      ":interval(warning): CLerpNodePathInterval::priv_step() called for LerpPosQuatInterval-80721 in state final.\n",
      ":interval(warning): CLerpNodePathInterval::priv_step() called for LerpPosInterval-80722 in state final.\n"
     ]
    }
   ],
   "source": [
    "for i in range(10):\n",
    "    coord = df.iloc[i]\n",
    "\n",
    "    ball_dic = {'cue': [coord[0], coord[1], 0.028575],\n",
    "     '1': [coord[2], coord[3], 0.028575],\n",
    "     '2': [coord[4], coord[5], 0.028575]}\n",
    "\n",
    "    balls={ key : pt.Ball(key, xyz=value) for key, value in ball_dic.items() }\n",
    "\n",
    "    speed, vspin, hspin = act_to_aim2(coord[6])\n",
    "\n",
    "    cue = pt.Cue(cueing_ball=balls['cue'])\n",
    "    cue.aim_for_best_pocket(balls['1'], pockets.values())\n",
    "    cue.strike(V0=0, b=vspin, a=hspin)\n",
    "\n",
    "    shot = pt.System(cue=cue, table=table, balls=balls)\n",
    "\n",
    "    interface.show(shot)\n",
    "\n",
    "\n",
    "    cue.strike(V0=speed, b=vspin, a=hspin)\n",
    "    shot = pt.System(cue=cue, table=table, balls=balls)\n",
    "    shot.simulate(continuize=True)\n",
    "    interface.show(shot)"
   ]
  },
  {
   "cell_type": "code",
   "execution_count": 12,
   "id": "e13e244d-1440-48dc-b707-ccc6759804dd",
   "metadata": {
    "tags": []
   },
   "outputs": [
    {
     "name": "stderr",
     "output_type": "stream",
     "text": [
      "Known pipe types:\n",
      "  CocoaGraphicsPipe\n",
      "(all display modules loaded.)\n"
     ]
    }
   ],
   "source": [
    "interface = pt.ShotViewer()"
   ]
  },
  {
   "cell_type": "code",
   "execution_count": 46,
   "id": "f03983a8-9db6-45bc-9882-48c3b869fd19",
   "metadata": {
    "tags": []
   },
   "outputs": [
    {
     "name": "stdout",
     "output_type": "stream",
     "text": [
      "{'cue': <Ball object at 0x2ae63cfd0>\n",
      " ├── id       : cue\n",
      " ├── state    : 0\n",
      " ├── position : [0.8804105324 1.5213745303 0.028575    ]\n",
      " ├── velocity : [-0. -0.  0.]\n",
      " └── angular  : [ 0. -0.  0.]\n",
      ", '1': <Ball object at 0x2ae63fd00>\n",
      " ├── id       : 1\n",
      " ├── state    : 4\n",
      " ├── position : [ 1.05947  0.9906  -0.08   ]\n",
      " ├── velocity : [0. 0. 0.]\n",
      " └── angular  : [0. 0. 0.]\n",
      ", '2': <Ball object at 0x2ae63c490>\n",
      " ├── id       : 2\n",
      " ├── state    : 0\n",
      " ├── position : [0.8467159008 1.3212395241 0.028575    ]\n",
      " ├── velocity : [0. 0. 0.]\n",
      " └── angular  : [0. 0. 0.]\n",
      "}\n"
     ]
    }
   ],
   "source": [
    "coord = df.iloc[0]\n",
    "\n",
    "ball_dic = {'cue': [coord[0], coord[1], 0.028575],\n",
    " '1': [coord[2], coord[3], 0.028575],\n",
    " '2': [coord[4], coord[5], 0.028575]}\n",
    "\n",
    "balls={ key : pt.Ball(key, xyz=value) for key, value in ball_dic.items() }\n",
    "\n",
    "speed, vspin, hspin = act_to_aim(coord[6])\n",
    "    \n",
    "cue = pt.Cue(cueing_ball=balls['cue'])\n",
    "cue.aim_for_best_pocket(balls['1'], pockets.values())\n",
    "cue.strike(V0=speed, b=vspin, a=hspin)\n",
    "\n",
    "shot = pt.System(cue=cue, table=table, balls=balls)\n",
    "\n",
    "shot.simulate()\n",
    "print(balls)"
   ]
  },
  {
   "cell_type": "code",
   "execution_count": 51,
   "id": "dc5b9f3b-de16-49ea-ab7a-3be6d661ce01",
   "metadata": {
    "tags": []
   },
   "outputs": [
    {
     "data": {
      "text/plain": [
       "tensor([0.9568], grad_fn=<SigmoidBackward0>)"
      ]
     },
     "execution_count": 51,
     "metadata": {},
     "output_type": "execute_result"
    }
   ],
   "source": [
    "reg_net(torch.as_tensor(np.hstack((balls['cue'].rvw[0,:2],\n",
    "                                                          balls['2'].rvw[0,:2])), dtype=torch.float32))"
   ]
  },
  {
   "cell_type": "code",
   "execution_count": 56,
   "id": "0edd98bf-79d3-4a8f-b6a7-131fd7ebbb62",
   "metadata": {},
   "outputs": [],
   "source": [
    "big = pt.Cue"
   ]
  },
  {
   "cell_type": "code",
   "execution_count": 59,
   "id": "2ef2e5f5-de5b-4bfc-9e69-0489bb5f98be",
   "metadata": {},
   "outputs": [
    {
     "ename": "TypeError",
     "evalue": "set_state() missing 1 required positional argument: 'self'",
     "output_type": "error",
     "traceback": [
      "\u001b[1;31m---------------------------------------------------------------------------\u001b[0m",
      "\u001b[1;31mTypeError\u001b[0m                                 Traceback (most recent call last)",
      "\u001b[1;32m~\\AppData\\Local\\Temp\\ipykernel_11820\\3403452809.py\u001b[0m in \u001b[0;36m<module>\u001b[1;34m\u001b[0m\n\u001b[1;32m----> 1\u001b[1;33m \u001b[0mbig\u001b[0m\u001b[1;33m.\u001b[0m\u001b[0mset_state\u001b[0m\u001b[1;33m(\u001b[0m\u001b[0mcue_ball_id\u001b[0m \u001b[1;33m=\u001b[0m \u001b[1;34m'cue'\u001b[0m\u001b[1;33m)\u001b[0m\u001b[1;33m\u001b[0m\u001b[1;33m\u001b[0m\u001b[0m\n\u001b[0m",
      "\u001b[1;31mTypeError\u001b[0m: set_state() missing 1 required positional argument: 'self'"
     ]
    }
   ],
   "source": [
    "big.set_state(cue_ball_id = 'cue')"
   ]
  },
  {
   "cell_type": "code",
   "execution_count": 61,
   "id": "2b2929e4-a582-47fb-a2c2-3a4d6472bf1c",
   "metadata": {},
   "outputs": [
    {
     "ename": "AttributeError",
     "evalue": "'Cue' object attribute 'cue_ball_id' is read-only",
     "output_type": "error",
     "traceback": [
      "\u001b[1;31m---------------------------------------------------------------------------\u001b[0m",
      "\u001b[1;31mAttributeError\u001b[0m                            Traceback (most recent call last)",
      "\u001b[1;32m~\\AppData\\Local\\Temp\\ipykernel_11820\\2784950348.py\u001b[0m in \u001b[0;36m<module>\u001b[1;34m\u001b[0m\n\u001b[1;32m----> 1\u001b[1;33m \u001b[0mpt\u001b[0m\u001b[1;33m.\u001b[0m\u001b[0mCue\u001b[0m\u001b[1;33m(\u001b[0m\u001b[1;34m'cue'\u001b[0m\u001b[1;33m)\u001b[0m\u001b[1;33m\u001b[0m\u001b[1;33m\u001b[0m\u001b[0m\n\u001b[0m",
      "\u001b[1;32m~\\anaconda3\\lib\\site-packages\\pooltool\\objects\\cue\\datatypes.py\u001b[0m in \u001b[0;36m__init__\u001b[1;34m(self, id, V0, phi, theta, a, b, cue_ball_id, specs)\u001b[0m\n\u001b[0;32m      6\u001b[0m     \u001b[0mself\u001b[0m\u001b[1;33m.\u001b[0m\u001b[0ma\u001b[0m \u001b[1;33m=\u001b[0m \u001b[0ma\u001b[0m\u001b[1;33m\u001b[0m\u001b[1;33m\u001b[0m\u001b[0m\n\u001b[0;32m      7\u001b[0m     \u001b[0mself\u001b[0m\u001b[1;33m.\u001b[0m\u001b[0mb\u001b[0m \u001b[1;33m=\u001b[0m \u001b[0mb\u001b[0m\u001b[1;33m\u001b[0m\u001b[1;33m\u001b[0m\u001b[0m\n\u001b[1;32m----> 8\u001b[1;33m     \u001b[0mself\u001b[0m\u001b[1;33m.\u001b[0m\u001b[0mcue_ball_id\u001b[0m \u001b[1;33m=\u001b[0m \u001b[0mcue_ball_id\u001b[0m\u001b[1;33m\u001b[0m\u001b[1;33m\u001b[0m\u001b[0m\n\u001b[0m\u001b[0;32m      9\u001b[0m     \u001b[1;32mif\u001b[0m \u001b[0mspecs\u001b[0m \u001b[1;32mis\u001b[0m \u001b[1;32mnot\u001b[0m \u001b[0mNOTHING\u001b[0m\u001b[1;33m:\u001b[0m\u001b[1;33m\u001b[0m\u001b[1;33m\u001b[0m\u001b[0m\n\u001b[0;32m     10\u001b[0m         \u001b[0mself\u001b[0m\u001b[1;33m.\u001b[0m\u001b[0mspecs\u001b[0m \u001b[1;33m=\u001b[0m \u001b[0mspecs\u001b[0m\u001b[1;33m\u001b[0m\u001b[1;33m\u001b[0m\u001b[0m\n",
      "\u001b[1;31mAttributeError\u001b[0m: 'Cue' object attribute 'cue_ball_id' is read-only"
     ]
    }
   ],
   "source": [
    "pt.Cue('cue')"
   ]
  },
  {
   "cell_type": "code",
   "execution_count": 54,
   "id": "3fc65036-ce8d-498d-87e8-031b86478460",
   "metadata": {},
   "outputs": [
    {
     "ename": "AttributeError",
     "evalue": "'Cue' object attribute 'cue_ball_id' is read-only",
     "output_type": "error",
     "traceback": [
      "\u001b[1;31m---------------------------------------------------------------------------\u001b[0m",
      "\u001b[1;31mAttributeError\u001b[0m                            Traceback (most recent call last)",
      "\u001b[1;32m~\\AppData\\Local\\Temp\\ipykernel_11820\\3818178368.py\u001b[0m in \u001b[0;36m<module>\u001b[1;34m\u001b[0m\n\u001b[1;32m----> 1\u001b[1;33m \u001b[0mpt\u001b[0m\u001b[1;33m.\u001b[0m\u001b[0mCue\u001b[0m\u001b[1;33m(\u001b[0m\u001b[1;33m)\u001b[0m\u001b[1;33m.\u001b[0m\u001b[0mset_state\u001b[0m\u001b[1;33m(\u001b[0m\u001b[1;33m)\u001b[0m\u001b[1;33m\u001b[0m\u001b[1;33m\u001b[0m\u001b[0m\n\u001b[0m",
      "\u001b[1;32m~\\anaconda3\\lib\\site-packages\\pooltool\\objects\\cue\\datatypes.py\u001b[0m in \u001b[0;36m__init__\u001b[1;34m(self, id, V0, phi, theta, a, b, cue_ball_id, specs)\u001b[0m\n\u001b[0;32m      6\u001b[0m     \u001b[0mself\u001b[0m\u001b[1;33m.\u001b[0m\u001b[0ma\u001b[0m \u001b[1;33m=\u001b[0m \u001b[0ma\u001b[0m\u001b[1;33m\u001b[0m\u001b[1;33m\u001b[0m\u001b[0m\n\u001b[0;32m      7\u001b[0m     \u001b[0mself\u001b[0m\u001b[1;33m.\u001b[0m\u001b[0mb\u001b[0m \u001b[1;33m=\u001b[0m \u001b[0mb\u001b[0m\u001b[1;33m\u001b[0m\u001b[1;33m\u001b[0m\u001b[0m\n\u001b[1;32m----> 8\u001b[1;33m     \u001b[0mself\u001b[0m\u001b[1;33m.\u001b[0m\u001b[0mcue_ball_id\u001b[0m \u001b[1;33m=\u001b[0m \u001b[0mcue_ball_id\u001b[0m\u001b[1;33m\u001b[0m\u001b[1;33m\u001b[0m\u001b[0m\n\u001b[0m\u001b[0;32m      9\u001b[0m     \u001b[1;32mif\u001b[0m \u001b[0mspecs\u001b[0m \u001b[1;32mis\u001b[0m \u001b[1;32mnot\u001b[0m \u001b[0mNOTHING\u001b[0m\u001b[1;33m:\u001b[0m\u001b[1;33m\u001b[0m\u001b[1;33m\u001b[0m\u001b[0m\n\u001b[0;32m     10\u001b[0m         \u001b[0mself\u001b[0m\u001b[1;33m.\u001b[0m\u001b[0mspecs\u001b[0m \u001b[1;33m=\u001b[0m \u001b[0mspecs\u001b[0m\u001b[1;33m\u001b[0m\u001b[1;33m\u001b[0m\u001b[0m\n",
      "\u001b[1;31mAttributeError\u001b[0m: 'Cue' object attribute 'cue_ball_id' is read-only"
     ]
    }
   ],
   "source": [
    "pt.Cue().set_state()"
   ]
  },
  {
   "cell_type": "code",
   "execution_count": null,
   "id": "c1455a96-cc7d-4904-9710-3da167b2076b",
   "metadata": {},
   "outputs": [],
   "source": []
  }
 ],
 "metadata": {
  "kernelspec": {
   "display_name": "Python 3 (ipykernel)",
   "language": "python",
   "name": "python3"
  },
  "language_info": {
   "codemirror_mode": {
    "name": "ipython",
    "version": 3
   },
   "file_extension": ".py",
   "mimetype": "text/x-python",
   "name": "python",
   "nbconvert_exporter": "python",
   "pygments_lexer": "ipython3",
   "version": "3.9.13"
  }
 },
 "nbformat": 4,
 "nbformat_minor": 5
}
