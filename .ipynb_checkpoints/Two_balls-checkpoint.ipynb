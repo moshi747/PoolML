{
 "cells": [
  {
   "cell_type": "code",
   "execution_count": 1,
   "id": "d9f1da64-8de0-4ed6-8853-20869c7a9992",
   "metadata": {},
   "outputs": [],
   "source": [
    "import math\n",
    "import numpy as np\n",
    "import random\n",
    "from copy import deepcopy\n",
    "\n",
    "import torch\n",
    "import torch.nn as nn\n",
    "import torch.optim as optim\n",
    "import torch.nn.functional as F\n",
    "from torch.optim import Adam"
   ]
  },
  {
   "cell_type": "code",
   "execution_count": 2,
   "id": "f8482280-5fff-4a01-91e0-1082437917a0",
   "metadata": {
    "tags": []
   },
   "outputs": [],
   "source": [
    "import pooltool as pt"
   ]
  },
  {
   "cell_type": "code",
   "execution_count": 3,
   "id": "a4a1b1fb-d1af-49c9-8938-783123a5cd42",
   "metadata": {
    "tags": []
   },
   "outputs": [],
   "source": [
    "import pandas as pd"
   ]
  },
  {
   "cell_type": "code",
   "execution_count": 4,
   "id": "73dfa799-5d0f-4d7d-aad2-21ab2c5b4bc8",
   "metadata": {},
   "outputs": [],
   "source": [
    "reg_net = torch.load('reg_net.pt')"
   ]
  },
  {
   "cell_type": "code",
   "execution_count": 5,
   "id": "95c445c8-07bf-4afb-b5b6-1b803b1af9eb",
   "metadata": {},
   "outputs": [],
   "source": [
    "labels = ['cue', '1', '2', '3', '4', '5', '6', '7', '8', '9']\n",
    "\n",
    "def shoot(balls, act):\n",
    "\n",
    "    cue = pt.Cue(cueing_ball=balls['cue'])\n",
    "    target = list(balls.keys())[1]\n",
    "    cue.aim_for_best_pocket(balls[target], pockets.values())\n",
    "\n",
    "    speed, vspin, hspin = act_to_aim(act)\n",
    "    cue.strike(V0=speed, b=vspin, a=hspin)\n",
    "\n",
    "    # Evolve the shot\n",
    "    shot = pt.System(cue=cue, table=table, balls=balls)\n",
    "\n",
    "    try:\n",
    "        shot.simulate(continuize=True)\n",
    "\n",
    "    except:\n",
    "        print('exception')\n",
    "\n",
    "    on_table = [key for key, value in balls.items() if value.rvw[0,2] > 0]\n",
    "    \n",
    "    if on_table == []:\n",
    "        return {}\n",
    "\n",
    "    balls = {key : balls[key] for key in on_table}\n",
    "    \n",
    "    return balls\n",
    "\n",
    "        \n",
    "def random_ball():\n",
    "    a = np.random.rand(2)\n",
    "    a[0] = (0.93)*a[0]+0.03\n",
    "    a[1] = (1.92)*a[1]+0.03\n",
    "    return a\n",
    "\n",
    "def generate_balls(n):\n",
    "    points = []\n",
    "    points.append(random_ball())\n",
    "    \n",
    "    for _ in range(n):\n",
    "        close = True\n",
    "        while close:\n",
    "            test = random_ball()\n",
    "            close = False\n",
    "            for point in points:\n",
    "                if np.square(point - test).sum() < 0.06:\n",
    "                    close = True\n",
    "                    break\n",
    "        points.append(test)\n",
    "    \n",
    "    balls = {}\n",
    "    \n",
    "    for i in range(n+1):\n",
    "        balls[labels[i]] = pt.Ball(labels[i], xyz=points[i])\n",
    "        \n",
    "    return balls\n",
    "\n",
    "def ball_to_obs(balls):\n",
    "    ar = [x.rvw[0][:2] for x in balls.values()]\n",
    "    #extra = np.zeros(2*(starting_ball_amount+1-len(ar)))\n",
    "    #ar.append(extra)\n",
    "    return np.hstack(ar)\n",
    "\n",
    "def obs_to_ball(obs):\n",
    "    balls = {}\n",
    "    for i in range(len(obs)//2):\n",
    "        balls[labels[i]] = pt.Ball(labels[i], xyz=points[i])\n",
    "    return balls\n",
    "\n",
    "def balls_to_obs(balls):\n",
    "    ar = tuple(x.rvw[0,:2] for x in balls.values())\n",
    "    return np.hstack(ar)\n",
    "\n",
    "def act_to_aim(act):\n",
    "    speed = act%9*0.3+0.3\n",
    "    vspin = act%11*0.1-0.5\n",
    "    hspin = act%9*0.1-0.4\n",
    "    return speed, vspin, hspin\n"
   ]
  },
  {
   "cell_type": "code",
   "execution_count": 186,
   "id": "0fdb4591-de00-43bd-9750-c5dfde6eeefe",
   "metadata": {},
   "outputs": [],
   "source": [
    "def find_best_stroke(balls):\n",
    "    high_score = 0\n",
    "    choice = 0\n",
    "    for act in range(891):\n",
    "        test_balls = deepcopy(balls)\n",
    "        test_balls = shoot(test_balls, act)\n",
    "        if len(test_balls) != 2 or not 'cue' in test_balls.keys():\n",
    "            continue\n",
    "\n",
    "        appraisal = reg_net(torch.as_tensor(np.array(ball_to_obs(test_balls)[:4]), dtype=torch.float32)).item()\n",
    "        if appraisal > high_score:\n",
    "            choice = act\n",
    "            high_score = appraisal\n",
    "    return choice"
   ]
  },
  {
   "cell_type": "code",
   "execution_count": 215,
   "id": "4055e77f-0751-4278-8941-fed4612c094d",
   "metadata": {},
   "outputs": [
    {
     "name": "stderr",
     "output_type": "stream",
     "text": [
      ":interval(warning): CLerpNodePathInterval::priv_step() called for LerpPosQuatInterval-76939 in state final.\n",
      ":interval(warning): CLerpNodePathInterval::priv_step() called for LerpPosInterval-76940 in state final.\n",
      ":interval(warning): CLerpNodePathInterval::priv_step() called for LerpPosQuatInterval-78539 in state final.\n",
      ":interval(warning): CLerpNodePathInterval::priv_step() called for LerpPosInterval-78540 in state final.\n",
      ":interval(warning): CLerpNodePathInterval::priv_step() called for LerpPosQuatInterval-76939 in state final.\n",
      ":interval(warning): CLerpNodePathInterval::priv_step() called for LerpPosInterval-76940 in state final.\n",
      ":interval(warning): CLerpNodePathInterval::priv_step() called for LerpPosQuatInterval-78539 in state final.\n",
      ":interval(warning): CLerpNodePathInterval::priv_step() called for LerpPosInterval-78540 in state final.\n",
      ":interval(warning): CLerpNodePathInterval::priv_step() called for LerpPosQuatInterval-76939 in state final.\n",
      ":interval(warning): CLerpNodePathInterval::priv_step() called for LerpPosInterval-76940 in state final.\n",
      ":interval(warning): CLerpNodePathInterval::priv_step() called for LerpPosQuatInterval-78539 in state final.\n",
      ":interval(warning): CLerpNodePathInterval::priv_step() called for LerpPosInterval-78540 in state final.\n",
      ":interval(warning): CLerpNodePathInterval::priv_step() called for LerpPosQuatInterval-76939 in state final.\n",
      ":interval(warning): CLerpNodePathInterval::priv_step() called for LerpPosInterval-76940 in state final.\n",
      ":interval(warning): CLerpNodePathInterval::priv_step() called for LerpPosQuatInterval-78539 in state final.\n",
      ":interval(warning): CLerpNodePathInterval::priv_step() called for LerpPosInterval-78540 in state final.\n"
     ]
    }
   ],
   "source": [
    "#View shot\n",
    "\n",
    "table = pt.PocketTable(model_name=\"7_foot\")\n",
    "pockets = table.get_pockets()\n",
    "balls = generate_balls(2)\n",
    "act = find_best_stroke(balls)\n",
    "\n",
    "speed, vspin, hspin = act_to_aim(act)\n",
    "\n",
    "target = list(balls.keys())[1]\n",
    "\n",
    "cue = pt.Cue(cueing_ball=balls['cue'])\n",
    "cue.aim_for_best_pocket(balls[target], pockets.values())\n",
    "cue.strike(V0=speed, b=vspin, a=hspin,)\n",
    "\n",
    "# Evolve the shot\n",
    "shot = pt.System(cue=cue, table=table, balls=balls)\n",
    "\n",
    "shot.simulate(continuize=True)\n",
    "\n",
    "interface.show(shot)"
   ]
  },
  {
   "cell_type": "code",
   "execution_count": 7,
   "id": "eebef8e8-49aa-4c00-97ec-386e5cd3e4b1",
   "metadata": {},
   "outputs": [
    {
     "name": "stderr",
     "output_type": "stream",
     "text": [
      "Known pipe types:\n",
      "  CocoaGraphicsPipe\n",
      "(all display modules loaded.)\n"
     ]
    }
   ],
   "source": [
    "interface = pt.ShotViewer()"
   ]
  },
  {
   "cell_type": "code",
   "execution_count": 11,
   "id": "ec8d37b8-aadf-438e-be6c-ab1be0a4f8bd",
   "metadata": {},
   "outputs": [],
   "source": [
    "#Supervized learning model\n",
    "\n",
    "def mlp(sizes, activation=nn.ReLU, output_activation=nn.Tanh):\n",
    "    # Build a feedforward neural network.\n",
    "    layers = []\n",
    "    for j in range(len(sizes)-1):\n",
    "        act = activation if j < len(sizes)-2 else output_activation\n",
    "        layers += [nn.Linear(sizes[j], sizes[j+1]), act()]\n",
    "    return nn.Sequential(*layers)\n",
    "\n",
    "def get_batch(df, n):\n",
    "    sample = df.sample(n=n)\n",
    "    return sample\n",
    "\n",
    "def train(df, estimator=None, hidden_sizes=[32], lr=1e-2, \n",
    "          epochs=50):\n",
    "    \n",
    "    col = len(df.iloc[0])-1\n",
    "\n",
    "    # make core of regression network if it's not there\n",
    "    if estimator is None:\n",
    "        reg_net = mlp(sizes=[col]+hidden_sizes+[1])\n",
    "    else:\n",
    "        reg_net = estimator\n",
    "\n",
    "    # make prediction\n",
    "    def get_pred(obs):\n",
    "        return reg_net(obs)*100\n",
    "\n",
    "    # make loss function\n",
    "    def compute_loss(pred, true):\n",
    "        loss = torch.pow(pred - true, 2).mean()\n",
    "        return loss\n",
    "\n",
    "    # make optimizer\n",
    "    optimizer = Adam(reg_net.parameters(), lr=lr)\n",
    "\n",
    "    # for training policy\n",
    "    def train_one_epoch():\n",
    "\n",
    "        # get predictions\n",
    "        sample = get_batch(df, 1000)\n",
    "        pred = get_pred(torch.as_tensor(np.array(sample.iloc[:,:-1]), dtype=torch.float32))\n",
    "\n",
    "        # take a single regression gradient update step\n",
    "        optimizer.zero_grad()\n",
    "        batch_loss = compute_loss(pred,\n",
    "                                  torch.as_tensor(np.array(sample.iloc[:,-1:]), dtype=torch.int8)\n",
    "                                  )\n",
    "        batch_loss.backward()\n",
    "        optimizer.step()\n",
    "        return batch_loss\n",
    "\n",
    "    # training loop\n",
    "    for i in range(epochs):\n",
    "        batch_loss = train_one_epoch()\n",
    "        if i%1000 == 0:\n",
    "            print('epoch: %3d \\t loss: %.3f'%\n",
    "                    (i, batch_loss))\n",
    "    return reg_net\n",
    "\n",
    "def test(reg_net, df):\n",
    "    pred = reg_net(torch.as_tensor(np.array(df.iloc[:,:-1]), dtype=torch.float32))\n",
    "    true = torch.as_tensor(np.array(df.iloc[:,-1:]), dtype=torch.int32)\n",
    "    mse = torch.pow(pred*100 - true, 2).mean()\n",
    "    return mse\n",
    "\n",
    "def compare(reg_net, df):\n",
    "    pred = reg_net(torch.as_tensor(np.array(df.iloc[:,:-1]), dtype=torch.float32))\n",
    "    pred_np = pred.detach().numpy()*100\n",
    "    return np.hstack([np.array(df.iloc[:,-1:]), pred_np])"
   ]
  },
  {
   "cell_type": "code",
   "execution_count": 7,
   "id": "1bfeaa9b-ce58-4b59-a100-a7ba4870a196",
   "metadata": {
    "tags": []
   },
   "outputs": [],
   "source": [
    "#Generate random hit data\n",
    "\n",
    "def get_data(steps):\n",
    "\n",
    "    table = pt.PocketTable(model_name=\"7_foot\")\n",
    "    pockets = table.get_pockets()\n",
    "\n",
    "    df = pd.DataFrame(columns = ['cue_x', 'cue_y', 'one_x', 'one_y', 'two_x', 'two_y', 'speed', 'vspin', 'hspin', 'value'])\n",
    "\n",
    "    for i in range(steps):\n",
    "        balls = generate_balls(2)\n",
    "        obs = balls_to_obs(balls)\n",
    "        target = list(balls.keys())[1]\n",
    "        cue = pt.Cue(cueing_ball=balls['cue'])\n",
    "        cue.aim_for_best_pocket(balls[target], pockets.values())\n",
    "\n",
    "        #randomly generate hit\n",
    "\n",
    "        a = np.random.rand(3)\n",
    "        a = np.array([3, 1, 0.6])*a + np.array([0,-0.5,-0.3])\n",
    "\n",
    "        #execute shot\n",
    "        cue.strike(V0=a[0], b=a[1], a=a[2])\n",
    "        shot = pt.System(cue=cue, table=table, balls=balls)\n",
    "\n",
    "        try:\n",
    "            shot.simulate()\n",
    "            on_table = [key for key, value in balls.items() if value.rvw[0,2] > 0]\n",
    "\n",
    "            if (balls['2'].rvw[0,:2] != balls['2'].rvw[0,:2]).any():\n",
    "                score = 0\n",
    "\n",
    "            elif 'cue' in on_table and '1' not in on_table and '2' in on_table:\n",
    "                pred = reg_net(torch.as_tensor(np.hstack((balls['cue'].rvw[0,:2],\n",
    "                                                          balls['2'].rvw[0,:2])), dtype=torch.float32))\n",
    "                score = pred.item()*100\n",
    "\n",
    "            else:\n",
    "                score = -100\n",
    "\n",
    "        except:\n",
    "            continue\n",
    "\n",
    "        row = np.hstack((obs, a, [score]))\n",
    "        df.loc[len(df.index)] = row\n",
    "\n",
    "    return df"
   ]
  },
  {
   "cell_type": "code",
   "execution_count": 54,
   "id": "7c0c67a9-5d64-4e4c-a452-39fceeab8e7d",
   "metadata": {
    "tags": []
   },
   "outputs": [],
   "source": [
    "df = get_data(100000)"
   ]
  },
  {
   "cell_type": "code",
   "execution_count": 34,
   "id": "563f3827-a600-4785-865d-6e59fa4553b3",
   "metadata": {
    "tags": []
   },
   "outputs": [
    {
     "data": {
      "text/plain": [
       "-8.855270114759163"
      ]
     },
     "execution_count": 34,
     "metadata": {},
     "output_type": "execute_result"
    }
   ],
   "source": [
    "df.value.mean()"
   ]
  },
  {
   "cell_type": "code",
   "execution_count": 55,
   "id": "4c7ab461-40a9-40d7-a624-eed54b96c495",
   "metadata": {
    "tags": []
   },
   "outputs": [],
   "source": [
    "cdf = pd.concat([df, cdf])"
   ]
  },
  {
   "cell_type": "code",
   "execution_count": 56,
   "id": "b89f3a5a-1442-4935-96d1-9841b82f6fa1",
   "metadata": {
    "tags": []
   },
   "outputs": [
    {
     "data": {
      "text/html": [
       "<div>\n",
       "<style scoped>\n",
       "    .dataframe tbody tr th:only-of-type {\n",
       "        vertical-align: middle;\n",
       "    }\n",
       "\n",
       "    .dataframe tbody tr th {\n",
       "        vertical-align: top;\n",
       "    }\n",
       "\n",
       "    .dataframe thead th {\n",
       "        text-align: right;\n",
       "    }\n",
       "</style>\n",
       "<table border=\"1\" class=\"dataframe\">\n",
       "  <thead>\n",
       "    <tr style=\"text-align: right;\">\n",
       "      <th></th>\n",
       "      <th>cue_x</th>\n",
       "      <th>cue_y</th>\n",
       "      <th>one_x</th>\n",
       "      <th>one_y</th>\n",
       "      <th>two_x</th>\n",
       "      <th>two_y</th>\n",
       "      <th>speed</th>\n",
       "      <th>vspin</th>\n",
       "      <th>hspin</th>\n",
       "      <th>value</th>\n",
       "    </tr>\n",
       "  </thead>\n",
       "  <tbody>\n",
       "    <tr>\n",
       "      <th>0</th>\n",
       "      <td>0.763430</td>\n",
       "      <td>1.440257</td>\n",
       "      <td>0.169685</td>\n",
       "      <td>1.462369</td>\n",
       "      <td>0.240710</td>\n",
       "      <td>0.644611</td>\n",
       "      <td>2.604395</td>\n",
       "      <td>0.167688</td>\n",
       "      <td>-0.174082</td>\n",
       "      <td>-100.000000</td>\n",
       "    </tr>\n",
       "    <tr>\n",
       "      <th>1</th>\n",
       "      <td>0.291909</td>\n",
       "      <td>1.510707</td>\n",
       "      <td>0.564651</td>\n",
       "      <td>1.801589</td>\n",
       "      <td>0.331328</td>\n",
       "      <td>1.121993</td>\n",
       "      <td>0.739555</td>\n",
       "      <td>0.430319</td>\n",
       "      <td>0.298032</td>\n",
       "      <td>98.997408</td>\n",
       "    </tr>\n",
       "    <tr>\n",
       "      <th>2</th>\n",
       "      <td>0.380535</td>\n",
       "      <td>0.230496</td>\n",
       "      <td>0.666107</td>\n",
       "      <td>0.420873</td>\n",
       "      <td>0.371221</td>\n",
       "      <td>1.475326</td>\n",
       "      <td>2.132442</td>\n",
       "      <td>-0.214466</td>\n",
       "      <td>0.286296</td>\n",
       "      <td>19.203024</td>\n",
       "    </tr>\n",
       "    <tr>\n",
       "      <th>3</th>\n",
       "      <td>0.263268</td>\n",
       "      <td>1.839438</td>\n",
       "      <td>0.918798</td>\n",
       "      <td>1.886039</td>\n",
       "      <td>0.597970</td>\n",
       "      <td>1.379408</td>\n",
       "      <td>0.828687</td>\n",
       "      <td>0.155783</td>\n",
       "      <td>-0.192457</td>\n",
       "      <td>66.579920</td>\n",
       "    </tr>\n",
       "    <tr>\n",
       "      <th>4</th>\n",
       "      <td>0.494110</td>\n",
       "      <td>0.173006</td>\n",
       "      <td>0.958246</td>\n",
       "      <td>1.710236</td>\n",
       "      <td>0.928815</td>\n",
       "      <td>0.030223</td>\n",
       "      <td>2.364499</td>\n",
       "      <td>0.206003</td>\n",
       "      <td>-0.187373</td>\n",
       "      <td>63.674426</td>\n",
       "    </tr>\n",
       "    <tr>\n",
       "      <th>...</th>\n",
       "      <td>...</td>\n",
       "      <td>...</td>\n",
       "      <td>...</td>\n",
       "      <td>...</td>\n",
       "      <td>...</td>\n",
       "      <td>...</td>\n",
       "      <td>...</td>\n",
       "      <td>...</td>\n",
       "      <td>...</td>\n",
       "      <td>...</td>\n",
       "    </tr>\n",
       "    <tr>\n",
       "      <th>399887</th>\n",
       "      <td>0.346444</td>\n",
       "      <td>1.947722</td>\n",
       "      <td>0.775000</td>\n",
       "      <td>0.456012</td>\n",
       "      <td>0.781778</td>\n",
       "      <td>1.712285</td>\n",
       "      <td>0.826913</td>\n",
       "      <td>-0.041827</td>\n",
       "      <td>-0.161269</td>\n",
       "      <td>41.300017</td>\n",
       "    </tr>\n",
       "    <tr>\n",
       "      <th>399888</th>\n",
       "      <td>0.376960</td>\n",
       "      <td>1.468631</td>\n",
       "      <td>0.587283</td>\n",
       "      <td>0.823795</td>\n",
       "      <td>0.653248</td>\n",
       "      <td>1.766823</td>\n",
       "      <td>2.743712</td>\n",
       "      <td>-0.010850</td>\n",
       "      <td>0.202223</td>\n",
       "      <td>27.634087</td>\n",
       "    </tr>\n",
       "    <tr>\n",
       "      <th>399889</th>\n",
       "      <td>0.065372</td>\n",
       "      <td>0.475757</td>\n",
       "      <td>0.484679</td>\n",
       "      <td>1.140897</td>\n",
       "      <td>0.131480</td>\n",
       "      <td>1.376145</td>\n",
       "      <td>1.081166</td>\n",
       "      <td>0.115485</td>\n",
       "      <td>-0.226151</td>\n",
       "      <td>1.667846</td>\n",
       "    </tr>\n",
       "    <tr>\n",
       "      <th>399890</th>\n",
       "      <td>0.198073</td>\n",
       "      <td>1.307141</td>\n",
       "      <td>0.100374</td>\n",
       "      <td>0.540258</td>\n",
       "      <td>0.851241</td>\n",
       "      <td>1.017936</td>\n",
       "      <td>0.484090</td>\n",
       "      <td>0.244350</td>\n",
       "      <td>-0.297313</td>\n",
       "      <td>50.665212</td>\n",
       "    </tr>\n",
       "    <tr>\n",
       "      <th>399891</th>\n",
       "      <td>0.429520</td>\n",
       "      <td>0.125506</td>\n",
       "      <td>0.195081</td>\n",
       "      <td>0.907900</td>\n",
       "      <td>0.109231</td>\n",
       "      <td>0.447903</td>\n",
       "      <td>2.677512</td>\n",
       "      <td>-0.345064</td>\n",
       "      <td>-0.099456</td>\n",
       "      <td>72.978973</td>\n",
       "    </tr>\n",
       "  </tbody>\n",
       "</table>\n",
       "<p>799759 rows × 10 columns</p>\n",
       "</div>"
      ],
      "text/plain": [
       "           cue_x     cue_y     one_x     one_y     two_x     two_y     speed  \\\n",
       "0       0.763430  1.440257  0.169685  1.462369  0.240710  0.644611  2.604395   \n",
       "1       0.291909  1.510707  0.564651  1.801589  0.331328  1.121993  0.739555   \n",
       "2       0.380535  0.230496  0.666107  0.420873  0.371221  1.475326  2.132442   \n",
       "3       0.263268  1.839438  0.918798  1.886039  0.597970  1.379408  0.828687   \n",
       "4       0.494110  0.173006  0.958246  1.710236  0.928815  0.030223  2.364499   \n",
       "...          ...       ...       ...       ...       ...       ...       ...   \n",
       "399887  0.346444  1.947722  0.775000  0.456012  0.781778  1.712285  0.826913   \n",
       "399888  0.376960  1.468631  0.587283  0.823795  0.653248  1.766823  2.743712   \n",
       "399889  0.065372  0.475757  0.484679  1.140897  0.131480  1.376145  1.081166   \n",
       "399890  0.198073  1.307141  0.100374  0.540258  0.851241  1.017936  0.484090   \n",
       "399891  0.429520  0.125506  0.195081  0.907900  0.109231  0.447903  2.677512   \n",
       "\n",
       "           vspin     hspin       value  \n",
       "0       0.167688 -0.174082 -100.000000  \n",
       "1       0.430319  0.298032   98.997408  \n",
       "2      -0.214466  0.286296   19.203024  \n",
       "3       0.155783 -0.192457   66.579920  \n",
       "4       0.206003 -0.187373   63.674426  \n",
       "...          ...       ...         ...  \n",
       "399887 -0.041827 -0.161269   41.300017  \n",
       "399888 -0.010850  0.202223   27.634087  \n",
       "399889  0.115485 -0.226151    1.667846  \n",
       "399890  0.244350 -0.297313   50.665212  \n",
       "399891 -0.345064 -0.099456   72.978973  \n",
       "\n",
       "[799759 rows x 10 columns]"
      ]
     },
     "execution_count": 56,
     "metadata": {},
     "output_type": "execute_result"
    }
   ],
   "source": [
    "cdf"
   ]
  },
  {
   "cell_type": "code",
   "execution_count": 57,
   "id": "fb47c041-2ff6-465a-ad44-37ea8d8173dd",
   "metadata": {
    "tags": []
   },
   "outputs": [],
   "source": [
    "cdf.to_csv('two_ball_value.csv', index = False)"
   ]
  },
  {
   "cell_type": "code",
   "execution_count": 75,
   "id": "4fb1926e-0f05-4b0b-80f4-7fcc530e5308",
   "metadata": {
    "tags": []
   },
   "outputs": [],
   "source": [
    "cdf = pd.read_csv('two_ball_value2.csv')"
   ]
  },
  {
   "cell_type": "code",
   "execution_count": 74,
   "id": "574d0574-ffcb-4ecf-ae67-8629b5e107c0",
   "metadata": {
    "tags": []
   },
   "outputs": [],
   "source": [
    "cdf.to_csv('two_ball_value2.csv', index = False)"
   ]
  },
  {
   "cell_type": "code",
   "execution_count": 89,
   "id": "f8b79166-3bac-4ff6-965c-c4eccc410478",
   "metadata": {
    "tags": []
   },
   "outputs": [
    {
     "name": "stdout",
     "output_type": "stream",
     "text": [
      "epoch:   0 \t loss: 650.294\n",
      "epoch: 1000 \t loss: 637.390\n",
      "epoch: 2000 \t loss: 658.594\n",
      "epoch: 3000 \t loss: 655.265\n",
      "epoch: 4000 \t loss: 675.034\n",
      "epoch: 5000 \t loss: 636.930\n",
      "epoch: 6000 \t loss: 614.431\n",
      "epoch: 7000 \t loss: 634.954\n",
      "epoch: 8000 \t loss: 586.945\n",
      "epoch: 9000 \t loss: 619.419\n"
     ]
    }
   ],
   "source": [
    "reg_net_2 = train(cdf, estimator=reg_net_2, hidden_sizes = [32, 32, 32, 32], epochs = 10000, lr = 0.001)"
   ]
  },
  {
   "cell_type": "code",
   "execution_count": 90,
   "id": "6bc5b536-9010-4d2a-9167-eaff83f12698",
   "metadata": {
    "tags": []
   },
   "outputs": [],
   "source": [
    "torch.save(reg_net_2, 'reg_net_2c.pt')"
   ]
  },
  {
   "cell_type": "code",
   "execution_count": 19,
   "id": "a5a8e19e-865e-4773-b7fe-62fb130690ef",
   "metadata": {
    "tags": []
   },
   "outputs": [],
   "source": [
    "test_df = get_data(5000)"
   ]
  },
  {
   "cell_type": "code",
   "execution_count": 20,
   "id": "e3183c97-6f76-4ea1-8bfc-a193573ba6ba",
   "metadata": {
    "tags": []
   },
   "outputs": [],
   "source": [
    "from sklearn.metrics import r2_score"
   ]
  },
  {
   "cell_type": "code",
   "execution_count": 91,
   "id": "1586a9b8-fb58-4def-9cab-ee71097f9971",
   "metadata": {
    "tags": []
   },
   "outputs": [
    {
     "data": {
      "text/plain": [
       "0.3388182369503405"
      ]
     },
     "execution_count": 91,
     "metadata": {},
     "output_type": "execute_result"
    }
   ],
   "source": [
    "pred = reg_net_2(torch.as_tensor(np.array(cdf.iloc[:,:-1]), dtype=torch.float32))\n",
    "pred = pred * 100\n",
    "r2_score(cdf.iloc[:,-1], pred.detach().numpy())"
   ]
  },
  {
   "cell_type": "code",
   "execution_count": 26,
   "id": "3c66fb99-a7a5-41c0-aab1-1cccbff4c0d7",
   "metadata": {
    "tags": []
   },
   "outputs": [],
   "source": [
    "from scipy.optimize import differential_evolution"
   ]
  },
  {
   "cell_type": "code",
   "execution_count": 27,
   "id": "fd98dd16-9182-4e9e-9aeb-7f55dce2bb94",
   "metadata": {
    "tags": []
   },
   "outputs": [],
   "source": [
    "#find the best stroke using reg_net_2\n",
    "\n",
    "def get_hit(balls):\n",
    "    \n",
    "    def get_loss(hit_array, model, balls):\n",
    "        obs = balls_to_obs(balls)\n",
    "        obs = np.hstack((obs, hit_array))\n",
    "        pred = model(torch.as_tensor(obs, dtype=torch.float32))\n",
    "        return -pred.detach().numpy()\n",
    "\n",
    "    args = (reg_net_2, balls)\n",
    "\n",
    "    bounds = [(0,3), (-1,1), (-0.3,0.3)]\n",
    "\n",
    "    result = differential_evolution(get_loss, bounds, args, maxiter=1000, tol=1e-7)\n",
    "    return result.x"
   ]
  },
  {
   "cell_type": "code",
   "execution_count": 29,
   "id": "80ad3287-2fce-4907-87d6-2baa445d36da",
   "metadata": {
    "tags": []
   },
   "outputs": [
    {
     "name": "stderr",
     "output_type": "stream",
     "text": [
      ":interval(warning): CLerpNodePathInterval::priv_step() called for LerpPosQuatInterval-3 in state final.\n",
      ":interval(warning): CLerpNodePathInterval::priv_step() called for LerpPosInterval-4 in state final.\n",
      ":interval(warning): CLerpNodePathInterval::priv_step() called for LerpPosQuatInterval-169 in state final.\n",
      ":interval(warning): CLerpNodePathInterval::priv_step() called for LerpPosInterval-170 in state final.\n",
      ":interval(warning): CLerpNodePathInterval::priv_step() called for LerpPosQuatInterval-553 in state final.\n",
      ":interval(warning): CLerpNodePathInterval::priv_step() called for LerpPosInterval-554 in state final.\n",
      ":interval(warning): CLerpNodePathInterval::priv_step() called for LerpPosQuatInterval-701 in state final.\n",
      ":interval(warning): CLerpNodePathInterval::priv_step() called for LerpPosInterval-702 in state final.\n",
      ":interval(warning): CLerpNodePathInterval::priv_step() called for LerpPosQuatInterval-833 in state final.\n",
      ":interval(warning): CLerpNodePathInterval::priv_step() called for LerpPosInterval-834 in state final.\n",
      ":interval(warning): CLerpNodePathInterval::priv_step() called for LerpPosQuatInterval-1051 in state final.\n",
      ":interval(warning): CLerpNodePathInterval::priv_step() called for LerpPosInterval-1052 in state final.\n",
      ":interval(warning): CLerpNodePathInterval::priv_step() called for LerpPosQuatInterval-1451 in state final.\n",
      ":interval(warning): CLerpNodePathInterval::priv_step() called for LerpPosInterval-1452 in state final.\n",
      ":interval(warning): CLerpNodePathInterval::priv_step() called for LerpPosQuatInterval-1731 in state final.\n",
      ":interval(warning): CLerpNodePathInterval::priv_step() called for LerpPosInterval-1732 in state final.\n",
      ":interval(warning): CLerpNodePathInterval::priv_step() called for LerpPosQuatInterval-1755 in state final.\n",
      ":interval(warning): CLerpNodePathInterval::priv_step() called for LerpPosInterval-1756 in state final.\n",
      ":interval(warning): CLerpNodePathInterval::priv_step() called for LerpPosQuatInterval-1903 in state final.\n",
      ":interval(warning): CLerpNodePathInterval::priv_step() called for LerpPosInterval-1904 in state final.\n",
      ":interval(warning): CLerpNodePathInterval::priv_step() called for LerpPosQuatInterval-1979 in state final.\n",
      ":interval(warning): CLerpNodePathInterval::priv_step() called for LerpPosInterval-1980 in state final.\n",
      ":interval(warning): CLerpNodePathInterval::priv_step() called for LerpPosQuatInterval-2239 in state final.\n",
      ":interval(warning): CLerpNodePathInterval::priv_step() called for LerpPosInterval-2240 in state final.\n",
      ":interval(warning): CLerpNodePathInterval::priv_step() called for LerpPosQuatInterval-2269 in state final.\n",
      ":interval(warning): CLerpNodePathInterval::priv_step() called for LerpPosInterval-2270 in state final.\n",
      ":interval(warning): CLerpNodePathInterval::priv_step() called for LerpPosQuatInterval-2421 in state final.\n",
      ":interval(warning): CLerpNodePathInterval::priv_step() called for LerpPosInterval-2422 in state final.\n"
     ]
    }
   ],
   "source": [
    "#view shot\n",
    "\n",
    "table = pt.PocketTable(model_name=\"7_foot\")\n",
    "pockets = table.get_pockets()\n",
    "    \n",
    "for i in range(10):\n",
    "\n",
    "    balls = generate_balls(2)\n",
    "    hit = get_hit(balls)\n",
    "\n",
    "    target = list(balls.keys())[1]\n",
    "\n",
    "    cue = pt.Cue(cueing_ball=balls['cue'])\n",
    "    cue.aim_for_best_pocket(balls[target], pockets.values())\n",
    "    \n",
    "    # show starting point\n",
    "    shot = pt.System(cue=cue, table=table, balls=balls)\n",
    "    interface.show(shot)\n",
    "\n",
    "    # show actual shot\n",
    "    cue.strike(V0=hit[0], b=hit[1], a=hit[2])\n",
    "    shot.simulate()\n",
    "\n",
    "    interface.show(shot)"
   ]
  },
  {
   "cell_type": "code",
   "execution_count": 28,
   "id": "cfc50f38-14a1-4f60-b745-fa889610a7e6",
   "metadata": {
    "tags": []
   },
   "outputs": [
    {
     "name": "stderr",
     "output_type": "stream",
     "text": [
      "Known pipe types:\n",
      "  CocoaGraphicsPipe\n",
      "(all display modules loaded.)\n"
     ]
    }
   ],
   "source": [
    "interface = pt.ShotViewer()"
   ]
  },
  {
   "cell_type": "code",
   "execution_count": null,
   "id": "36cad8a2-2d4b-4383-a82f-171587cb754b",
   "metadata": {},
   "outputs": [],
   "source": []
  }
 ],
 "metadata": {
  "kernelspec": {
   "display_name": "Python 3 (ipykernel)",
   "language": "python",
   "name": "python3"
  },
  "language_info": {
   "codemirror_mode": {
    "name": "ipython",
    "version": 3
   },
   "file_extension": ".py",
   "mimetype": "text/x-python",
   "name": "python",
   "nbconvert_exporter": "python",
   "pygments_lexer": "ipython3",
   "version": "3.10.0"
  }
 },
 "nbformat": 4,
 "nbformat_minor": 5
}
