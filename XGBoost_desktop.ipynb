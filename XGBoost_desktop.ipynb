{
 "cells": [
  {
   "cell_type": "code",
   "execution_count": 1,
   "id": "d7cf7d66-2865-41ae-9be5-b007ec4704f1",
   "metadata": {
    "tags": []
   },
   "outputs": [],
   "source": [
    "import xgboost as xgb\n",
    "import pandas as pd\n",
    "import numpy as np\n",
    "import torch\n",
    "from sklearn.model_selection import train_test_split\n",
    "import sklearn\n",
    "import data\n",
    "import pool\n",
    "import time\n",
    "import pooltool as pt"
   ]
  },
  {
   "cell_type": "code",
   "execution_count": 4,
   "id": "5c7af5e0-eb23-4d93-b81a-71dd435e00e8",
   "metadata": {
    "jupyter": {
     "outputs_hidden": true
    },
    "tags": []
   },
   "outputs": [
    {
     "data": {
      "text/html": [
       "<div>\n",
       "<style scoped>\n",
       "    .dataframe tbody tr th:only-of-type {\n",
       "        vertical-align: middle;\n",
       "    }\n",
       "\n",
       "    .dataframe tbody tr th {\n",
       "        vertical-align: top;\n",
       "    }\n",
       "\n",
       "    .dataframe thead th {\n",
       "        text-align: right;\n",
       "    }\n",
       "</style>\n",
       "<table border=\"1\" class=\"dataframe\">\n",
       "  <thead>\n",
       "    <tr style=\"text-align: right;\">\n",
       "      <th></th>\n",
       "      <th>cue_x</th>\n",
       "      <th>cue_y</th>\n",
       "      <th>one_x</th>\n",
       "      <th>one_y</th>\n",
       "      <th>two_x</th>\n",
       "      <th>two_y</th>\n",
       "      <th>speed</th>\n",
       "      <th>vspin</th>\n",
       "      <th>hspin</th>\n",
       "    </tr>\n",
       "  </thead>\n",
       "  <tbody>\n",
       "    <tr>\n",
       "      <th>0</th>\n",
       "      <td>0.181676</td>\n",
       "      <td>0.575535</td>\n",
       "      <td>0.731904</td>\n",
       "      <td>1.005585</td>\n",
       "      <td>0.606757</td>\n",
       "      <td>0.484032</td>\n",
       "      <td>2.60</td>\n",
       "      <td>0.0</td>\n",
       "      <td>0.0</td>\n",
       "    </tr>\n",
       "    <tr>\n",
       "      <th>1</th>\n",
       "      <td>0.202868</td>\n",
       "      <td>0.084844</td>\n",
       "      <td>0.312938</td>\n",
       "      <td>1.063488</td>\n",
       "      <td>0.574457</td>\n",
       "      <td>0.178813</td>\n",
       "      <td>2.30</td>\n",
       "      <td>0.4</td>\n",
       "      <td>0.1</td>\n",
       "    </tr>\n",
       "    <tr>\n",
       "      <th>2</th>\n",
       "      <td>0.194066</td>\n",
       "      <td>0.480850</td>\n",
       "      <td>0.580834</td>\n",
       "      <td>1.361406</td>\n",
       "      <td>0.798477</td>\n",
       "      <td>1.588291</td>\n",
       "      <td>1.55</td>\n",
       "      <td>0.1</td>\n",
       "      <td>0.0</td>\n",
       "    </tr>\n",
       "    <tr>\n",
       "      <th>3</th>\n",
       "      <td>0.082032</td>\n",
       "      <td>0.376628</td>\n",
       "      <td>0.700692</td>\n",
       "      <td>1.690720</td>\n",
       "      <td>0.916421</td>\n",
       "      <td>0.573849</td>\n",
       "      <td>1.40</td>\n",
       "      <td>0.0</td>\n",
       "      <td>0.0</td>\n",
       "    </tr>\n",
       "    <tr>\n",
       "      <th>4</th>\n",
       "      <td>0.182712</td>\n",
       "      <td>0.850552</td>\n",
       "      <td>0.929994</td>\n",
       "      <td>0.367181</td>\n",
       "      <td>0.487540</td>\n",
       "      <td>0.400771</td>\n",
       "      <td>0.80</td>\n",
       "      <td>0.0</td>\n",
       "      <td>-0.2</td>\n",
       "    </tr>\n",
       "    <tr>\n",
       "      <th>...</th>\n",
       "      <td>...</td>\n",
       "      <td>...</td>\n",
       "      <td>...</td>\n",
       "      <td>...</td>\n",
       "      <td>...</td>\n",
       "      <td>...</td>\n",
       "      <td>...</td>\n",
       "      <td>...</td>\n",
       "      <td>...</td>\n",
       "    </tr>\n",
       "    <tr>\n",
       "      <th>195</th>\n",
       "      <td>0.399202</td>\n",
       "      <td>0.644537</td>\n",
       "      <td>0.153489</td>\n",
       "      <td>1.119295</td>\n",
       "      <td>0.403151</td>\n",
       "      <td>1.062046</td>\n",
       "      <td>1.40</td>\n",
       "      <td>0.3</td>\n",
       "      <td>0.3</td>\n",
       "    </tr>\n",
       "    <tr>\n",
       "      <th>196</th>\n",
       "      <td>0.355118</td>\n",
       "      <td>0.851031</td>\n",
       "      <td>0.108906</td>\n",
       "      <td>0.882790</td>\n",
       "      <td>0.400198</td>\n",
       "      <td>0.564125</td>\n",
       "      <td>1.25</td>\n",
       "      <td>0.0</td>\n",
       "      <td>0.2</td>\n",
       "    </tr>\n",
       "    <tr>\n",
       "      <th>197</th>\n",
       "      <td>0.330939</td>\n",
       "      <td>0.538350</td>\n",
       "      <td>0.650280</td>\n",
       "      <td>0.069279</td>\n",
       "      <td>0.492718</td>\n",
       "      <td>1.467742</td>\n",
       "      <td>1.40</td>\n",
       "      <td>0.3</td>\n",
       "      <td>0.0</td>\n",
       "    </tr>\n",
       "    <tr>\n",
       "      <th>198</th>\n",
       "      <td>0.158199</td>\n",
       "      <td>0.432935</td>\n",
       "      <td>0.697680</td>\n",
       "      <td>1.070156</td>\n",
       "      <td>0.836957</td>\n",
       "      <td>0.332437</td>\n",
       "      <td>0.80</td>\n",
       "      <td>0.0</td>\n",
       "      <td>0.0</td>\n",
       "    </tr>\n",
       "    <tr>\n",
       "      <th>199</th>\n",
       "      <td>0.181272</td>\n",
       "      <td>0.616660</td>\n",
       "      <td>0.792016</td>\n",
       "      <td>1.854376</td>\n",
       "      <td>0.731310</td>\n",
       "      <td>0.819158</td>\n",
       "      <td>1.55</td>\n",
       "      <td>-0.1</td>\n",
       "      <td>0.2</td>\n",
       "    </tr>\n",
       "  </tbody>\n",
       "</table>\n",
       "<p>200 rows × 9 columns</p>\n",
       "</div>"
      ],
      "text/plain": [
       "        cue_x     cue_y     one_x     one_y     two_x     two_y  speed  vspin  \\\n",
       "0    0.181676  0.575535  0.731904  1.005585  0.606757  0.484032   2.60    0.0   \n",
       "1    0.202868  0.084844  0.312938  1.063488  0.574457  0.178813   2.30    0.4   \n",
       "2    0.194066  0.480850  0.580834  1.361406  0.798477  1.588291   1.55    0.1   \n",
       "3    0.082032  0.376628  0.700692  1.690720  0.916421  0.573849   1.40    0.0   \n",
       "4    0.182712  0.850552  0.929994  0.367181  0.487540  0.400771   0.80    0.0   \n",
       "..        ...       ...       ...       ...       ...       ...    ...    ...   \n",
       "195  0.399202  0.644537  0.153489  1.119295  0.403151  1.062046   1.40    0.3   \n",
       "196  0.355118  0.851031  0.108906  0.882790  0.400198  0.564125   1.25    0.0   \n",
       "197  0.330939  0.538350  0.650280  0.069279  0.492718  1.467742   1.40    0.3   \n",
       "198  0.158199  0.432935  0.697680  1.070156  0.836957  0.332437   0.80    0.0   \n",
       "199  0.181272  0.616660  0.792016  1.854376  0.731310  0.819158   1.55   -0.1   \n",
       "\n",
       "     hspin  \n",
       "0      0.0  \n",
       "1      0.1  \n",
       "2      0.0  \n",
       "3      0.0  \n",
       "4     -0.2  \n",
       "..     ...  \n",
       "195    0.3  \n",
       "196    0.2  \n",
       "197    0.0  \n",
       "198    0.0  \n",
       "199    0.2  \n",
       "\n",
       "[200 rows x 9 columns]"
      ]
     },
     "execution_count": 4,
     "metadata": {},
     "output_type": "execute_result"
    }
   ],
   "source": [
    "df"
   ]
  },
  {
   "cell_type": "code",
   "execution_count": 19,
   "id": "a97d136f-9644-4582-a511-e1e0617d4ba2",
   "metadata": {
    "tags": []
   },
   "outputs": [
    {
     "name": "stdout",
     "output_type": "stream",
     "text": [
      "10 steps done\n",
      "20 steps done\n",
      "30 steps done\n",
      "40 steps done\n",
      "50 steps done\n",
      "60 steps done\n",
      "70 steps done\n",
      "80 steps done\n",
      "90 steps done\n",
      "100 steps done\n",
      "110 steps done\n",
      "120 steps done\n",
      "130 steps done\n",
      "140 steps done\n",
      "150 steps done\n",
      "160 steps done\n",
      "170 steps done\n",
      "180 steps done\n",
      "190 steps done\n",
      "200 steps done\n",
      "95.5825700199604 seconds per step\n"
     ]
    }
   ],
   "source": [
    "steps = 200\n",
    "\n",
    "start = time.time()\n",
    "df = data.get_hit_data(steps)\n",
    "print(f'{(time.time()-start)/steps} seconds per step')"
   ]
  },
  {
   "cell_type": "code",
   "execution_count": 20,
   "id": "bbc05723-9391-471e-b045-ecee4a5ea9cd",
   "metadata": {
    "tags": []
   },
   "outputs": [
    {
     "data": {
      "text/html": [
       "<div>\n",
       "<style scoped>\n",
       "    .dataframe tbody tr th:only-of-type {\n",
       "        vertical-align: middle;\n",
       "    }\n",
       "\n",
       "    .dataframe tbody tr th {\n",
       "        vertical-align: top;\n",
       "    }\n",
       "\n",
       "    .dataframe thead th {\n",
       "        text-align: right;\n",
       "    }\n",
       "</style>\n",
       "<table border=\"1\" class=\"dataframe\">\n",
       "  <thead>\n",
       "    <tr style=\"text-align: right;\">\n",
       "      <th></th>\n",
       "      <th>cue_x</th>\n",
       "      <th>cue_y</th>\n",
       "      <th>one_x</th>\n",
       "      <th>one_y</th>\n",
       "      <th>two_x</th>\n",
       "      <th>two_y</th>\n",
       "      <th>speed</th>\n",
       "      <th>vspin</th>\n",
       "      <th>hspin</th>\n",
       "    </tr>\n",
       "  </thead>\n",
       "  <tbody>\n",
       "    <tr>\n",
       "      <th>0</th>\n",
       "      <td>0.233700</td>\n",
       "      <td>0.647571</td>\n",
       "      <td>0.402179</td>\n",
       "      <td>0.284573</td>\n",
       "      <td>0.655099</td>\n",
       "      <td>0.329529</td>\n",
       "      <td>1.25</td>\n",
       "      <td>-0.5</td>\n",
       "      <td>0.0</td>\n",
       "    </tr>\n",
       "    <tr>\n",
       "      <th>1</th>\n",
       "      <td>0.079220</td>\n",
       "      <td>0.417230</td>\n",
       "      <td>0.346198</td>\n",
       "      <td>0.172842</td>\n",
       "      <td>0.887643</td>\n",
       "      <td>0.215223</td>\n",
       "      <td>0.95</td>\n",
       "      <td>0.0</td>\n",
       "      <td>0.0</td>\n",
       "    </tr>\n",
       "    <tr>\n",
       "      <th>2</th>\n",
       "      <td>0.191561</td>\n",
       "      <td>0.959704</td>\n",
       "      <td>0.338511</td>\n",
       "      <td>0.541561</td>\n",
       "      <td>0.085335</td>\n",
       "      <td>1.738272</td>\n",
       "      <td>2.00</td>\n",
       "      <td>0.0</td>\n",
       "      <td>0.0</td>\n",
       "    </tr>\n",
       "    <tr>\n",
       "      <th>3</th>\n",
       "      <td>0.239587</td>\n",
       "      <td>0.573218</td>\n",
       "      <td>0.571472</td>\n",
       "      <td>1.133612</td>\n",
       "      <td>0.032145</td>\n",
       "      <td>1.892367</td>\n",
       "      <td>1.55</td>\n",
       "      <td>-0.3</td>\n",
       "      <td>0.0</td>\n",
       "    </tr>\n",
       "    <tr>\n",
       "      <th>4</th>\n",
       "      <td>0.229396</td>\n",
       "      <td>0.524396</td>\n",
       "      <td>0.197874</td>\n",
       "      <td>1.516775</td>\n",
       "      <td>0.591974</td>\n",
       "      <td>0.549463</td>\n",
       "      <td>1.70</td>\n",
       "      <td>0.0</td>\n",
       "      <td>-0.3</td>\n",
       "    </tr>\n",
       "    <tr>\n",
       "      <th>...</th>\n",
       "      <td>...</td>\n",
       "      <td>...</td>\n",
       "      <td>...</td>\n",
       "      <td>...</td>\n",
       "      <td>...</td>\n",
       "      <td>...</td>\n",
       "      <td>...</td>\n",
       "      <td>...</td>\n",
       "      <td>...</td>\n",
       "    </tr>\n",
       "    <tr>\n",
       "      <th>15595</th>\n",
       "      <td>0.105762</td>\n",
       "      <td>0.918199</td>\n",
       "      <td>0.318486</td>\n",
       "      <td>0.248407</td>\n",
       "      <td>0.798430</td>\n",
       "      <td>0.674730</td>\n",
       "      <td>1.70</td>\n",
       "      <td>0.1</td>\n",
       "      <td>-0.1</td>\n",
       "    </tr>\n",
       "    <tr>\n",
       "      <th>15596</th>\n",
       "      <td>0.366726</td>\n",
       "      <td>0.556364</td>\n",
       "      <td>0.293317</td>\n",
       "      <td>0.898841</td>\n",
       "      <td>0.098640</td>\n",
       "      <td>0.549313</td>\n",
       "      <td>1.55</td>\n",
       "      <td>0.1</td>\n",
       "      <td>0.0</td>\n",
       "    </tr>\n",
       "    <tr>\n",
       "      <th>15597</th>\n",
       "      <td>0.080874</td>\n",
       "      <td>0.404310</td>\n",
       "      <td>0.843240</td>\n",
       "      <td>0.771046</td>\n",
       "      <td>0.736955</td>\n",
       "      <td>0.053003</td>\n",
       "      <td>1.55</td>\n",
       "      <td>-0.1</td>\n",
       "      <td>-0.1</td>\n",
       "    </tr>\n",
       "    <tr>\n",
       "      <th>15598</th>\n",
       "      <td>0.180083</td>\n",
       "      <td>0.509725</td>\n",
       "      <td>0.260309</td>\n",
       "      <td>0.957844</td>\n",
       "      <td>0.646462</td>\n",
       "      <td>0.522819</td>\n",
       "      <td>2.15</td>\n",
       "      <td>-0.5</td>\n",
       "      <td>0.0</td>\n",
       "    </tr>\n",
       "    <tr>\n",
       "      <th>15599</th>\n",
       "      <td>0.179874</td>\n",
       "      <td>0.723072</td>\n",
       "      <td>0.838642</td>\n",
       "      <td>0.486707</td>\n",
       "      <td>0.352634</td>\n",
       "      <td>1.302215</td>\n",
       "      <td>1.85</td>\n",
       "      <td>0.0</td>\n",
       "      <td>0.0</td>\n",
       "    </tr>\n",
       "  </tbody>\n",
       "</table>\n",
       "<p>15800 rows × 9 columns</p>\n",
       "</div>"
      ],
      "text/plain": [
       "          cue_x     cue_y     one_x     one_y     two_x     two_y  speed  \\\n",
       "0      0.233700  0.647571  0.402179  0.284573  0.655099  0.329529   1.25   \n",
       "1      0.079220  0.417230  0.346198  0.172842  0.887643  0.215223   0.95   \n",
       "2      0.191561  0.959704  0.338511  0.541561  0.085335  1.738272   2.00   \n",
       "3      0.239587  0.573218  0.571472  1.133612  0.032145  1.892367   1.55   \n",
       "4      0.229396  0.524396  0.197874  1.516775  0.591974  0.549463   1.70   \n",
       "...         ...       ...       ...       ...       ...       ...    ...   \n",
       "15595  0.105762  0.918199  0.318486  0.248407  0.798430  0.674730   1.70   \n",
       "15596  0.366726  0.556364  0.293317  0.898841  0.098640  0.549313   1.55   \n",
       "15597  0.080874  0.404310  0.843240  0.771046  0.736955  0.053003   1.55   \n",
       "15598  0.180083  0.509725  0.260309  0.957844  0.646462  0.522819   2.15   \n",
       "15599  0.179874  0.723072  0.838642  0.486707  0.352634  1.302215   1.85   \n",
       "\n",
       "       vspin  hspin  \n",
       "0       -0.5    0.0  \n",
       "1        0.0    0.0  \n",
       "2        0.0    0.0  \n",
       "3       -0.3    0.0  \n",
       "4        0.0   -0.3  \n",
       "...      ...    ...  \n",
       "15595    0.1   -0.1  \n",
       "15596    0.1    0.0  \n",
       "15597   -0.1   -0.1  \n",
       "15598   -0.5    0.0  \n",
       "15599    0.0    0.0  \n",
       "\n",
       "[15800 rows x 9 columns]"
      ]
     },
     "execution_count": 20,
     "metadata": {},
     "output_type": "execute_result"
    }
   ],
   "source": [
    "cdf"
   ]
  },
  {
   "cell_type": "code",
   "execution_count": 22,
   "id": "0cf779d3-c786-49de-8be5-a6b7a753fbbd",
   "metadata": {
    "tags": []
   },
   "outputs": [
    {
     "data": {
      "text/html": [
       "<div>\n",
       "<style scoped>\n",
       "    .dataframe tbody tr th:only-of-type {\n",
       "        vertical-align: middle;\n",
       "    }\n",
       "\n",
       "    .dataframe tbody tr th {\n",
       "        vertical-align: top;\n",
       "    }\n",
       "\n",
       "    .dataframe thead th {\n",
       "        text-align: right;\n",
       "    }\n",
       "</style>\n",
       "<table border=\"1\" class=\"dataframe\">\n",
       "  <thead>\n",
       "    <tr style=\"text-align: right;\">\n",
       "      <th></th>\n",
       "      <th>cue_x</th>\n",
       "      <th>cue_y</th>\n",
       "      <th>one_x</th>\n",
       "      <th>one_y</th>\n",
       "      <th>two_x</th>\n",
       "      <th>two_y</th>\n",
       "      <th>speed</th>\n",
       "      <th>vspin</th>\n",
       "      <th>hspin</th>\n",
       "    </tr>\n",
       "  </thead>\n",
       "  <tbody>\n",
       "    <tr>\n",
       "      <th>0</th>\n",
       "      <td>0.231092</td>\n",
       "      <td>0.805833</td>\n",
       "      <td>0.810622</td>\n",
       "      <td>0.563653</td>\n",
       "      <td>0.255239</td>\n",
       "      <td>1.798254</td>\n",
       "      <td>1.70</td>\n",
       "      <td>-0.1</td>\n",
       "      <td>0.1</td>\n",
       "    </tr>\n",
       "    <tr>\n",
       "      <th>1</th>\n",
       "      <td>0.150648</td>\n",
       "      <td>0.351235</td>\n",
       "      <td>0.819565</td>\n",
       "      <td>1.267361</td>\n",
       "      <td>0.431713</td>\n",
       "      <td>1.077468</td>\n",
       "      <td>0.80</td>\n",
       "      <td>-0.4</td>\n",
       "      <td>-0.2</td>\n",
       "    </tr>\n",
       "    <tr>\n",
       "      <th>2</th>\n",
       "      <td>0.170627</td>\n",
       "      <td>0.652094</td>\n",
       "      <td>0.179184</td>\n",
       "      <td>1.690016</td>\n",
       "      <td>0.960380</td>\n",
       "      <td>0.957741</td>\n",
       "      <td>2.00</td>\n",
       "      <td>-0.2</td>\n",
       "      <td>0.0</td>\n",
       "    </tr>\n",
       "    <tr>\n",
       "      <th>3</th>\n",
       "      <td>0.218175</td>\n",
       "      <td>0.476620</td>\n",
       "      <td>0.813862</td>\n",
       "      <td>1.191725</td>\n",
       "      <td>0.403459</td>\n",
       "      <td>1.871007</td>\n",
       "      <td>2.00</td>\n",
       "      <td>0.1</td>\n",
       "      <td>0.2</td>\n",
       "    </tr>\n",
       "    <tr>\n",
       "      <th>4</th>\n",
       "      <td>0.426315</td>\n",
       "      <td>0.862200</td>\n",
       "      <td>0.562864</td>\n",
       "      <td>0.165306</td>\n",
       "      <td>0.306319</td>\n",
       "      <td>0.549656</td>\n",
       "      <td>1.85</td>\n",
       "      <td>-0.1</td>\n",
       "      <td>-0.2</td>\n",
       "    </tr>\n",
       "    <tr>\n",
       "      <th>...</th>\n",
       "      <td>...</td>\n",
       "      <td>...</td>\n",
       "      <td>...</td>\n",
       "      <td>...</td>\n",
       "      <td>...</td>\n",
       "      <td>...</td>\n",
       "      <td>...</td>\n",
       "      <td>...</td>\n",
       "      <td>...</td>\n",
       "    </tr>\n",
       "    <tr>\n",
       "      <th>16295</th>\n",
       "      <td>0.105762</td>\n",
       "      <td>0.918199</td>\n",
       "      <td>0.318486</td>\n",
       "      <td>0.248407</td>\n",
       "      <td>0.798430</td>\n",
       "      <td>0.674730</td>\n",
       "      <td>1.70</td>\n",
       "      <td>0.1</td>\n",
       "      <td>-0.1</td>\n",
       "    </tr>\n",
       "    <tr>\n",
       "      <th>16296</th>\n",
       "      <td>0.366726</td>\n",
       "      <td>0.556364</td>\n",
       "      <td>0.293317</td>\n",
       "      <td>0.898841</td>\n",
       "      <td>0.098640</td>\n",
       "      <td>0.549313</td>\n",
       "      <td>1.55</td>\n",
       "      <td>0.1</td>\n",
       "      <td>0.0</td>\n",
       "    </tr>\n",
       "    <tr>\n",
       "      <th>16297</th>\n",
       "      <td>0.080874</td>\n",
       "      <td>0.404310</td>\n",
       "      <td>0.843240</td>\n",
       "      <td>0.771046</td>\n",
       "      <td>0.736955</td>\n",
       "      <td>0.053003</td>\n",
       "      <td>1.55</td>\n",
       "      <td>-0.1</td>\n",
       "      <td>-0.1</td>\n",
       "    </tr>\n",
       "    <tr>\n",
       "      <th>16298</th>\n",
       "      <td>0.180083</td>\n",
       "      <td>0.509725</td>\n",
       "      <td>0.260309</td>\n",
       "      <td>0.957844</td>\n",
       "      <td>0.646462</td>\n",
       "      <td>0.522819</td>\n",
       "      <td>2.15</td>\n",
       "      <td>-0.5</td>\n",
       "      <td>0.0</td>\n",
       "    </tr>\n",
       "    <tr>\n",
       "      <th>16299</th>\n",
       "      <td>0.179874</td>\n",
       "      <td>0.723072</td>\n",
       "      <td>0.838642</td>\n",
       "      <td>0.486707</td>\n",
       "      <td>0.352634</td>\n",
       "      <td>1.302215</td>\n",
       "      <td>1.85</td>\n",
       "      <td>0.0</td>\n",
       "      <td>0.0</td>\n",
       "    </tr>\n",
       "  </tbody>\n",
       "</table>\n",
       "<p>16500 rows × 9 columns</p>\n",
       "</div>"
      ],
      "text/plain": [
       "          cue_x     cue_y     one_x     one_y     two_x     two_y  speed  \\\n",
       "0      0.231092  0.805833  0.810622  0.563653  0.255239  1.798254   1.70   \n",
       "1      0.150648  0.351235  0.819565  1.267361  0.431713  1.077468   0.80   \n",
       "2      0.170627  0.652094  0.179184  1.690016  0.960380  0.957741   2.00   \n",
       "3      0.218175  0.476620  0.813862  1.191725  0.403459  1.871007   2.00   \n",
       "4      0.426315  0.862200  0.562864  0.165306  0.306319  0.549656   1.85   \n",
       "...         ...       ...       ...       ...       ...       ...    ...   \n",
       "16295  0.105762  0.918199  0.318486  0.248407  0.798430  0.674730   1.70   \n",
       "16296  0.366726  0.556364  0.293317  0.898841  0.098640  0.549313   1.55   \n",
       "16297  0.080874  0.404310  0.843240  0.771046  0.736955  0.053003   1.55   \n",
       "16298  0.180083  0.509725  0.260309  0.957844  0.646462  0.522819   2.15   \n",
       "16299  0.179874  0.723072  0.838642  0.486707  0.352634  1.302215   1.85   \n",
       "\n",
       "       vspin  hspin  \n",
       "0       -0.1    0.1  \n",
       "1       -0.4   -0.2  \n",
       "2       -0.2    0.0  \n",
       "3        0.1    0.2  \n",
       "4       -0.1   -0.2  \n",
       "...      ...    ...  \n",
       "16295    0.1   -0.1  \n",
       "16296    0.1    0.0  \n",
       "16297   -0.1   -0.1  \n",
       "16298   -0.5    0.0  \n",
       "16299    0.0    0.0  \n",
       "\n",
       "[16500 rows x 9 columns]"
      ]
     },
     "execution_count": 22,
     "metadata": {},
     "output_type": "execute_result"
    }
   ],
   "source": [
    "cdf = pd.concat([df, cdf])\n",
    "cdf"
   ]
  },
  {
   "cell_type": "code",
   "execution_count": 23,
   "id": "1fa4ece2-63da-4fb0-8482-7df8ecd71aa8",
   "metadata": {
    "tags": []
   },
   "outputs": [],
   "source": [
    "cdf.to_csv('Datasets/two_ball_hit_new.csv', index = False)"
   ]
  },
  {
   "cell_type": "code",
   "execution_count": 78,
   "id": "aa5dd93f",
   "metadata": {
    "tags": []
   },
   "outputs": [],
   "source": [
    "cdf = pd.read_csv('Datasets/two_ball_hit_new.csv')"
   ]
  },
  {
   "cell_type": "code",
   "execution_count": 3,
   "id": "c18cc45e-5d92-4949-954a-1a2e9bb0a4bc",
   "metadata": {
    "tags": []
   },
   "outputs": [],
   "source": [
    "reg_net = torch.load('reg_net.pt')\n",
    "# reg_net_2 = torch.load('reg_net_2.pt')\n",
    "# reg_net_2b = torch.load('reg_net_2b.pt')\n",
    "# reg_net_2c = torch.load('reg_net_2c.pt')"
   ]
  },
  {
   "cell_type": "code",
   "execution_count": 24,
   "id": "bdf48322-73d6-47b4-992f-8b6d17586920",
   "metadata": {
    "tags": []
   },
   "outputs": [],
   "source": [
    "df0 = pd.read_csv('Datasets/one_ball_full_pos0.csv')\n",
    "df1 = pd.read_csv('Datasets/one_ball_full_pos1.csv')\n",
    "df2 = pd.read_csv('Datasets/one_ball_full_pos2.csv')\n",
    "df3 = pd.read_csv('Datasets/one_ball_full_pos3.csv')"
   ]
  },
  {
   "cell_type": "code",
   "execution_count": 33,
   "id": "142783a1",
   "metadata": {},
   "outputs": [
    {
     "data": {
      "text/html": [
       "<div>\n",
       "<style scoped>\n",
       "    .dataframe tbody tr th:only-of-type {\n",
       "        vertical-align: middle;\n",
       "    }\n",
       "\n",
       "    .dataframe tbody tr th {\n",
       "        vertical-align: top;\n",
       "    }\n",
       "\n",
       "    .dataframe thead th {\n",
       "        text-align: right;\n",
       "    }\n",
       "</style>\n",
       "<table border=\"1\" class=\"dataframe\">\n",
       "  <thead>\n",
       "    <tr style=\"text-align: right;\">\n",
       "      <th></th>\n",
       "      <th>cue_x</th>\n",
       "      <th>cue_y</th>\n",
       "      <th>one_x</th>\n",
       "      <th>one_y</th>\n",
       "      <th>speed</th>\n",
       "      <th>vspin</th>\n",
       "      <th>hspin</th>\n",
       "      <th>phi</th>\n",
       "      <th>lb</th>\n",
       "      <th>lc</th>\n",
       "      <th>lt</th>\n",
       "      <th>rb</th>\n",
       "      <th>rc</th>\n",
       "      <th>rt</th>\n",
       "      <th>end_x</th>\n",
       "      <th>end_y</th>\n",
       "    </tr>\n",
       "  </thead>\n",
       "  <tbody>\n",
       "    <tr>\n",
       "      <th>0</th>\n",
       "      <td>0.194281</td>\n",
       "      <td>0.276859</td>\n",
       "      <td>0.046968</td>\n",
       "      <td>0.868859</td>\n",
       "      <td>3.352847</td>\n",
       "      <td>-0.297846</td>\n",
       "      <td>-0.228028</td>\n",
       "      <td>103.059511</td>\n",
       "      <td>0.0</td>\n",
       "      <td>1.0</td>\n",
       "      <td>0.0</td>\n",
       "      <td>0.0</td>\n",
       "      <td>0.0</td>\n",
       "      <td>0.0</td>\n",
       "      <td>0.143499</td>\n",
       "      <td>0.285342</td>\n",
       "    </tr>\n",
       "    <tr>\n",
       "      <th>1</th>\n",
       "      <td>0.110727</td>\n",
       "      <td>0.211206</td>\n",
       "      <td>0.303572</td>\n",
       "      <td>0.722603</td>\n",
       "      <td>0.953745</td>\n",
       "      <td>-0.081331</td>\n",
       "      <td>-0.107463</td>\n",
       "      <td>70.205526</td>\n",
       "      <td>0.0</td>\n",
       "      <td>0.0</td>\n",
       "      <td>0.0</td>\n",
       "      <td>0.0</td>\n",
       "      <td>0.0</td>\n",
       "      <td>1.0</td>\n",
       "      <td>0.277049</td>\n",
       "      <td>1.373292</td>\n",
       "    </tr>\n",
       "    <tr>\n",
       "      <th>2</th>\n",
       "      <td>0.039058</td>\n",
       "      <td>0.409307</td>\n",
       "      <td>0.494349</td>\n",
       "      <td>0.761136</td>\n",
       "      <td>3.361030</td>\n",
       "      <td>0.285583</td>\n",
       "      <td>0.146790</td>\n",
       "      <td>39.119940</td>\n",
       "      <td>0.0</td>\n",
       "      <td>0.0</td>\n",
       "      <td>0.0</td>\n",
       "      <td>0.0</td>\n",
       "      <td>1.0</td>\n",
       "      <td>0.0</td>\n",
       "      <td>0.093820</td>\n",
       "      <td>0.367331</td>\n",
       "    </tr>\n",
       "    <tr>\n",
       "      <th>3</th>\n",
       "      <td>0.154962</td>\n",
       "      <td>0.297496</td>\n",
       "      <td>0.331983</td>\n",
       "      <td>0.098922</td>\n",
       "      <td>1.299785</td>\n",
       "      <td>0.224232</td>\n",
       "      <td>-0.201314</td>\n",
       "      <td>-58.014290</td>\n",
       "      <td>0.0</td>\n",
       "      <td>0.0</td>\n",
       "      <td>0.0</td>\n",
       "      <td>1.0</td>\n",
       "      <td>0.0</td>\n",
       "      <td>0.0</td>\n",
       "      <td>0.000000</td>\n",
       "      <td>0.000000</td>\n",
       "    </tr>\n",
       "    <tr>\n",
       "      <th>4</th>\n",
       "      <td>0.162361</td>\n",
       "      <td>0.046366</td>\n",
       "      <td>0.325928</td>\n",
       "      <td>0.921265</td>\n",
       "      <td>2.326245</td>\n",
       "      <td>-0.355351</td>\n",
       "      <td>-0.142924</td>\n",
       "      <td>80.814532</td>\n",
       "      <td>0.0</td>\n",
       "      <td>0.0</td>\n",
       "      <td>0.0</td>\n",
       "      <td>0.0</td>\n",
       "      <td>0.0</td>\n",
       "      <td>1.0</td>\n",
       "      <td>0.000000</td>\n",
       "      <td>0.000000</td>\n",
       "    </tr>\n",
       "    <tr>\n",
       "      <th>...</th>\n",
       "      <td>...</td>\n",
       "      <td>...</td>\n",
       "      <td>...</td>\n",
       "      <td>...</td>\n",
       "      <td>...</td>\n",
       "      <td>...</td>\n",
       "      <td>...</td>\n",
       "      <td>...</td>\n",
       "      <td>...</td>\n",
       "      <td>...</td>\n",
       "      <td>...</td>\n",
       "      <td>...</td>\n",
       "      <td>...</td>\n",
       "      <td>...</td>\n",
       "      <td>...</td>\n",
       "      <td>...</td>\n",
       "    </tr>\n",
       "    <tr>\n",
       "      <th>988436</th>\n",
       "      <td>0.417280</td>\n",
       "      <td>0.639539</td>\n",
       "      <td>0.444617</td>\n",
       "      <td>0.362546</td>\n",
       "      <td>2.218609</td>\n",
       "      <td>0.456062</td>\n",
       "      <td>0.277925</td>\n",
       "      <td>-94.813828</td>\n",
       "      <td>0.0</td>\n",
       "      <td>0.0</td>\n",
       "      <td>0.0</td>\n",
       "      <td>1.0</td>\n",
       "      <td>0.0</td>\n",
       "      <td>0.0</td>\n",
       "      <td>0.301614</td>\n",
       "      <td>0.201524</td>\n",
       "    </tr>\n",
       "    <tr>\n",
       "      <th>988437</th>\n",
       "      <td>0.246293</td>\n",
       "      <td>0.930422</td>\n",
       "      <td>0.372301</td>\n",
       "      <td>0.685645</td>\n",
       "      <td>2.012820</td>\n",
       "      <td>0.093833</td>\n",
       "      <td>-0.180259</td>\n",
       "      <td>-66.521064</td>\n",
       "      <td>0.0</td>\n",
       "      <td>0.0</td>\n",
       "      <td>0.0</td>\n",
       "      <td>1.0</td>\n",
       "      <td>0.0</td>\n",
       "      <td>0.0</td>\n",
       "      <td>0.412886</td>\n",
       "      <td>0.141335</td>\n",
       "    </tr>\n",
       "    <tr>\n",
       "      <th>988438</th>\n",
       "      <td>0.230222</td>\n",
       "      <td>0.917824</td>\n",
       "      <td>0.308533</td>\n",
       "      <td>0.147827</td>\n",
       "      <td>2.080515</td>\n",
       "      <td>0.385073</td>\n",
       "      <td>0.285081</td>\n",
       "      <td>-80.064365</td>\n",
       "      <td>1.0</td>\n",
       "      <td>0.0</td>\n",
       "      <td>0.0</td>\n",
       "      <td>0.0</td>\n",
       "      <td>0.0</td>\n",
       "      <td>0.0</td>\n",
       "      <td>0.550077</td>\n",
       "      <td>0.313754</td>\n",
       "    </tr>\n",
       "    <tr>\n",
       "      <th>988439</th>\n",
       "      <td>0.077444</td>\n",
       "      <td>0.747667</td>\n",
       "      <td>0.134962</td>\n",
       "      <td>0.507670</td>\n",
       "      <td>2.009560</td>\n",
       "      <td>-0.169764</td>\n",
       "      <td>0.019768</td>\n",
       "      <td>-69.281787</td>\n",
       "      <td>1.0</td>\n",
       "      <td>0.0</td>\n",
       "      <td>0.0</td>\n",
       "      <td>0.0</td>\n",
       "      <td>0.0</td>\n",
       "      <td>0.0</td>\n",
       "      <td>0.531362</td>\n",
       "      <td>0.208529</td>\n",
       "    </tr>\n",
       "    <tr>\n",
       "      <th>988440</th>\n",
       "      <td>0.238616</td>\n",
       "      <td>0.747554</td>\n",
       "      <td>0.289053</td>\n",
       "      <td>0.253298</td>\n",
       "      <td>1.622779</td>\n",
       "      <td>0.476379</td>\n",
       "      <td>0.046828</td>\n",
       "      <td>-78.407148</td>\n",
       "      <td>1.0</td>\n",
       "      <td>0.0</td>\n",
       "      <td>0.0</td>\n",
       "      <td>0.0</td>\n",
       "      <td>0.0</td>\n",
       "      <td>0.0</td>\n",
       "      <td>0.444859</td>\n",
       "      <td>0.980360</td>\n",
       "    </tr>\n",
       "  </tbody>\n",
       "</table>\n",
       "<p>1584235 rows × 16 columns</p>\n",
       "</div>"
      ],
      "text/plain": [
       "           cue_x     cue_y     one_x     one_y     speed     vspin     hspin  \\\n",
       "0       0.194281  0.276859  0.046968  0.868859  3.352847 -0.297846 -0.228028   \n",
       "1       0.110727  0.211206  0.303572  0.722603  0.953745 -0.081331 -0.107463   \n",
       "2       0.039058  0.409307  0.494349  0.761136  3.361030  0.285583  0.146790   \n",
       "3       0.154962  0.297496  0.331983  0.098922  1.299785  0.224232 -0.201314   \n",
       "4       0.162361  0.046366  0.325928  0.921265  2.326245 -0.355351 -0.142924   \n",
       "...          ...       ...       ...       ...       ...       ...       ...   \n",
       "988436  0.417280  0.639539  0.444617  0.362546  2.218609  0.456062  0.277925   \n",
       "988437  0.246293  0.930422  0.372301  0.685645  2.012820  0.093833 -0.180259   \n",
       "988438  0.230222  0.917824  0.308533  0.147827  2.080515  0.385073  0.285081   \n",
       "988439  0.077444  0.747667  0.134962  0.507670  2.009560 -0.169764  0.019768   \n",
       "988440  0.238616  0.747554  0.289053  0.253298  1.622779  0.476379  0.046828   \n",
       "\n",
       "               phi   lb   lc   lt   rb   rc   rt     end_x     end_y  \n",
       "0       103.059511  0.0  1.0  0.0  0.0  0.0  0.0  0.143499  0.285342  \n",
       "1        70.205526  0.0  0.0  0.0  0.0  0.0  1.0  0.277049  1.373292  \n",
       "2        39.119940  0.0  0.0  0.0  0.0  1.0  0.0  0.093820  0.367331  \n",
       "3       -58.014290  0.0  0.0  0.0  1.0  0.0  0.0  0.000000  0.000000  \n",
       "4        80.814532  0.0  0.0  0.0  0.0  0.0  1.0  0.000000  0.000000  \n",
       "...            ...  ...  ...  ...  ...  ...  ...       ...       ...  \n",
       "988436  -94.813828  0.0  0.0  0.0  1.0  0.0  0.0  0.301614  0.201524  \n",
       "988437  -66.521064  0.0  0.0  0.0  1.0  0.0  0.0  0.412886  0.141335  \n",
       "988438  -80.064365  1.0  0.0  0.0  0.0  0.0  0.0  0.550077  0.313754  \n",
       "988439  -69.281787  1.0  0.0  0.0  0.0  0.0  0.0  0.531362  0.208529  \n",
       "988440  -78.407148  1.0  0.0  0.0  0.0  0.0  0.0  0.444859  0.980360  \n",
       "\n",
       "[1584235 rows x 16 columns]"
      ]
     },
     "execution_count": 33,
     "metadata": {},
     "output_type": "execute_result"
    }
   ],
   "source": [
    "df0"
   ]
  },
  {
   "cell_type": "code",
   "execution_count": 79,
   "id": "01bd3553-b9fe-4b18-a12e-48c3173489cf",
   "metadata": {
    "tags": []
   },
   "outputs": [
    {
     "data": {
      "text/html": [
       "<div>\n",
       "<style scoped>\n",
       "    .dataframe tbody tr th:only-of-type {\n",
       "        vertical-align: middle;\n",
       "    }\n",
       "\n",
       "    .dataframe tbody tr th {\n",
       "        vertical-align: top;\n",
       "    }\n",
       "\n",
       "    .dataframe thead th {\n",
       "        text-align: right;\n",
       "    }\n",
       "</style>\n",
       "<table border=\"1\" class=\"dataframe\">\n",
       "  <thead>\n",
       "    <tr style=\"text-align: right;\">\n",
       "      <th></th>\n",
       "      <th>cue_x</th>\n",
       "      <th>cue_y</th>\n",
       "      <th>one_x</th>\n",
       "      <th>one_y</th>\n",
       "      <th>two_x</th>\n",
       "      <th>two_y</th>\n",
       "      <th>speed</th>\n",
       "      <th>vspin</th>\n",
       "      <th>hspin</th>\n",
       "    </tr>\n",
       "  </thead>\n",
       "  <tbody>\n",
       "    <tr>\n",
       "      <th>0</th>\n",
       "      <td>0.231092</td>\n",
       "      <td>0.805833</td>\n",
       "      <td>0.810622</td>\n",
       "      <td>0.563653</td>\n",
       "      <td>0.255239</td>\n",
       "      <td>1.798254</td>\n",
       "      <td>1.70</td>\n",
       "      <td>-0.1</td>\n",
       "      <td>0.1</td>\n",
       "    </tr>\n",
       "    <tr>\n",
       "      <th>1</th>\n",
       "      <td>0.150648</td>\n",
       "      <td>0.351235</td>\n",
       "      <td>0.819565</td>\n",
       "      <td>1.267361</td>\n",
       "      <td>0.431713</td>\n",
       "      <td>1.077468</td>\n",
       "      <td>0.80</td>\n",
       "      <td>-0.4</td>\n",
       "      <td>-0.2</td>\n",
       "    </tr>\n",
       "    <tr>\n",
       "      <th>2</th>\n",
       "      <td>0.170627</td>\n",
       "      <td>0.652094</td>\n",
       "      <td>0.179184</td>\n",
       "      <td>1.690016</td>\n",
       "      <td>0.960380</td>\n",
       "      <td>0.957741</td>\n",
       "      <td>2.00</td>\n",
       "      <td>-0.2</td>\n",
       "      <td>0.0</td>\n",
       "    </tr>\n",
       "    <tr>\n",
       "      <th>3</th>\n",
       "      <td>0.218175</td>\n",
       "      <td>0.476620</td>\n",
       "      <td>0.813862</td>\n",
       "      <td>1.191725</td>\n",
       "      <td>0.403459</td>\n",
       "      <td>1.871007</td>\n",
       "      <td>2.00</td>\n",
       "      <td>0.1</td>\n",
       "      <td>0.2</td>\n",
       "    </tr>\n",
       "    <tr>\n",
       "      <th>4</th>\n",
       "      <td>0.426315</td>\n",
       "      <td>0.862200</td>\n",
       "      <td>0.562864</td>\n",
       "      <td>0.165306</td>\n",
       "      <td>0.306319</td>\n",
       "      <td>0.549656</td>\n",
       "      <td>1.85</td>\n",
       "      <td>-0.1</td>\n",
       "      <td>-0.2</td>\n",
       "    </tr>\n",
       "    <tr>\n",
       "      <th>...</th>\n",
       "      <td>...</td>\n",
       "      <td>...</td>\n",
       "      <td>...</td>\n",
       "      <td>...</td>\n",
       "      <td>...</td>\n",
       "      <td>...</td>\n",
       "      <td>...</td>\n",
       "      <td>...</td>\n",
       "      <td>...</td>\n",
       "    </tr>\n",
       "    <tr>\n",
       "      <th>16495</th>\n",
       "      <td>0.105762</td>\n",
       "      <td>0.918199</td>\n",
       "      <td>0.318486</td>\n",
       "      <td>0.248407</td>\n",
       "      <td>0.798430</td>\n",
       "      <td>0.674730</td>\n",
       "      <td>1.70</td>\n",
       "      <td>0.1</td>\n",
       "      <td>-0.1</td>\n",
       "    </tr>\n",
       "    <tr>\n",
       "      <th>16496</th>\n",
       "      <td>0.366726</td>\n",
       "      <td>0.556364</td>\n",
       "      <td>0.293317</td>\n",
       "      <td>0.898841</td>\n",
       "      <td>0.098640</td>\n",
       "      <td>0.549313</td>\n",
       "      <td>1.55</td>\n",
       "      <td>0.1</td>\n",
       "      <td>0.0</td>\n",
       "    </tr>\n",
       "    <tr>\n",
       "      <th>16497</th>\n",
       "      <td>0.080874</td>\n",
       "      <td>0.404310</td>\n",
       "      <td>0.843240</td>\n",
       "      <td>0.771046</td>\n",
       "      <td>0.736955</td>\n",
       "      <td>0.053003</td>\n",
       "      <td>1.55</td>\n",
       "      <td>-0.1</td>\n",
       "      <td>-0.1</td>\n",
       "    </tr>\n",
       "    <tr>\n",
       "      <th>16498</th>\n",
       "      <td>0.180083</td>\n",
       "      <td>0.509725</td>\n",
       "      <td>0.260309</td>\n",
       "      <td>0.957844</td>\n",
       "      <td>0.646462</td>\n",
       "      <td>0.522819</td>\n",
       "      <td>2.15</td>\n",
       "      <td>-0.5</td>\n",
       "      <td>0.0</td>\n",
       "    </tr>\n",
       "    <tr>\n",
       "      <th>16499</th>\n",
       "      <td>0.179874</td>\n",
       "      <td>0.723072</td>\n",
       "      <td>0.838642</td>\n",
       "      <td>0.486707</td>\n",
       "      <td>0.352634</td>\n",
       "      <td>1.302215</td>\n",
       "      <td>1.85</td>\n",
       "      <td>0.0</td>\n",
       "      <td>0.0</td>\n",
       "    </tr>\n",
       "  </tbody>\n",
       "</table>\n",
       "<p>16500 rows × 9 columns</p>\n",
       "</div>"
      ],
      "text/plain": [
       "          cue_x     cue_y     one_x     one_y     two_x     two_y  speed  \\\n",
       "0      0.231092  0.805833  0.810622  0.563653  0.255239  1.798254   1.70   \n",
       "1      0.150648  0.351235  0.819565  1.267361  0.431713  1.077468   0.80   \n",
       "2      0.170627  0.652094  0.179184  1.690016  0.960380  0.957741   2.00   \n",
       "3      0.218175  0.476620  0.813862  1.191725  0.403459  1.871007   2.00   \n",
       "4      0.426315  0.862200  0.562864  0.165306  0.306319  0.549656   1.85   \n",
       "...         ...       ...       ...       ...       ...       ...    ...   \n",
       "16495  0.105762  0.918199  0.318486  0.248407  0.798430  0.674730   1.70   \n",
       "16496  0.366726  0.556364  0.293317  0.898841  0.098640  0.549313   1.55   \n",
       "16497  0.080874  0.404310  0.843240  0.771046  0.736955  0.053003   1.55   \n",
       "16498  0.180083  0.509725  0.260309  0.957844  0.646462  0.522819   2.15   \n",
       "16499  0.179874  0.723072  0.838642  0.486707  0.352634  1.302215   1.85   \n",
       "\n",
       "       vspin  hspin  \n",
       "0       -0.1    0.1  \n",
       "1       -0.4   -0.2  \n",
       "2       -0.2    0.0  \n",
       "3        0.1    0.2  \n",
       "4       -0.1   -0.2  \n",
       "...      ...    ...  \n",
       "16495    0.1   -0.1  \n",
       "16496    0.1    0.0  \n",
       "16497   -0.1   -0.1  \n",
       "16498   -0.5    0.0  \n",
       "16499    0.0    0.0  \n",
       "\n",
       "[16500 rows x 9 columns]"
      ]
     },
     "execution_count": 79,
     "metadata": {},
     "output_type": "execute_result"
    }
   ],
   "source": [
    "cdf"
   ]
  },
  {
   "cell_type": "code",
   "execution_count": 9,
   "id": "e2cedf3a",
   "metadata": {
    "tags": []
   },
   "outputs": [],
   "source": [
    "cdf = pd.read_csv('Datasets/two_ball_hit.csv')"
   ]
  },
  {
   "cell_type": "code",
   "execution_count": 38,
   "id": "6022739e",
   "metadata": {},
   "outputs": [],
   "source": [
    "df0.to_csv('C:/Users/Masahiro/Datasets/one_ball_full_pos0.csv', index = False)\n",
    "df1.to_csv('C:/Users/Masahiro/Datasets/one_ball_full_pos1.csv', index = False)\n",
    "df2.to_csv('C:/Users/Masahiro/Datasets/one_ball_full_pos2.csv', index = False)\n",
    "df3.to_csv('C:/Users/Masahiro/Datasets/one_ball_full_pos3.csv', index = False)"
   ]
  },
  {
   "cell_type": "code",
   "execution_count": 37,
   "id": "5e3d4edb",
   "metadata": {},
   "outputs": [
    {
     "name": "stdout",
     "output_type": "stream",
     "text": [
      "1069512 1086764\n"
     ]
    }
   ],
   "source": [
    "print(len(df1.query('cue_y > 0.5')), len(df1.query('cue_y < 0.5')))"
   ]
  },
  {
   "cell_type": "code",
   "execution_count": 27,
   "id": "f95ab1f0-df59-4564-9e10-ec4c75e94733",
   "metadata": {
    "tags": []
   },
   "outputs": [],
   "source": [
    "cdf0 = cdf.query('one_x < 0.5 and one_y < 1')\n",
    "cdf1 = cdf.query('one_x < 0.5 and one_y > 1')\n",
    "cdf2 = cdf.query('one_x > 0.5 and one_y < 1')\n",
    "cdf3 = cdf.query('one_x > 0.5 and one_y > 1')"
   ]
  },
  {
   "cell_type": "code",
   "execution_count": 28,
   "id": "fce7c6d9-86a2-4706-9080-eccb60b619e9",
   "metadata": {
    "tags": []
   },
   "outputs": [],
   "source": [
    "df0 = pd.concat([df0, cdf0])\n",
    "df1 = pd.concat([df1, cdf1])\n",
    "df2 = pd.concat([df2, cdf2])\n",
    "df3 = pd.concat([df3, cdf3])"
   ]
  },
  {
   "cell_type": "code",
   "execution_count": 39,
   "id": "897b12ea-5243-43d8-bed6-9cf5fe9e3a92",
   "metadata": {
    "tags": []
   },
   "outputs": [],
   "source": [
    "cdf = pd.concat([df0, df1, df2, df3])"
   ]
  },
  {
   "cell_type": "code",
   "execution_count": 77,
   "id": "849f3154-9d01-48d1-91e6-1d2675d949b5",
   "metadata": {
    "tags": []
   },
   "outputs": [
    {
     "data": {
      "text/html": [
       "<div>\n",
       "<style scoped>\n",
       "    .dataframe tbody tr th:only-of-type {\n",
       "        vertical-align: middle;\n",
       "    }\n",
       "\n",
       "    .dataframe tbody tr th {\n",
       "        vertical-align: top;\n",
       "    }\n",
       "\n",
       "    .dataframe thead th {\n",
       "        text-align: right;\n",
       "    }\n",
       "</style>\n",
       "<table border=\"1\" class=\"dataframe\">\n",
       "  <thead>\n",
       "    <tr style=\"text-align: right;\">\n",
       "      <th></th>\n",
       "      <th>cue_x</th>\n",
       "      <th>cue_y</th>\n",
       "      <th>one_x</th>\n",
       "      <th>one_y</th>\n",
       "      <th>two_x</th>\n",
       "      <th>two_y</th>\n",
       "      <th>speed</th>\n",
       "      <th>vspin</th>\n",
       "      <th>hspin</th>\n",
       "    </tr>\n",
       "  </thead>\n",
       "  <tbody>\n",
       "    <tr>\n",
       "      <th>0</th>\n",
       "      <td>0.231092</td>\n",
       "      <td>0.805833</td>\n",
       "      <td>0.810622</td>\n",
       "      <td>0.563653</td>\n",
       "      <td>0.255239</td>\n",
       "      <td>1.798254</td>\n",
       "      <td>1.70</td>\n",
       "      <td>-0.1</td>\n",
       "      <td>0.1</td>\n",
       "    </tr>\n",
       "    <tr>\n",
       "      <th>1</th>\n",
       "      <td>0.150648</td>\n",
       "      <td>0.351235</td>\n",
       "      <td>0.819565</td>\n",
       "      <td>1.267361</td>\n",
       "      <td>0.431713</td>\n",
       "      <td>1.077468</td>\n",
       "      <td>0.80</td>\n",
       "      <td>-0.4</td>\n",
       "      <td>-0.2</td>\n",
       "    </tr>\n",
       "    <tr>\n",
       "      <th>2</th>\n",
       "      <td>0.170627</td>\n",
       "      <td>0.652094</td>\n",
       "      <td>0.179184</td>\n",
       "      <td>1.690016</td>\n",
       "      <td>0.960380</td>\n",
       "      <td>0.957741</td>\n",
       "      <td>2.00</td>\n",
       "      <td>-0.2</td>\n",
       "      <td>0.0</td>\n",
       "    </tr>\n",
       "    <tr>\n",
       "      <th>3</th>\n",
       "      <td>0.218175</td>\n",
       "      <td>0.476620</td>\n",
       "      <td>0.813862</td>\n",
       "      <td>1.191725</td>\n",
       "      <td>0.403459</td>\n",
       "      <td>1.871007</td>\n",
       "      <td>2.00</td>\n",
       "      <td>0.1</td>\n",
       "      <td>0.2</td>\n",
       "    </tr>\n",
       "    <tr>\n",
       "      <th>4</th>\n",
       "      <td>0.426315</td>\n",
       "      <td>0.862200</td>\n",
       "      <td>0.562864</td>\n",
       "      <td>0.165306</td>\n",
       "      <td>0.306319</td>\n",
       "      <td>0.549656</td>\n",
       "      <td>1.85</td>\n",
       "      <td>-0.1</td>\n",
       "      <td>-0.2</td>\n",
       "    </tr>\n",
       "    <tr>\n",
       "      <th>...</th>\n",
       "      <td>...</td>\n",
       "      <td>...</td>\n",
       "      <td>...</td>\n",
       "      <td>...</td>\n",
       "      <td>...</td>\n",
       "      <td>...</td>\n",
       "      <td>...</td>\n",
       "      <td>...</td>\n",
       "      <td>...</td>\n",
       "    </tr>\n",
       "    <tr>\n",
       "      <th>16295</th>\n",
       "      <td>0.105762</td>\n",
       "      <td>0.918199</td>\n",
       "      <td>0.318486</td>\n",
       "      <td>0.248407</td>\n",
       "      <td>0.798430</td>\n",
       "      <td>0.674730</td>\n",
       "      <td>1.70</td>\n",
       "      <td>0.1</td>\n",
       "      <td>-0.1</td>\n",
       "    </tr>\n",
       "    <tr>\n",
       "      <th>16296</th>\n",
       "      <td>0.366726</td>\n",
       "      <td>0.556364</td>\n",
       "      <td>0.293317</td>\n",
       "      <td>0.898841</td>\n",
       "      <td>0.098640</td>\n",
       "      <td>0.549313</td>\n",
       "      <td>1.55</td>\n",
       "      <td>0.1</td>\n",
       "      <td>0.0</td>\n",
       "    </tr>\n",
       "    <tr>\n",
       "      <th>16297</th>\n",
       "      <td>0.080874</td>\n",
       "      <td>0.404310</td>\n",
       "      <td>0.843240</td>\n",
       "      <td>0.771046</td>\n",
       "      <td>0.736955</td>\n",
       "      <td>0.053003</td>\n",
       "      <td>1.55</td>\n",
       "      <td>-0.1</td>\n",
       "      <td>-0.1</td>\n",
       "    </tr>\n",
       "    <tr>\n",
       "      <th>16298</th>\n",
       "      <td>0.180083</td>\n",
       "      <td>0.509725</td>\n",
       "      <td>0.260309</td>\n",
       "      <td>0.957844</td>\n",
       "      <td>0.646462</td>\n",
       "      <td>0.522819</td>\n",
       "      <td>2.15</td>\n",
       "      <td>-0.5</td>\n",
       "      <td>0.0</td>\n",
       "    </tr>\n",
       "    <tr>\n",
       "      <th>16299</th>\n",
       "      <td>0.179874</td>\n",
       "      <td>0.723072</td>\n",
       "      <td>0.838642</td>\n",
       "      <td>0.486707</td>\n",
       "      <td>0.352634</td>\n",
       "      <td>1.302215</td>\n",
       "      <td>1.85</td>\n",
       "      <td>0.0</td>\n",
       "      <td>0.0</td>\n",
       "    </tr>\n",
       "  </tbody>\n",
       "</table>\n",
       "<p>16500 rows × 9 columns</p>\n",
       "</div>"
      ],
      "text/plain": [
       "          cue_x     cue_y     one_x     one_y     two_x     two_y  speed  \\\n",
       "0      0.231092  0.805833  0.810622  0.563653  0.255239  1.798254   1.70   \n",
       "1      0.150648  0.351235  0.819565  1.267361  0.431713  1.077468   0.80   \n",
       "2      0.170627  0.652094  0.179184  1.690016  0.960380  0.957741   2.00   \n",
       "3      0.218175  0.476620  0.813862  1.191725  0.403459  1.871007   2.00   \n",
       "4      0.426315  0.862200  0.562864  0.165306  0.306319  0.549656   1.85   \n",
       "...         ...       ...       ...       ...       ...       ...    ...   \n",
       "16295  0.105762  0.918199  0.318486  0.248407  0.798430  0.674730   1.70   \n",
       "16296  0.366726  0.556364  0.293317  0.898841  0.098640  0.549313   1.55   \n",
       "16297  0.080874  0.404310  0.843240  0.771046  0.736955  0.053003   1.55   \n",
       "16298  0.180083  0.509725  0.260309  0.957844  0.646462  0.522819   2.15   \n",
       "16299  0.179874  0.723072  0.838642  0.486707  0.352634  1.302215   1.85   \n",
       "\n",
       "       vspin  hspin  \n",
       "0       -0.1    0.1  \n",
       "1       -0.4   -0.2  \n",
       "2       -0.2    0.0  \n",
       "3        0.1    0.2  \n",
       "4       -0.1   -0.2  \n",
       "...      ...    ...  \n",
       "16295    0.1   -0.1  \n",
       "16296    0.1    0.0  \n",
       "16297   -0.1   -0.1  \n",
       "16298   -0.5    0.0  \n",
       "16299    0.0    0.0  \n",
       "\n",
       "[16500 rows x 9 columns]"
      ]
     },
     "execution_count": 77,
     "metadata": {},
     "output_type": "execute_result"
    }
   ],
   "source": [
    "cdf"
   ]
  },
  {
   "cell_type": "code",
   "execution_count": 80,
   "id": "aaea4c98-d068-4a40-b393-138f64a6f7ee",
   "metadata": {
    "tags": []
   },
   "outputs": [],
   "source": [
    "X = cdf.loc[:,[col not in ['speed', 'vspin', 'hspin'] for col in cdf.columns]]\n",
    "y = cdf[['speed', 'vspin', 'hspin']]\n",
    "#y = cdf[['speed']]\n",
    "#y = cdf[['hspin']]"
   ]
  },
  {
   "cell_type": "code",
   "execution_count": 38,
   "id": "8122304b-81f8-4cfc-ba73-ed1f512bd4d7",
   "metadata": {
    "tags": []
   },
   "outputs": [],
   "source": [
    "X = df3.loc[:,[col not in ['end_x', 'end_y'] for col in df.columns]]\n",
    "y = df3[['end_x', 'end_y']]"
   ]
  },
  {
   "cell_type": "code",
   "execution_count": 84,
   "id": "1a2a797f-5fc5-42d9-81ba-dab5c6faa726",
   "metadata": {
    "tags": []
   },
   "outputs": [],
   "source": [
    "X_train, X_test, y_train, y_test = train_test_split(X, y, test_size = 0.1)"
   ]
  },
  {
   "cell_type": "code",
   "execution_count": 86,
   "id": "f157dd10-7373-4804-b8c7-2d846c5671aa",
   "metadata": {
    "tags": []
   },
   "outputs": [],
   "source": [
    "dtrain = xgb.DMatrix(X_train, label=y_train)\n",
    "dtest = xgb.DMatrix(X_test, label=y_test)\n",
    "dall = xgb.DMatrix(X, label=y)"
   ]
  },
  {
   "cell_type": "code",
   "execution_count": 87,
   "id": "39cebae3-f607-4686-893e-7f07f7c49792",
   "metadata": {
    "tags": []
   },
   "outputs": [
    {
     "name": "stdout",
     "output_type": "stream",
     "text": [
      "[0]\ttrain-rmse:0.53597\teval-rmse:0.53558\n",
      "[1]\ttrain-rmse:0.39369\teval-rmse:0.39177\n",
      "[2]\ttrain-rmse:0.34413\teval-rmse:0.34150\n",
      "[3]\ttrain-rmse:0.31694\teval-rmse:0.31440\n",
      "[4]\ttrain-rmse:0.29946\teval-rmse:0.29681\n",
      "[5]\ttrain-rmse:0.28629\teval-rmse:0.28406\n",
      "[6]\ttrain-rmse:0.27384\teval-rmse:0.27220\n",
      "[7]\ttrain-rmse:0.26287\teval-rmse:0.26212\n",
      "[8]\ttrain-rmse:0.25354\teval-rmse:0.25230\n",
      "[9]\ttrain-rmse:0.24497\teval-rmse:0.24352\n",
      "[10]\ttrain-rmse:0.23634\teval-rmse:0.23505\n",
      "[11]\ttrain-rmse:0.22861\teval-rmse:0.22751\n",
      "[12]\ttrain-rmse:0.22125\teval-rmse:0.21973\n",
      "[13]\ttrain-rmse:0.21414\teval-rmse:0.21236\n",
      "[14]\ttrain-rmse:0.20780\teval-rmse:0.20624\n",
      "[15]\ttrain-rmse:0.20120\teval-rmse:0.19951\n",
      "[16]\ttrain-rmse:0.19508\teval-rmse:0.19366\n",
      "[17]\ttrain-rmse:0.18961\teval-rmse:0.18827\n",
      "[18]\ttrain-rmse:0.18396\teval-rmse:0.18269\n",
      "[19]\ttrain-rmse:0.17880\teval-rmse:0.17772\n",
      "[20]\ttrain-rmse:0.17330\teval-rmse:0.17223\n",
      "[21]\ttrain-rmse:0.16819\teval-rmse:0.16730\n",
      "[22]\ttrain-rmse:0.16341\teval-rmse:0.16245\n",
      "[23]\ttrain-rmse:0.15905\teval-rmse:0.15813\n",
      "[24]\ttrain-rmse:0.15463\teval-rmse:0.15358\n",
      "[25]\ttrain-rmse:0.15086\teval-rmse:0.14980\n",
      "[26]\ttrain-rmse:0.14730\teval-rmse:0.14633\n",
      "[27]\ttrain-rmse:0.14347\teval-rmse:0.14248\n",
      "[28]\ttrain-rmse:0.13967\teval-rmse:0.13901\n",
      "[29]\ttrain-rmse:0.13589\teval-rmse:0.13522\n"
     ]
    }
   ],
   "source": [
    "param = {'max_depth': 30, 'eta': 0.5, 'lambda': 100, 'objective': 'reg:squarederror'}\n",
    "evallist = [(dall, 'train'), (dtest, 'eval')]\n",
    "num_round = 30\n",
    "\n",
    "reg = xgb.train(param, dall, num_round, evallist)"
   ]
  },
  {
   "cell_type": "code",
   "execution_count": 199,
   "id": "2b39db8a-7a1c-4c76-b1a5-6a917e72d3cb",
   "metadata": {
    "tags": []
   },
   "outputs": [
    {
     "name": "stderr",
     "output_type": "stream",
     "text": [
      "C:\\Users\\Masahiro\\anaconda3\\envs\\ML\\lib\\site-packages\\xgboost\\core.py:617: FutureWarning: Pass `objective` as keyword args.\n",
      "  warnings.warn(msg, FutureWarning)\n",
      "C:\\Users\\Masahiro\\anaconda3\\envs\\ML\\lib\\site-packages\\xgboost\\sklearn.py:782: UserWarning: Loading a native XGBoost model with Scikit-Learn interface.\n",
      "  warnings.warn(\"Loading a native XGBoost model with Scikit-Learn interface.\")\n"
     ]
    }
   ],
   "source": [
    "reg = xgb.XGBRegressor(param)\n",
    "\n",
    "reg.load_model('boosted.json')"
   ]
  },
  {
   "cell_type": "code",
   "execution_count": 22,
   "id": "1967d1d0-0a60-4bc8-9ff2-ddb9a9a9a535",
   "metadata": {
    "collapsed": true,
    "jupyter": {
     "outputs_hidden": true
    },
    "tags": []
   },
   "outputs": [
    {
     "ename": "ValueError",
     "evalue": "DataFrame.dtypes for data must be int, float, bool or category. When categorical type is supplied, The experimental DMatrix parameter`enable_categorical` must be set to `True`.  Invalid columns:pocket: object",
     "output_type": "error",
     "traceback": [
      "\u001b[0;31m---------------------------------------------------------------------------\u001b[0m",
      "\u001b[0;31mValueError\u001b[0m                                Traceback (most recent call last)",
      "Cell \u001b[0;32mIn[22], line 2\u001b[0m\n\u001b[1;32m      1\u001b[0m reg \u001b[38;5;241m=\u001b[39m xgb\u001b[38;5;241m.\u001b[39mXGBRegressor(n_estimators \u001b[38;5;241m=\u001b[39m \u001b[38;5;241m4000\u001b[39m)\n\u001b[0;32m----> 2\u001b[0m \u001b[43mreg\u001b[49m\u001b[38;5;241;43m.\u001b[39;49m\u001b[43mfit\u001b[49m\u001b[43m(\u001b[49m\u001b[43mX_train\u001b[49m\u001b[43m,\u001b[49m\u001b[43m \u001b[49m\u001b[43my_train\u001b[49m\u001b[43m)\u001b[49m\n",
      "File \u001b[0;32m/Library/Frameworks/Python.framework/Versions/3.10/lib/python3.10/site-packages/xgboost/core.py:620\u001b[0m, in \u001b[0;36mrequire_keyword_args.<locals>.throw_if.<locals>.inner_f\u001b[0;34m(*args, **kwargs)\u001b[0m\n\u001b[1;32m    618\u001b[0m \u001b[38;5;28;01mfor\u001b[39;00m k, arg \u001b[38;5;129;01min\u001b[39;00m \u001b[38;5;28mzip\u001b[39m(sig\u001b[38;5;241m.\u001b[39mparameters, args):\n\u001b[1;32m    619\u001b[0m     kwargs[k] \u001b[38;5;241m=\u001b[39m arg\n\u001b[0;32m--> 620\u001b[0m \u001b[38;5;28;01mreturn\u001b[39;00m \u001b[43mfunc\u001b[49m\u001b[43m(\u001b[49m\u001b[38;5;241;43m*\u001b[39;49m\u001b[38;5;241;43m*\u001b[39;49m\u001b[43mkwargs\u001b[49m\u001b[43m)\u001b[49m\n",
      "File \u001b[0;32m/Library/Frameworks/Python.framework/Versions/3.10/lib/python3.10/site-packages/xgboost/sklearn.py:988\u001b[0m, in \u001b[0;36mXGBModel.fit\u001b[0;34m(self, X, y, sample_weight, base_margin, eval_set, eval_metric, early_stopping_rounds, verbose, xgb_model, sample_weight_eval_set, base_margin_eval_set, feature_weights, callbacks)\u001b[0m\n\u001b[1;32m    986\u001b[0m \u001b[38;5;28;01mwith\u001b[39;00m config_context(verbosity\u001b[38;5;241m=\u001b[39m\u001b[38;5;28mself\u001b[39m\u001b[38;5;241m.\u001b[39mverbosity):\n\u001b[1;32m    987\u001b[0m     evals_result: TrainingCallback\u001b[38;5;241m.\u001b[39mEvalsLog \u001b[38;5;241m=\u001b[39m {}\n\u001b[0;32m--> 988\u001b[0m     train_dmatrix, evals \u001b[38;5;241m=\u001b[39m \u001b[43m_wrap_evaluation_matrices\u001b[49m\u001b[43m(\u001b[49m\n\u001b[1;32m    989\u001b[0m \u001b[43m        \u001b[49m\u001b[43mmissing\u001b[49m\u001b[38;5;241;43m=\u001b[39;49m\u001b[38;5;28;43mself\u001b[39;49m\u001b[38;5;241;43m.\u001b[39;49m\u001b[43mmissing\u001b[49m\u001b[43m,\u001b[49m\n\u001b[1;32m    990\u001b[0m \u001b[43m        \u001b[49m\u001b[43mX\u001b[49m\u001b[38;5;241;43m=\u001b[39;49m\u001b[43mX\u001b[49m\u001b[43m,\u001b[49m\n\u001b[1;32m    991\u001b[0m \u001b[43m        \u001b[49m\u001b[43my\u001b[49m\u001b[38;5;241;43m=\u001b[39;49m\u001b[43my\u001b[49m\u001b[43m,\u001b[49m\n\u001b[1;32m    992\u001b[0m \u001b[43m        \u001b[49m\u001b[43mgroup\u001b[49m\u001b[38;5;241;43m=\u001b[39;49m\u001b[38;5;28;43;01mNone\u001b[39;49;00m\u001b[43m,\u001b[49m\n\u001b[1;32m    993\u001b[0m \u001b[43m        \u001b[49m\u001b[43mqid\u001b[49m\u001b[38;5;241;43m=\u001b[39;49m\u001b[38;5;28;43;01mNone\u001b[39;49;00m\u001b[43m,\u001b[49m\n\u001b[1;32m    994\u001b[0m \u001b[43m        \u001b[49m\u001b[43msample_weight\u001b[49m\u001b[38;5;241;43m=\u001b[39;49m\u001b[43msample_weight\u001b[49m\u001b[43m,\u001b[49m\n\u001b[1;32m    995\u001b[0m \u001b[43m        \u001b[49m\u001b[43mbase_margin\u001b[49m\u001b[38;5;241;43m=\u001b[39;49m\u001b[43mbase_margin\u001b[49m\u001b[43m,\u001b[49m\n\u001b[1;32m    996\u001b[0m \u001b[43m        \u001b[49m\u001b[43mfeature_weights\u001b[49m\u001b[38;5;241;43m=\u001b[39;49m\u001b[43mfeature_weights\u001b[49m\u001b[43m,\u001b[49m\n\u001b[1;32m    997\u001b[0m \u001b[43m        \u001b[49m\u001b[43meval_set\u001b[49m\u001b[38;5;241;43m=\u001b[39;49m\u001b[43meval_set\u001b[49m\u001b[43m,\u001b[49m\n\u001b[1;32m    998\u001b[0m \u001b[43m        \u001b[49m\u001b[43msample_weight_eval_set\u001b[49m\u001b[38;5;241;43m=\u001b[39;49m\u001b[43msample_weight_eval_set\u001b[49m\u001b[43m,\u001b[49m\n\u001b[1;32m    999\u001b[0m \u001b[43m        \u001b[49m\u001b[43mbase_margin_eval_set\u001b[49m\u001b[38;5;241;43m=\u001b[39;49m\u001b[43mbase_margin_eval_set\u001b[49m\u001b[43m,\u001b[49m\n\u001b[1;32m   1000\u001b[0m \u001b[43m        \u001b[49m\u001b[43meval_group\u001b[49m\u001b[38;5;241;43m=\u001b[39;49m\u001b[38;5;28;43;01mNone\u001b[39;49;00m\u001b[43m,\u001b[49m\n\u001b[1;32m   1001\u001b[0m \u001b[43m        \u001b[49m\u001b[43meval_qid\u001b[49m\u001b[38;5;241;43m=\u001b[39;49m\u001b[38;5;28;43;01mNone\u001b[39;49;00m\u001b[43m,\u001b[49m\n\u001b[1;32m   1002\u001b[0m \u001b[43m        \u001b[49m\u001b[43mcreate_dmatrix\u001b[49m\u001b[38;5;241;43m=\u001b[39;49m\u001b[38;5;28;43mself\u001b[39;49m\u001b[38;5;241;43m.\u001b[39;49m\u001b[43m_create_dmatrix\u001b[49m\u001b[43m,\u001b[49m\n\u001b[1;32m   1003\u001b[0m \u001b[43m        \u001b[49m\u001b[43menable_categorical\u001b[49m\u001b[38;5;241;43m=\u001b[39;49m\u001b[38;5;28;43mself\u001b[39;49m\u001b[38;5;241;43m.\u001b[39;49m\u001b[43menable_categorical\u001b[49m\u001b[43m,\u001b[49m\n\u001b[1;32m   1004\u001b[0m \u001b[43m        \u001b[49m\u001b[43mfeature_types\u001b[49m\u001b[38;5;241;43m=\u001b[39;49m\u001b[38;5;28;43mself\u001b[39;49m\u001b[38;5;241;43m.\u001b[39;49m\u001b[43mfeature_types\u001b[49m\u001b[43m,\u001b[49m\n\u001b[1;32m   1005\u001b[0m \u001b[43m    \u001b[49m\u001b[43m)\u001b[49m\n\u001b[1;32m   1006\u001b[0m     params \u001b[38;5;241m=\u001b[39m \u001b[38;5;28mself\u001b[39m\u001b[38;5;241m.\u001b[39mget_xgb_params()\n\u001b[1;32m   1008\u001b[0m     \u001b[38;5;28;01mif\u001b[39;00m callable(\u001b[38;5;28mself\u001b[39m\u001b[38;5;241m.\u001b[39mobjective):\n",
      "File \u001b[0;32m/Library/Frameworks/Python.framework/Versions/3.10/lib/python3.10/site-packages/xgboost/sklearn.py:448\u001b[0m, in \u001b[0;36m_wrap_evaluation_matrices\u001b[0;34m(missing, X, y, group, qid, sample_weight, base_margin, feature_weights, eval_set, sample_weight_eval_set, base_margin_eval_set, eval_group, eval_qid, create_dmatrix, enable_categorical, feature_types)\u001b[0m\n\u001b[1;32m    428\u001b[0m \u001b[38;5;28;01mdef\u001b[39;00m \u001b[38;5;21m_wrap_evaluation_matrices\u001b[39m(\n\u001b[1;32m    429\u001b[0m     missing: \u001b[38;5;28mfloat\u001b[39m,\n\u001b[1;32m    430\u001b[0m     X: Any,\n\u001b[0;32m   (...)\u001b[0m\n\u001b[1;32m    444\u001b[0m     feature_types: Optional[FeatureTypes],\n\u001b[1;32m    445\u001b[0m ) \u001b[38;5;241m-\u001b[39m\u001b[38;5;241m>\u001b[39m Tuple[Any, List[Tuple[Any, \u001b[38;5;28mstr\u001b[39m]]]:\n\u001b[1;32m    446\u001b[0m \u001b[38;5;250m    \u001b[39m\u001b[38;5;124;03m\"\"\"Convert array_like evaluation matrices into DMatrix.  Perform validation on the\u001b[39;00m\n\u001b[1;32m    447\u001b[0m \u001b[38;5;124;03m    way.\"\"\"\u001b[39;00m\n\u001b[0;32m--> 448\u001b[0m     train_dmatrix \u001b[38;5;241m=\u001b[39m \u001b[43mcreate_dmatrix\u001b[49m\u001b[43m(\u001b[49m\n\u001b[1;32m    449\u001b[0m \u001b[43m        \u001b[49m\u001b[43mdata\u001b[49m\u001b[38;5;241;43m=\u001b[39;49m\u001b[43mX\u001b[49m\u001b[43m,\u001b[49m\n\u001b[1;32m    450\u001b[0m \u001b[43m        \u001b[49m\u001b[43mlabel\u001b[49m\u001b[38;5;241;43m=\u001b[39;49m\u001b[43my\u001b[49m\u001b[43m,\u001b[49m\n\u001b[1;32m    451\u001b[0m \u001b[43m        \u001b[49m\u001b[43mgroup\u001b[49m\u001b[38;5;241;43m=\u001b[39;49m\u001b[43mgroup\u001b[49m\u001b[43m,\u001b[49m\n\u001b[1;32m    452\u001b[0m \u001b[43m        \u001b[49m\u001b[43mqid\u001b[49m\u001b[38;5;241;43m=\u001b[39;49m\u001b[43mqid\u001b[49m\u001b[43m,\u001b[49m\n\u001b[1;32m    453\u001b[0m \u001b[43m        \u001b[49m\u001b[43mweight\u001b[49m\u001b[38;5;241;43m=\u001b[39;49m\u001b[43msample_weight\u001b[49m\u001b[43m,\u001b[49m\n\u001b[1;32m    454\u001b[0m \u001b[43m        \u001b[49m\u001b[43mbase_margin\u001b[49m\u001b[38;5;241;43m=\u001b[39;49m\u001b[43mbase_margin\u001b[49m\u001b[43m,\u001b[49m\n\u001b[1;32m    455\u001b[0m \u001b[43m        \u001b[49m\u001b[43mfeature_weights\u001b[49m\u001b[38;5;241;43m=\u001b[39;49m\u001b[43mfeature_weights\u001b[49m\u001b[43m,\u001b[49m\n\u001b[1;32m    456\u001b[0m \u001b[43m        \u001b[49m\u001b[43mmissing\u001b[49m\u001b[38;5;241;43m=\u001b[39;49m\u001b[43mmissing\u001b[49m\u001b[43m,\u001b[49m\n\u001b[1;32m    457\u001b[0m \u001b[43m        \u001b[49m\u001b[43menable_categorical\u001b[49m\u001b[38;5;241;43m=\u001b[39;49m\u001b[43menable_categorical\u001b[49m\u001b[43m,\u001b[49m\n\u001b[1;32m    458\u001b[0m \u001b[43m        \u001b[49m\u001b[43mfeature_types\u001b[49m\u001b[38;5;241;43m=\u001b[39;49m\u001b[43mfeature_types\u001b[49m\u001b[43m,\u001b[49m\n\u001b[1;32m    459\u001b[0m \u001b[43m        \u001b[49m\u001b[43mref\u001b[49m\u001b[38;5;241;43m=\u001b[39;49m\u001b[38;5;28;43;01mNone\u001b[39;49;00m\u001b[43m,\u001b[49m\n\u001b[1;32m    460\u001b[0m \u001b[43m    \u001b[49m\u001b[43m)\u001b[49m\n\u001b[1;32m    462\u001b[0m     n_validation \u001b[38;5;241m=\u001b[39m \u001b[38;5;241m0\u001b[39m \u001b[38;5;28;01mif\u001b[39;00m eval_set \u001b[38;5;129;01mis\u001b[39;00m \u001b[38;5;28;01mNone\u001b[39;00m \u001b[38;5;28;01melse\u001b[39;00m \u001b[38;5;28mlen\u001b[39m(eval_set)\n\u001b[1;32m    464\u001b[0m     \u001b[38;5;28;01mdef\u001b[39;00m \u001b[38;5;21mvalidate_or_none\u001b[39m(meta: Optional[Sequence], name: \u001b[38;5;28mstr\u001b[39m) \u001b[38;5;241m-\u001b[39m\u001b[38;5;241m>\u001b[39m Sequence:\n",
      "File \u001b[0;32m/Library/Frameworks/Python.framework/Versions/3.10/lib/python3.10/site-packages/xgboost/sklearn.py:908\u001b[0m, in \u001b[0;36mXGBModel._create_dmatrix\u001b[0;34m(self, ref, **kwargs)\u001b[0m\n\u001b[1;32m    906\u001b[0m     \u001b[38;5;28;01mexcept\u001b[39;00m \u001b[38;5;167;01mTypeError\u001b[39;00m:  \u001b[38;5;66;03m# `QuantileDMatrix` supports lesser types than DMatrix\u001b[39;00m\n\u001b[1;32m    907\u001b[0m         \u001b[38;5;28;01mpass\u001b[39;00m\n\u001b[0;32m--> 908\u001b[0m \u001b[38;5;28;01mreturn\u001b[39;00m \u001b[43mDMatrix\u001b[49m\u001b[43m(\u001b[49m\u001b[38;5;241;43m*\u001b[39;49m\u001b[38;5;241;43m*\u001b[39;49m\u001b[43mkwargs\u001b[49m\u001b[43m,\u001b[49m\u001b[43m \u001b[49m\u001b[43mnthread\u001b[49m\u001b[38;5;241;43m=\u001b[39;49m\u001b[38;5;28;43mself\u001b[39;49m\u001b[38;5;241;43m.\u001b[39;49m\u001b[43mn_jobs\u001b[49m\u001b[43m)\u001b[49m\n",
      "File \u001b[0;32m/Library/Frameworks/Python.framework/Versions/3.10/lib/python3.10/site-packages/xgboost/core.py:620\u001b[0m, in \u001b[0;36mrequire_keyword_args.<locals>.throw_if.<locals>.inner_f\u001b[0;34m(*args, **kwargs)\u001b[0m\n\u001b[1;32m    618\u001b[0m \u001b[38;5;28;01mfor\u001b[39;00m k, arg \u001b[38;5;129;01min\u001b[39;00m \u001b[38;5;28mzip\u001b[39m(sig\u001b[38;5;241m.\u001b[39mparameters, args):\n\u001b[1;32m    619\u001b[0m     kwargs[k] \u001b[38;5;241m=\u001b[39m arg\n\u001b[0;32m--> 620\u001b[0m \u001b[38;5;28;01mreturn\u001b[39;00m \u001b[43mfunc\u001b[49m\u001b[43m(\u001b[49m\u001b[38;5;241;43m*\u001b[39;49m\u001b[38;5;241;43m*\u001b[39;49m\u001b[43mkwargs\u001b[49m\u001b[43m)\u001b[49m\n",
      "File \u001b[0;32m/Library/Frameworks/Python.framework/Versions/3.10/lib/python3.10/site-packages/xgboost/core.py:743\u001b[0m, in \u001b[0;36mDMatrix.__init__\u001b[0;34m(self, data, label, weight, base_margin, missing, silent, feature_names, feature_types, nthread, group, qid, label_lower_bound, label_upper_bound, feature_weights, enable_categorical)\u001b[0m\n\u001b[1;32m    740\u001b[0m     \u001b[38;5;28;01massert\u001b[39;00m \u001b[38;5;28mself\u001b[39m\u001b[38;5;241m.\u001b[39mhandle \u001b[38;5;129;01mis\u001b[39;00m \u001b[38;5;129;01mnot\u001b[39;00m \u001b[38;5;28;01mNone\u001b[39;00m\n\u001b[1;32m    741\u001b[0m     \u001b[38;5;28;01mreturn\u001b[39;00m\n\u001b[0;32m--> 743\u001b[0m handle, feature_names, feature_types \u001b[38;5;241m=\u001b[39m \u001b[43mdispatch_data_backend\u001b[49m\u001b[43m(\u001b[49m\n\u001b[1;32m    744\u001b[0m \u001b[43m    \u001b[49m\u001b[43mdata\u001b[49m\u001b[43m,\u001b[49m\n\u001b[1;32m    745\u001b[0m \u001b[43m    \u001b[49m\u001b[43mmissing\u001b[49m\u001b[38;5;241;43m=\u001b[39;49m\u001b[38;5;28;43mself\u001b[39;49m\u001b[38;5;241;43m.\u001b[39;49m\u001b[43mmissing\u001b[49m\u001b[43m,\u001b[49m\n\u001b[1;32m    746\u001b[0m \u001b[43m    \u001b[49m\u001b[43mthreads\u001b[49m\u001b[38;5;241;43m=\u001b[39;49m\u001b[38;5;28;43mself\u001b[39;49m\u001b[38;5;241;43m.\u001b[39;49m\u001b[43mnthread\u001b[49m\u001b[43m,\u001b[49m\n\u001b[1;32m    747\u001b[0m \u001b[43m    \u001b[49m\u001b[43mfeature_names\u001b[49m\u001b[38;5;241;43m=\u001b[39;49m\u001b[43mfeature_names\u001b[49m\u001b[43m,\u001b[49m\n\u001b[1;32m    748\u001b[0m \u001b[43m    \u001b[49m\u001b[43mfeature_types\u001b[49m\u001b[38;5;241;43m=\u001b[39;49m\u001b[43mfeature_types\u001b[49m\u001b[43m,\u001b[49m\n\u001b[1;32m    749\u001b[0m \u001b[43m    \u001b[49m\u001b[43menable_categorical\u001b[49m\u001b[38;5;241;43m=\u001b[39;49m\u001b[43menable_categorical\u001b[49m\u001b[43m,\u001b[49m\n\u001b[1;32m    750\u001b[0m \u001b[43m\u001b[49m\u001b[43m)\u001b[49m\n\u001b[1;32m    751\u001b[0m \u001b[38;5;28;01massert\u001b[39;00m handle \u001b[38;5;129;01mis\u001b[39;00m \u001b[38;5;129;01mnot\u001b[39;00m \u001b[38;5;28;01mNone\u001b[39;00m\n\u001b[1;32m    752\u001b[0m \u001b[38;5;28mself\u001b[39m\u001b[38;5;241m.\u001b[39mhandle \u001b[38;5;241m=\u001b[39m handle\n",
      "File \u001b[0;32m/Library/Frameworks/Python.framework/Versions/3.10/lib/python3.10/site-packages/xgboost/data.py:970\u001b[0m, in \u001b[0;36mdispatch_data_backend\u001b[0;34m(data, missing, threads, feature_names, feature_types, enable_categorical)\u001b[0m\n\u001b[1;32m    968\u001b[0m     \u001b[38;5;28;01mreturn\u001b[39;00m _from_tuple(data, missing, threads, feature_names, feature_types)\n\u001b[1;32m    969\u001b[0m \u001b[38;5;28;01mif\u001b[39;00m _is_pandas_df(data):\n\u001b[0;32m--> 970\u001b[0m     \u001b[38;5;28;01mreturn\u001b[39;00m \u001b[43m_from_pandas_df\u001b[49m\u001b[43m(\u001b[49m\u001b[43mdata\u001b[49m\u001b[43m,\u001b[49m\u001b[43m \u001b[49m\u001b[43menable_categorical\u001b[49m\u001b[43m,\u001b[49m\u001b[43m \u001b[49m\u001b[43mmissing\u001b[49m\u001b[43m,\u001b[49m\u001b[43m \u001b[49m\u001b[43mthreads\u001b[49m\u001b[43m,\u001b[49m\n\u001b[1;32m    971\u001b[0m \u001b[43m                           \u001b[49m\u001b[43mfeature_names\u001b[49m\u001b[43m,\u001b[49m\u001b[43m \u001b[49m\u001b[43mfeature_types\u001b[49m\u001b[43m)\u001b[49m\n\u001b[1;32m    972\u001b[0m \u001b[38;5;28;01mif\u001b[39;00m _is_pandas_series(data):\n\u001b[1;32m    973\u001b[0m     \u001b[38;5;28;01mreturn\u001b[39;00m _from_pandas_series(\n\u001b[1;32m    974\u001b[0m         data, missing, threads, enable_categorical, feature_names, feature_types\n\u001b[1;32m    975\u001b[0m     )\n",
      "File \u001b[0;32m/Library/Frameworks/Python.framework/Versions/3.10/lib/python3.10/site-packages/xgboost/data.py:417\u001b[0m, in \u001b[0;36m_from_pandas_df\u001b[0;34m(data, enable_categorical, missing, nthread, feature_names, feature_types)\u001b[0m\n\u001b[1;32m    409\u001b[0m \u001b[38;5;28;01mdef\u001b[39;00m \u001b[38;5;21m_from_pandas_df\u001b[39m(\n\u001b[1;32m    410\u001b[0m     data: DataFrame,\n\u001b[1;32m    411\u001b[0m     enable_categorical: \u001b[38;5;28mbool\u001b[39m,\n\u001b[0;32m   (...)\u001b[0m\n\u001b[1;32m    415\u001b[0m     feature_types: Optional[FeatureTypes],\n\u001b[1;32m    416\u001b[0m ) \u001b[38;5;241m-\u001b[39m\u001b[38;5;241m>\u001b[39m DispatchedDataBackendReturnType:\n\u001b[0;32m--> 417\u001b[0m     data, feature_names, feature_types \u001b[38;5;241m=\u001b[39m \u001b[43m_transform_pandas_df\u001b[49m\u001b[43m(\u001b[49m\n\u001b[1;32m    418\u001b[0m \u001b[43m        \u001b[49m\u001b[43mdata\u001b[49m\u001b[43m,\u001b[49m\u001b[43m \u001b[49m\u001b[43menable_categorical\u001b[49m\u001b[43m,\u001b[49m\u001b[43m \u001b[49m\u001b[43mfeature_names\u001b[49m\u001b[43m,\u001b[49m\u001b[43m \u001b[49m\u001b[43mfeature_types\u001b[49m\n\u001b[1;32m    419\u001b[0m \u001b[43m    \u001b[49m\u001b[43m)\u001b[49m\n\u001b[1;32m    420\u001b[0m     \u001b[38;5;28;01mreturn\u001b[39;00m _from_numpy_array(data, missing, nthread, feature_names, feature_types)\n",
      "File \u001b[0;32m/Library/Frameworks/Python.framework/Versions/3.10/lib/python3.10/site-packages/xgboost/data.py:391\u001b[0m, in \u001b[0;36m_transform_pandas_df\u001b[0;34m(data, enable_categorical, feature_names, feature_types, meta, meta_type)\u001b[0m\n\u001b[1;32m    379\u001b[0m \u001b[38;5;28;01mfrom\u001b[39;00m \u001b[38;5;21;01mpandas\u001b[39;00m\u001b[38;5;21;01m.\u001b[39;00m\u001b[38;5;21;01mapi\u001b[39;00m\u001b[38;5;21;01m.\u001b[39;00m\u001b[38;5;21;01mtypes\u001b[39;00m \u001b[38;5;28;01mimport\u001b[39;00m (\n\u001b[1;32m    380\u001b[0m     is_sparse,\n\u001b[1;32m    381\u001b[0m     is_categorical_dtype,\n\u001b[1;32m    382\u001b[0m )\n\u001b[1;32m    384\u001b[0m \u001b[38;5;28;01mif\u001b[39;00m \u001b[38;5;129;01mnot\u001b[39;00m \u001b[38;5;28mall\u001b[39m(\n\u001b[1;32m    385\u001b[0m     dtype\u001b[38;5;241m.\u001b[39mname \u001b[38;5;129;01min\u001b[39;00m _pandas_dtype_mapper\n\u001b[1;32m    386\u001b[0m     \u001b[38;5;129;01mor\u001b[39;00m is_sparse(dtype)\n\u001b[0;32m   (...)\u001b[0m\n\u001b[1;32m    389\u001b[0m     \u001b[38;5;28;01mfor\u001b[39;00m dtype \u001b[38;5;129;01min\u001b[39;00m data\u001b[38;5;241m.\u001b[39mdtypes\n\u001b[1;32m    390\u001b[0m ):\n\u001b[0;32m--> 391\u001b[0m     \u001b[43m_invalid_dataframe_dtype\u001b[49m\u001b[43m(\u001b[49m\u001b[43mdata\u001b[49m\u001b[43m)\u001b[49m\n\u001b[1;32m    393\u001b[0m feature_names, feature_types \u001b[38;5;241m=\u001b[39m _pandas_feature_info(\n\u001b[1;32m    394\u001b[0m     data, meta, feature_names, feature_types, enable_categorical\n\u001b[1;32m    395\u001b[0m )\n\u001b[1;32m    397\u001b[0m transformed \u001b[38;5;241m=\u001b[39m _pandas_cat_null(data)\n",
      "File \u001b[0;32m/Library/Frameworks/Python.framework/Versions/3.10/lib/python3.10/site-packages/xgboost/data.py:283\u001b[0m, in \u001b[0;36m_invalid_dataframe_dtype\u001b[0;34m(data)\u001b[0m\n\u001b[1;32m    281\u001b[0m type_err \u001b[38;5;241m=\u001b[39m \u001b[38;5;124m\"\u001b[39m\u001b[38;5;124mDataFrame.dtypes for data must be int, float, bool or category.\u001b[39m\u001b[38;5;124m\"\u001b[39m\n\u001b[1;32m    282\u001b[0m msg \u001b[38;5;241m=\u001b[39m \u001b[38;5;124mf\u001b[39m\u001b[38;5;124m\"\"\"\u001b[39m\u001b[38;5;132;01m{\u001b[39;00mtype_err\u001b[38;5;132;01m}\u001b[39;00m\u001b[38;5;124m \u001b[39m\u001b[38;5;132;01m{\u001b[39;00m_ENABLE_CAT_ERR\u001b[38;5;132;01m}\u001b[39;00m\u001b[38;5;124m \u001b[39m\u001b[38;5;132;01m{\u001b[39;00merr\u001b[38;5;132;01m}\u001b[39;00m\u001b[38;5;124m\"\"\"\u001b[39m\n\u001b[0;32m--> 283\u001b[0m \u001b[38;5;28;01mraise\u001b[39;00m \u001b[38;5;167;01mValueError\u001b[39;00m(msg)\n",
      "\u001b[0;31mValueError\u001b[0m: DataFrame.dtypes for data must be int, float, bool or category. When categorical type is supplied, The experimental DMatrix parameter`enable_categorical` must be set to `True`.  Invalid columns:pocket: object"
     ]
    }
   ],
   "source": [
    "reg = xgb.XGBRegressor(n_estimators = 4000)\n",
    "reg.fit(X_train, y_train)"
   ]
  },
  {
   "cell_type": "code",
   "execution_count": 42,
   "id": "5bf15625-2f5c-4b9f-a009-28296f082f0d",
   "metadata": {
    "tags": []
   },
   "outputs": [
    {
     "name": "stdout",
     "output_type": "stream",
     "text": [
      "finished sampling\n",
      "finished one tree\n",
      "finished sampling\n",
      "finished one tree\n",
      "finished sampling\n",
      "finished one tree\n",
      "finished sampling\n",
      "finished one tree\n"
     ]
    }
   ],
   "source": [
    "#Construct an ensemble of boosted trees\n",
    "\n",
    "n_trees = 4\n",
    "ensemble = []\n",
    "\n",
    "X_train = X_train.reset_index(drop = True)\n",
    "y_train = y_train.reset_index(drop = True)\n",
    "\n",
    "for i in range(n_trees):\n",
    "    X_sample = X_train.sample(10000, replace=True)\n",
    "    print('finished sampling')\n",
    "    y_sample = y_train.iloc[X_sample.index]\n",
    "    reg = xgb.XGBRegressor(n_estimators = 2000)\n",
    "    reg.fit(X_sample, y_sample)\n",
    "    ensemble.append(reg)\n",
    "    print('finished one tree')\n"
   ]
  },
  {
   "cell_type": "code",
   "execution_count": 88,
   "id": "22e2e608-b2c6-4594-bfb9-90bfa5628107",
   "metadata": {},
   "outputs": [],
   "source": [
    "reg.save_model('boosted.json')"
   ]
  },
  {
   "cell_type": "code",
   "execution_count": 47,
   "id": "ec8ca60d-0f79-41a8-bdee-35ab5eab46be",
   "metadata": {
    "tags": []
   },
   "outputs": [
    {
     "name": "stdout",
     "output_type": "stream",
     "text": [
      "-0.27348513598823887\n",
      "-0.27246003380502765\n",
      "-0.2810494551178302\n",
      "-0.27167957588678987\n"
     ]
    },
    {
     "data": {
      "text/plain": [
       "0.21497103015279626"
      ]
     },
     "execution_count": 47,
     "metadata": {},
     "output_type": "execute_result"
    }
   ],
   "source": [
    "#Test ensemble\n",
    "    \n",
    "pred = 0\n",
    "\n",
    "for tree in ensemble:\n",
    "    print(tree.score(X_test, y_test))\n",
    "    pred += tree.predict(X_test)\n",
    "    \n",
    "\n",
    "pred = pred/(len(ensemble))\n",
    "\n",
    "\n",
    "sklearn.metrics.mean_squared_error(y_test, pred)"
   ]
  },
  {
   "cell_type": "code",
   "execution_count": 48,
   "id": "8c864654-58f2-49ac-97ba-f9b71b1c5438",
   "metadata": {
    "tags": []
   },
   "outputs": [
    {
     "data": {
      "text/plain": [
       "array([[ 1.2633480e+00,  2.9607646e-02, -1.6741149e-02],\n",
       "       [ 2.3976054e+00,  1.8321882e-01, -1.5047547e-01],\n",
       "       [ 1.6544925e+00, -7.2578155e-03,  7.4980594e-02],\n",
       "       ...,\n",
       "       [ 2.3123200e+00,  8.3500244e-02, -2.6723787e-02],\n",
       "       [ 1.6825007e+00,  2.3178117e-02, -7.0519723e-02],\n",
       "       [ 1.5403135e+00,  1.8370048e-03,  6.4761922e-02]], dtype=float32)"
      ]
     },
     "execution_count": 48,
     "metadata": {},
     "output_type": "execute_result"
    }
   ],
   "source": [
    "pred"
   ]
  },
  {
   "cell_type": "code",
   "execution_count": 33,
   "id": "53302fa1-313e-4f54-a156-56a7e5ce32ed",
   "metadata": {
    "tags": []
   },
   "outputs": [],
   "source": [
    "for tree in ensemble:\n",
    "    pred += tree.predict(np.array([[2,0.3,0.1]]))"
   ]
  },
  {
   "cell_type": "code",
   "execution_count": 35,
   "id": "4495c1c9-8682-4462-992a-67b9459650c6",
   "metadata": {
    "tags": []
   },
   "outputs": [
    {
     "data": {
      "text/plain": [
       "array([2.3327122, 3.7699025], dtype=float32)"
      ]
     },
     "execution_count": 35,
     "metadata": {},
     "output_type": "execute_result"
    }
   ],
   "source": [
    "pred.reshape(-1)"
   ]
  },
  {
   "cell_type": "code",
   "execution_count": 12,
   "id": "dc9a39f2-5480-4584-abc8-f8f195466218",
   "metadata": {
    "tags": []
   },
   "outputs": [
    {
     "name": "stdout",
     "output_type": "stream",
     "text": [
      "0.3822276280658584\n",
      "0.3460596307384649\n",
      "0.33965134938161246\n"
     ]
    },
    {
     "data": {
      "text/plain": [
       "0.38001340395836725"
      ]
     },
     "execution_count": 12,
     "metadata": {},
     "output_type": "execute_result"
    }
   ],
   "source": [
    "#Test nn ensemble\n",
    "\n",
    "models = [reg_net_2, reg_net_2b, reg_net_2c]\n",
    "\n",
    "predictions = np.zeros(len(y_test))\n",
    "\n",
    "for model in models:\n",
    "    pred = model(torch.as_tensor(np.array(X_test), dtype=torch.float32))\n",
    "    pred = pred.detach().numpy().squeeze() * 100\n",
    "    print(sklearn.metrics.r2_score(y_test, pred))\n",
    "    predictions += pred\n",
    "\n",
    "f_pred = predictions/3\n",
    "\n",
    "sklearn.metrics.r2_score(y_test, f_pred)"
   ]
  },
  {
   "cell_type": "code",
   "execution_count": 70,
   "id": "df23f067-6dc1-448c-8bdd-3bc0c026ecec",
   "metadata": {
    "tags": []
   },
   "outputs": [],
   "source": [
    "X_train, X_test, y_train, y_test = train_test_split(df.iloc[:,:-1], df.iloc[:,-1:])"
   ]
  },
  {
   "cell_type": "code",
   "execution_count": 117,
   "id": "881b3e1e-ecea-4ae7-b67d-ae8c248f2857",
   "metadata": {},
   "outputs": [],
   "source": [
    "dtrain = xgb.DMatrix(X_train, label=y_train)\n",
    "dtest = xgb.DMatrix(X_test, label=y_test)"
   ]
  },
  {
   "cell_type": "code",
   "execution_count": 113,
   "id": "8378b272-fb03-4933-abbd-cda9b1fee836",
   "metadata": {},
   "outputs": [
    {
     "name": "stdout",
     "output_type": "stream",
     "text": [
      "[22:41:48] WARNING: c:\\users\\dev-admin\\croot2\\xgboost-split_1675461376218\\work\\src\\objective\\regression_obj.cu:213: reg:linear is now deprecated in favor of reg:squarederror.\n",
      "[22:41:48] WARNING: C:\\Users\\dev-admin\\croot2\\xgboost-split_1675461376218\\work\\src\\learner.cc:767: \n",
      "Parameters: { \"verbose\" } are not used.\n",
      "\n"
     ]
    }
   ],
   "source": [
    "params = {'objective': 'reg:linear', 'verbose': False}\n",
    "model_1 = xgb.train(params, dtrain, 30)"
   ]
  },
  {
   "cell_type": "code",
   "execution_count": 119,
   "id": "08eca02d-9e77-4cba-aa0a-cda221694dcd",
   "metadata": {},
   "outputs": [
    {
     "name": "stdout",
     "output_type": "stream",
     "text": [
      "-1.8390318864985389\n"
     ]
    }
   ],
   "source": [
    "print(sklearn.metrics.r2_score(model_1.predict(dtest), y_test))"
   ]
  },
  {
   "cell_type": "code",
   "execution_count": null,
   "id": "ca3d92e0-0e8a-4777-84f5-0a4f3f9b7b51",
   "metadata": {
    "tags": []
   },
   "outputs": [],
   "source": [
    "reg.fit(X_train, y_train)"
   ]
  },
  {
   "cell_type": "code",
   "execution_count": null,
   "id": "c5ae24e0-9015-4841-b5dd-293cc788fe43",
   "metadata": {
    "tags": []
   },
   "outputs": [],
   "source": [
    "reg.score(X_train, y_train)"
   ]
  },
  {
   "cell_type": "code",
   "execution_count": null,
   "id": "03cf7903-6c85-4ded-8a08-89cdd48afe2b",
   "metadata": {
    "tags": []
   },
   "outputs": [],
   "source": [
    "reg.score(X_test, y_test)"
   ]
  },
  {
   "cell_type": "code",
   "execution_count": 46,
   "id": "294fd07a-b125-4a9c-88f5-81ce3c6ffe37",
   "metadata": {
    "tags": []
   },
   "outputs": [],
   "source": [
    "reg.save_model('boostedLarge.json')"
   ]
  },
  {
   "cell_type": "code",
   "execution_count": 28,
   "id": "2d53a9f0-8294-4ead-b749-c5a91a49bd1c",
   "metadata": {
    "tags": []
   },
   "outputs": [],
   "source": [
    "pred = reg_net_2(torch.as_tensor(np.array(X_test), dtype=torch.float32))"
   ]
  },
  {
   "cell_type": "code",
   "execution_count": 29,
   "id": "1cf3cf73-1129-4858-bc78-5c85407fbd6f",
   "metadata": {
    "tags": []
   },
   "outputs": [],
   "source": [
    "pred = pred * 100"
   ]
  },
  {
   "cell_type": "code",
   "execution_count": 130,
   "id": "ff441b0a-b68e-464c-8953-49365ef24d3d",
   "metadata": {
    "tags": []
   },
   "outputs": [
    {
     "data": {
      "text/plain": [
       "0.5357155496499317"
      ]
     },
     "execution_count": 130,
     "metadata": {},
     "output_type": "execute_result"
    }
   ],
   "source": [
    "pred = reg_net_2(torch.as_tensor(np.array(X_test), dtype=torch.float32))\n",
    "pred = pred * 100\n",
    "sklearn.metrics.r2_score(y_test, pred.detach().numpy())"
   ]
  },
  {
   "cell_type": "code",
   "execution_count": 25,
   "id": "b61b4198-5534-4bd3-8669-befc2a08dd60",
   "metadata": {},
   "outputs": [],
   "source": [
    "if pred is None:\n",
    "    print('yes')"
   ]
  },
  {
   "cell_type": "code",
   "execution_count": 128,
   "id": "e56614a1-0386-4471-9270-ad14a6bb1b36",
   "metadata": {},
   "outputs": [
    {
     "data": {
      "text/plain": [
       "array([  -2.3956685,   34.64344  ,   32.753227 , ...,   26.775593 ,\n",
       "       -100.       ,   21.044806 ], dtype=float32)"
      ]
     },
     "execution_count": 128,
     "metadata": {},
     "output_type": "execute_result"
    }
   ],
   "source": [
    "pred.detach().numpy().squeeze()"
   ]
  },
  {
   "cell_type": "code",
   "execution_count": 140,
   "id": "8c65ed13-cad9-474f-8d94-67f36e966883",
   "metadata": {
    "tags": []
   },
   "outputs": [
    {
     "data": {
      "text/html": [
       "<div>\n",
       "<style scoped>\n",
       "    .dataframe tbody tr th:only-of-type {\n",
       "        vertical-align: middle;\n",
       "    }\n",
       "\n",
       "    .dataframe tbody tr th {\n",
       "        vertical-align: top;\n",
       "    }\n",
       "\n",
       "    .dataframe thead th {\n",
       "        text-align: right;\n",
       "    }\n",
       "</style>\n",
       "<table border=\"1\" class=\"dataframe\">\n",
       "  <thead>\n",
       "    <tr style=\"text-align: right;\">\n",
       "      <th></th>\n",
       "      <th>value</th>\n",
       "    </tr>\n",
       "  </thead>\n",
       "  <tbody>\n",
       "    <tr>\n",
       "      <th>583669</th>\n",
       "      <td>27.099785</td>\n",
       "    </tr>\n",
       "    <tr>\n",
       "      <th>173925</th>\n",
       "      <td>46.437770</td>\n",
       "    </tr>\n",
       "    <tr>\n",
       "      <th>605310</th>\n",
       "      <td>0.000000</td>\n",
       "    </tr>\n",
       "    <tr>\n",
       "      <th>68553</th>\n",
       "      <td>57.505989</td>\n",
       "    </tr>\n",
       "    <tr>\n",
       "      <th>338129</th>\n",
       "      <td>98.338634</td>\n",
       "    </tr>\n",
       "    <tr>\n",
       "      <th>...</th>\n",
       "      <td>...</td>\n",
       "    </tr>\n",
       "    <tr>\n",
       "      <th>30024</th>\n",
       "      <td>0.000000</td>\n",
       "    </tr>\n",
       "    <tr>\n",
       "      <th>434987</th>\n",
       "      <td>0.000000</td>\n",
       "    </tr>\n",
       "    <tr>\n",
       "      <th>45223</th>\n",
       "      <td>0.000000</td>\n",
       "    </tr>\n",
       "    <tr>\n",
       "      <th>283492</th>\n",
       "      <td>27.589306</td>\n",
       "    </tr>\n",
       "    <tr>\n",
       "      <th>9741</th>\n",
       "      <td>16.320145</td>\n",
       "    </tr>\n",
       "  </tbody>\n",
       "</table>\n",
       "<p>199940 rows × 1 columns</p>\n",
       "</div>"
      ],
      "text/plain": [
       "            value\n",
       "583669  27.099785\n",
       "173925  46.437770\n",
       "605310   0.000000\n",
       "68553   57.505989\n",
       "338129  98.338634\n",
       "...           ...\n",
       "30024    0.000000\n",
       "434987   0.000000\n",
       "45223    0.000000\n",
       "283492  27.589306\n",
       "9741    16.320145\n",
       "\n",
       "[199940 rows x 1 columns]"
      ]
     },
     "execution_count": 140,
     "metadata": {},
     "output_type": "execute_result"
    }
   ],
   "source": [
    "y_test"
   ]
  },
  {
   "cell_type": "code",
   "execution_count": 145,
   "id": "b862c71a-b0c4-44d7-9a32-9b718d0ca29e",
   "metadata": {
    "tags": []
   },
   "outputs": [
    {
     "data": {
      "text/plain": [
       "array([25.98377953, 39.89802303,  1.61306703, 71.43904305, 30.69635973,\n",
       "       27.64241533,  6.11303363, -1.22052059, 24.18680458, 42.36759567,\n",
       "       25.37599125, 31.93653307, 39.33320293, 34.69208317, 30.05631599,\n",
       "        6.99665217, -3.01039083, 20.48804369, 38.48104877, -0.10076074])"
      ]
     },
     "execution_count": 145,
     "metadata": {},
     "output_type": "execute_result"
    }
   ],
   "source": [
    "pred[:20]"
   ]
  },
  {
   "cell_type": "code",
   "execution_count": 22,
   "id": "10ae9ac4-6515-4758-ae74-5ace4c8bd837",
   "metadata": {
    "tags": []
   },
   "outputs": [
    {
     "data": {
      "text/plain": [
       "599819"
      ]
     },
     "execution_count": 22,
     "metadata": {},
     "output_type": "execute_result"
    }
   ],
   "source": [
    "len(X_train)"
   ]
  },
  {
   "cell_type": "code",
   "execution_count": 14,
   "id": "7bc4a397-f1f8-4261-a551-a1fc3ca01132",
   "metadata": {},
   "outputs": [
    {
     "data": {
      "text/plain": [
       "Sequential(\n",
       "  (0): Linear(in_features=9, out_features=32, bias=True)\n",
       "  (1): ReLU()\n",
       "  (2): Linear(in_features=32, out_features=32, bias=True)\n",
       "  (3): ReLU()\n",
       "  (4): Linear(in_features=32, out_features=32, bias=True)\n",
       "  (5): ReLU()\n",
       "  (6): Linear(in_features=32, out_features=32, bias=True)\n",
       "  (7): ReLU()\n",
       "  (8): Linear(in_features=32, out_features=1, bias=True)\n",
       "  (9): Tanh()\n",
       ")"
      ]
     },
     "execution_count": 14,
     "metadata": {},
     "output_type": "execute_result"
    }
   ],
   "source": [
    "reg_net_2b"
   ]
  },
  {
   "cell_type": "code",
   "execution_count": 5,
   "id": "e8983da9-c864-43f2-abd3-d23cc511f0b4",
   "metadata": {
    "tags": []
   },
   "outputs": [
    {
     "data": {
      "text/html": [
       "<div>\n",
       "<style scoped>\n",
       "    .dataframe tbody tr th:only-of-type {\n",
       "        vertical-align: middle;\n",
       "    }\n",
       "\n",
       "    .dataframe tbody tr th {\n",
       "        vertical-align: top;\n",
       "    }\n",
       "\n",
       "    .dataframe thead th {\n",
       "        text-align: right;\n",
       "    }\n",
       "</style>\n",
       "<table border=\"1\" class=\"dataframe\">\n",
       "  <thead>\n",
       "    <tr style=\"text-align: right;\">\n",
       "      <th></th>\n",
       "      <th>cue_x</th>\n",
       "      <th>cue_y</th>\n",
       "      <th>one_x</th>\n",
       "      <th>one_y</th>\n",
       "      <th>two_x</th>\n",
       "      <th>two_y</th>\n",
       "      <th>speed</th>\n",
       "      <th>vspin</th>\n",
       "      <th>hspin</th>\n",
       "    </tr>\n",
       "  </thead>\n",
       "  <tbody>\n",
       "    <tr>\n",
       "      <th>0</th>\n",
       "      <td>0.581036</td>\n",
       "      <td>0.740190</td>\n",
       "      <td>0.268824</td>\n",
       "      <td>0.843442</td>\n",
       "      <td>0.953960</td>\n",
       "      <td>0.861517</td>\n",
       "      <td>1.85</td>\n",
       "      <td>0.30</td>\n",
       "      <td>0.02</td>\n",
       "    </tr>\n",
       "    <tr>\n",
       "      <th>1</th>\n",
       "      <td>0.307287</td>\n",
       "      <td>0.182782</td>\n",
       "      <td>0.292776</td>\n",
       "      <td>1.400334</td>\n",
       "      <td>0.835003</td>\n",
       "      <td>1.645083</td>\n",
       "      <td>1.40</td>\n",
       "      <td>0.00</td>\n",
       "      <td>0.02</td>\n",
       "    </tr>\n",
       "    <tr>\n",
       "      <th>2</th>\n",
       "      <td>0.437656</td>\n",
       "      <td>1.911626</td>\n",
       "      <td>0.039922</td>\n",
       "      <td>0.584923</td>\n",
       "      <td>0.151116</td>\n",
       "      <td>1.469425</td>\n",
       "      <td>2.75</td>\n",
       "      <td>0.10</td>\n",
       "      <td>0.18</td>\n",
       "    </tr>\n",
       "    <tr>\n",
       "      <th>3</th>\n",
       "      <td>0.357712</td>\n",
       "      <td>1.486969</td>\n",
       "      <td>0.344829</td>\n",
       "      <td>1.197008</td>\n",
       "      <td>0.881224</td>\n",
       "      <td>0.922519</td>\n",
       "      <td>2.15</td>\n",
       "      <td>-0.05</td>\n",
       "      <td>0.02</td>\n",
       "    </tr>\n",
       "    <tr>\n",
       "      <th>4</th>\n",
       "      <td>0.646680</td>\n",
       "      <td>1.140687</td>\n",
       "      <td>0.487560</td>\n",
       "      <td>0.806790</td>\n",
       "      <td>0.740952</td>\n",
       "      <td>1.765699</td>\n",
       "      <td>2.45</td>\n",
       "      <td>-0.45</td>\n",
       "      <td>0.02</td>\n",
       "    </tr>\n",
       "  </tbody>\n",
       "</table>\n",
       "</div>"
      ],
      "text/plain": [
       "      cue_x     cue_y     one_x     one_y     two_x     two_y  speed  vspin  \\\n",
       "0  0.581036  0.740190  0.268824  0.843442  0.953960  0.861517   1.85   0.30   \n",
       "1  0.307287  0.182782  0.292776  1.400334  0.835003  1.645083   1.40   0.00   \n",
       "2  0.437656  1.911626  0.039922  0.584923  0.151116  1.469425   2.75   0.10   \n",
       "3  0.357712  1.486969  0.344829  1.197008  0.881224  0.922519   2.15  -0.05   \n",
       "4  0.646680  1.140687  0.487560  0.806790  0.740952  1.765699   2.45  -0.45   \n",
       "\n",
       "   hspin  \n",
       "0   0.02  \n",
       "1   0.02  \n",
       "2   0.18  \n",
       "3   0.02  \n",
       "4   0.02  "
      ]
     },
     "execution_count": 5,
     "metadata": {},
     "output_type": "execute_result"
    }
   ],
   "source": [
    "cdf"
   ]
  },
  {
   "cell_type": "code",
   "execution_count": 75,
   "id": "423a39d2-7407-41a5-a351-ff97be511779",
   "metadata": {},
   "outputs": [
    {
     "data": {
      "text/plain": [
       "[]"
      ]
     },
     "execution_count": 75,
     "metadata": {},
     "output_type": "execute_result"
    }
   ],
   "source": [
    "nums=[1,2]\n",
    "nums[:-2]"
   ]
  },
  {
   "cell_type": "code",
   "execution_count": null,
   "id": "18b8b17e",
   "metadata": {},
   "outputs": [],
   "source": []
  }
 ],
 "metadata": {
  "kernelspec": {
   "display_name": "Python 3 (ipykernel)",
   "language": "python",
   "name": "python3"
  },
  "language_info": {
   "codemirror_mode": {
    "name": "ipython",
    "version": 3
   },
   "file_extension": ".py",
   "mimetype": "text/x-python",
   "name": "python",
   "nbconvert_exporter": "python",
   "pygments_lexer": "ipython3",
   "version": "3.10.10"
  }
 },
 "nbformat": 4,
 "nbformat_minor": 5
}
