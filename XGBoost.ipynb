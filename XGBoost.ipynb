{
 "cells": [
  {
   "cell_type": "code",
   "execution_count": 1,
   "id": "d7cf7d66-2865-41ae-9be5-b007ec4704f1",
   "metadata": {
    "tags": []
   },
   "outputs": [],
   "source": [
    "import xgboost as xgb\n",
    "import pandas as pd\n",
    "import numpy as np\n",
    "import torch\n",
    "from sklearn.model_selection import train_test_split\n",
    "import sklearn\n",
    "import data\n",
    "import pool\n",
    "from pool import PoolAI, balls_to_obs, evaluate, view_shots\n",
    "import time\n",
    "import pooltool as pt"
   ]
  },
  {
   "cell_type": "code",
   "execution_count": 2,
   "id": "c74a345e-7ecb-446d-8a36-8330036ca01e",
   "metadata": {
    "tags": []
   },
   "outputs": [],
   "source": [
    "baseline = PoolAI(features = [balls_to_obs], output = 'hit', hit_scale = 'raw')"
   ]
  },
  {
   "cell_type": "code",
   "execution_count": 3,
   "id": "41426d64-36c5-4cac-83d7-489c06f3059f",
   "metadata": {
    "tags": []
   },
   "outputs": [
    {
     "name": "stderr",
     "output_type": "stream",
     "text": [
      "/Library/Frameworks/Python.framework/Versions/3.10/lib/python3.10/site-packages/xgboost/core.py:617: FutureWarning: Pass `objective` as keyword args.\n",
      "  warnings.warn(msg, FutureWarning)\n",
      "/Library/Frameworks/Python.framework/Versions/3.10/lib/python3.10/site-packages/xgboost/sklearn.py:782: UserWarning: Loading a native XGBoost model with Scikit-Learn interface.\n",
      "  warnings.warn(\"Loading a native XGBoost model with Scikit-Learn interface.\")\n"
     ]
    }
   ],
   "source": [
    "param = {'max_depth': 30, 'eta': 0.4, 'lambda': 100, 'objective': 'reg:squarederror'}\n",
    "\n",
    "boosted = xgb.XGBRegressor(param)\n",
    "\n",
    "boosted.load_model('boosted.json')"
   ]
  },
  {
   "cell_type": "code",
   "execution_count": 4,
   "id": "b5bf7763-20e9-4b88-a40f-122d3d4cab8a",
   "metadata": {
    "tags": []
   },
   "outputs": [],
   "source": [
    "treemodel = PoolAI(model = boosted, features = [balls_to_obs], output = 'hit', hit_scale = 'raw')"
   ]
  },
  {
   "cell_type": "code",
   "execution_count": 14,
   "id": "102d54fc-e54b-4de2-a1a7-9acc6b5568d0",
   "metadata": {
    "tags": []
   },
   "outputs": [],
   "source": [
    "result = evaluate([baseline, treemodel], n_shots=500)"
   ]
  },
  {
   "cell_type": "code",
   "execution_count": 15,
   "id": "b8c8e25b-1659-447e-92df-0835c3fed547",
   "metadata": {
    "tags": []
   },
   "outputs": [
    {
     "data": {
      "text/plain": [
       "0.3296272201900057"
      ]
     },
     "execution_count": 15,
     "metadata": {},
     "output_type": "execute_result"
    }
   ],
   "source": [
    "result[baseline]"
   ]
  },
  {
   "cell_type": "code",
   "execution_count": 16,
   "id": "11834b68-c452-489e-9cd1-961f858f5673",
   "metadata": {
    "tags": []
   },
   "outputs": [
    {
     "data": {
      "text/plain": [
       "0.36838238596240147"
      ]
     },
     "execution_count": 16,
     "metadata": {},
     "output_type": "execute_result"
    }
   ],
   "source": [
    "result[treemodel]"
   ]
  },
  {
   "cell_type": "code",
   "execution_count": 5,
   "id": "2324a897-de95-4f28-88d1-b7a9a856452b",
   "metadata": {
    "tags": []
   },
   "outputs": [
    {
     "name": "stderr",
     "output_type": "stream",
     "text": [
      "Known pipe types:\n",
      "  CocoaGraphicsPipe\n",
      "(all display modules loaded.)\n",
      ":interval(warning): CLerpNodePathInterval::priv_step() called for LerpPosQuatInterval-3 in state final.\n",
      ":interval(warning): CLerpNodePathInterval::priv_step() called for LerpPosInterval-4 in state final.\n",
      ":interval(warning): CLerpNodePathInterval::priv_step() called for LerpPosQuatInterval-1427 in state final.\n",
      ":interval(warning): CLerpNodePathInterval::priv_step() called for LerpPosInterval-1428 in state final.\n",
      ":interval(warning): CLerpNodePathInterval::priv_step() called for LerpPosQuatInterval-1471 in state final.\n",
      ":interval(warning): CLerpNodePathInterval::priv_step() called for LerpPosInterval-1472 in state final.\n",
      ":interval(warning): CLerpNodePathInterval::priv_step() called for LerpPosQuatInterval-2495 in state final.\n",
      ":interval(warning): CLerpNodePathInterval::priv_step() called for LerpPosInterval-2496 in state final.\n",
      ":interval(warning): CLerpNodePathInterval::priv_step() called for LerpPosQuatInterval-2521 in state final.\n",
      ":interval(warning): CLerpNodePathInterval::priv_step() called for LerpPosInterval-2522 in state final.\n",
      ":interval(warning): CLerpNodePathInterval::priv_step() called for LerpPosQuatInterval-3493 in state final.\n",
      ":interval(warning): CLerpNodePathInterval::priv_step() called for LerpPosInterval-3494 in state final.\n",
      ":interval(warning): CLerpNodePathInterval::priv_step() called for LerpPosQuatInterval-4735 in state final.\n",
      ":interval(warning): CLerpNodePathInterval::priv_step() called for LerpPosInterval-4736 in state final.\n",
      ":interval(warning): CLerpNodePathInterval::priv_step() called for LerpPosQuatInterval-4855 in state final.\n",
      ":interval(warning): CLerpNodePathInterval::priv_step() called for LerpPosInterval-4856 in state final.\n",
      ":interval(warning): CLerpNodePathInterval::priv_step() called for LerpPosQuatInterval-6135 in state final.\n",
      ":interval(warning): CLerpNodePathInterval::priv_step() called for LerpPosInterval-6136 in state final.\n",
      ":interval(warning): CLerpNodePathInterval::priv_step() called for LerpPosQuatInterval-6169 in state final.\n",
      ":interval(warning): CLerpNodePathInterval::priv_step() called for LerpPosInterval-6170 in state final.\n",
      ":interval(warning): CLerpNodePathInterval::priv_step() called for LerpPosQuatInterval-7013 in state final.\n",
      ":interval(warning): CLerpNodePathInterval::priv_step() called for LerpPosInterval-7014 in state final.\n",
      ":interval(warning): CLerpNodePathInterval::priv_step() called for LerpPosQuatInterval-13131 in state final.\n",
      ":interval(warning): CLerpNodePathInterval::priv_step() called for LerpPosInterval-13132 in state final.\n",
      ":interval(warning): CLerpNodePathInterval::priv_step() called for LerpPosQuatInterval-13453 in state final.\n",
      ":interval(warning): CLerpNodePathInterval::priv_step() called for LerpPosInterval-13454 in state final.\n",
      ":interval(warning): CLerpNodePathInterval::priv_step() called for LerpPosQuatInterval-13131 in state final.\n",
      ":interval(warning): CLerpNodePathInterval::priv_step() called for LerpPosInterval-13132 in state final.\n",
      ":interval(warning): CLerpNodePathInterval::priv_step() called for LerpPosQuatInterval-13453 in state final.\n",
      ":interval(warning): CLerpNodePathInterval::priv_step() called for LerpPosInterval-13454 in state final.\n",
      ":interval(warning): CLerpNodePathInterval::priv_step() called for LerpPosQuatInterval-14621 in state final.\n",
      ":interval(warning): CLerpNodePathInterval::priv_step() called for LerpPosInterval-14622 in state final.\n",
      ":interval(warning): CLerpNodePathInterval::priv_step() called for LerpPosQuatInterval-14777 in state final.\n",
      ":interval(warning): CLerpNodePathInterval::priv_step() called for LerpPosInterval-14778 in state final.\n",
      ":interval(warning): CLerpNodePathInterval::priv_step() called for LerpPosQuatInterval-14621 in state final.\n",
      ":interval(warning): CLerpNodePathInterval::priv_step() called for LerpPosInterval-14622 in state final.\n",
      ":interval(warning): CLerpNodePathInterval::priv_step() called for LerpPosQuatInterval-14777 in state final.\n",
      ":interval(warning): CLerpNodePathInterval::priv_step() called for LerpPosInterval-14778 in state final.\n",
      ":interval(warning): CLerpNodePathInterval::priv_step() called for LerpPosQuatInterval-14621 in state final.\n",
      ":interval(warning): CLerpNodePathInterval::priv_step() called for LerpPosInterval-14622 in state final.\n",
      ":interval(warning): CLerpNodePathInterval::priv_step() called for LerpPosQuatInterval-14777 in state final.\n",
      ":interval(warning): CLerpNodePathInterval::priv_step() called for LerpPosInterval-14778 in state final.\n",
      ":interval(warning): CLerpNodePathInterval::priv_step() called for LerpPosQuatInterval-14621 in state final.\n",
      ":interval(warning): CLerpNodePathInterval::priv_step() called for LerpPosInterval-14622 in state final.\n",
      ":interval(warning): CLerpNodePathInterval::priv_step() called for LerpPosQuatInterval-14777 in state final.\n",
      ":interval(warning): CLerpNodePathInterval::priv_step() called for LerpPosInterval-14778 in state final.\n",
      ":interval(warning): CLerpNodePathInterval::priv_step() called for LerpPosQuatInterval-23337 in state final.\n",
      ":interval(warning): CLerpNodePathInterval::priv_step() called for LerpPosInterval-23338 in state final.\n",
      ":interval(warning): CLerpNodePathInterval::priv_step() called for LerpPosQuatInterval-23771 in state final.\n",
      ":interval(warning): CLerpNodePathInterval::priv_step() called for LerpPosInterval-23772 in state final.\n",
      ":interval(warning): CLerpNodePathInterval::priv_step() called for LerpPosQuatInterval-23809 in state final.\n",
      ":interval(warning): CLerpNodePathInterval::priv_step() called for LerpPosInterval-23810 in state final.\n",
      ":interval(warning): CLerpNodePathInterval::priv_step() called for LerpPosQuatInterval-24003 in state final.\n",
      ":interval(warning): CLerpNodePathInterval::priv_step() called for LerpPosInterval-24004 in state final.\n"
     ]
    }
   ],
   "source": [
    "view_shots(treemodel, n_shots=20)"
   ]
  },
  {
   "cell_type": "code",
   "execution_count": 5,
   "id": "d3dcb9e5-6f8f-4583-b644-cee035311732",
   "metadata": {
    "tags": []
   },
   "outputs": [
    {
     "data": {
      "text/html": [
       "<div>\n",
       "<style scoped>\n",
       "    .dataframe tbody tr th:only-of-type {\n",
       "        vertical-align: middle;\n",
       "    }\n",
       "\n",
       "    .dataframe tbody tr th {\n",
       "        vertical-align: top;\n",
       "    }\n",
       "\n",
       "    .dataframe thead th {\n",
       "        text-align: right;\n",
       "    }\n",
       "</style>\n",
       "<table border=\"1\" class=\"dataframe\">\n",
       "  <thead>\n",
       "    <tr style=\"text-align: right;\">\n",
       "      <th></th>\n",
       "      <th>cue_x</th>\n",
       "      <th>cue_y</th>\n",
       "      <th>one_x</th>\n",
       "      <th>one_y</th>\n",
       "      <th>two_x</th>\n",
       "      <th>two_y</th>\n",
       "      <th>speed</th>\n",
       "      <th>vspin</th>\n",
       "      <th>hspin</th>\n",
       "    </tr>\n",
       "  </thead>\n",
       "  <tbody>\n",
       "    <tr>\n",
       "      <th>0</th>\n",
       "      <td>0.248992</td>\n",
       "      <td>0.277556</td>\n",
       "      <td>0.502934</td>\n",
       "      <td>0.872434</td>\n",
       "      <td>0.786127</td>\n",
       "      <td>0.109952</td>\n",
       "      <td>1.55</td>\n",
       "      <td>-0.3</td>\n",
       "      <td>0.0</td>\n",
       "    </tr>\n",
       "    <tr>\n",
       "      <th>1</th>\n",
       "      <td>0.308776</td>\n",
       "      <td>0.951532</td>\n",
       "      <td>0.597707</td>\n",
       "      <td>0.217439</td>\n",
       "      <td>0.089493</td>\n",
       "      <td>0.601393</td>\n",
       "      <td>1.70</td>\n",
       "      <td>0.1</td>\n",
       "      <td>0.2</td>\n",
       "    </tr>\n",
       "    <tr>\n",
       "      <th>2</th>\n",
       "      <td>0.455032</td>\n",
       "      <td>0.902562</td>\n",
       "      <td>0.649085</td>\n",
       "      <td>1.159817</td>\n",
       "      <td>0.405154</td>\n",
       "      <td>0.437516</td>\n",
       "      <td>1.55</td>\n",
       "      <td>-0.3</td>\n",
       "      <td>0.0</td>\n",
       "    </tr>\n",
       "    <tr>\n",
       "      <th>3</th>\n",
       "      <td>0.371664</td>\n",
       "      <td>0.838101</td>\n",
       "      <td>0.523157</td>\n",
       "      <td>1.465926</td>\n",
       "      <td>0.579649</td>\n",
       "      <td>0.515742</td>\n",
       "      <td>2.75</td>\n",
       "      <td>0.0</td>\n",
       "      <td>-0.1</td>\n",
       "    </tr>\n",
       "    <tr>\n",
       "      <th>4</th>\n",
       "      <td>0.088156</td>\n",
       "      <td>0.208440</td>\n",
       "      <td>0.583521</td>\n",
       "      <td>1.191356</td>\n",
       "      <td>0.525886</td>\n",
       "      <td>1.722215</td>\n",
       "      <td>1.70</td>\n",
       "      <td>0.0</td>\n",
       "      <td>0.0</td>\n",
       "    </tr>\n",
       "    <tr>\n",
       "      <th>...</th>\n",
       "      <td>...</td>\n",
       "      <td>...</td>\n",
       "      <td>...</td>\n",
       "      <td>...</td>\n",
       "      <td>...</td>\n",
       "      <td>...</td>\n",
       "      <td>...</td>\n",
       "      <td>...</td>\n",
       "      <td>...</td>\n",
       "    </tr>\n",
       "    <tr>\n",
       "      <th>10195</th>\n",
       "      <td>0.105762</td>\n",
       "      <td>0.918199</td>\n",
       "      <td>0.318486</td>\n",
       "      <td>0.248407</td>\n",
       "      <td>0.798430</td>\n",
       "      <td>0.674730</td>\n",
       "      <td>1.70</td>\n",
       "      <td>0.1</td>\n",
       "      <td>-0.1</td>\n",
       "    </tr>\n",
       "    <tr>\n",
       "      <th>10196</th>\n",
       "      <td>0.366726</td>\n",
       "      <td>0.556364</td>\n",
       "      <td>0.293317</td>\n",
       "      <td>0.898841</td>\n",
       "      <td>0.098640</td>\n",
       "      <td>0.549313</td>\n",
       "      <td>1.55</td>\n",
       "      <td>0.1</td>\n",
       "      <td>0.0</td>\n",
       "    </tr>\n",
       "    <tr>\n",
       "      <th>10197</th>\n",
       "      <td>0.080874</td>\n",
       "      <td>0.404310</td>\n",
       "      <td>0.843240</td>\n",
       "      <td>0.771046</td>\n",
       "      <td>0.736955</td>\n",
       "      <td>0.053003</td>\n",
       "      <td>1.55</td>\n",
       "      <td>-0.1</td>\n",
       "      <td>-0.1</td>\n",
       "    </tr>\n",
       "    <tr>\n",
       "      <th>10198</th>\n",
       "      <td>0.180083</td>\n",
       "      <td>0.509725</td>\n",
       "      <td>0.260309</td>\n",
       "      <td>0.957844</td>\n",
       "      <td>0.646462</td>\n",
       "      <td>0.522819</td>\n",
       "      <td>2.15</td>\n",
       "      <td>-0.5</td>\n",
       "      <td>0.0</td>\n",
       "    </tr>\n",
       "    <tr>\n",
       "      <th>10199</th>\n",
       "      <td>0.179874</td>\n",
       "      <td>0.723072</td>\n",
       "      <td>0.838642</td>\n",
       "      <td>0.486707</td>\n",
       "      <td>0.352634</td>\n",
       "      <td>1.302215</td>\n",
       "      <td>1.85</td>\n",
       "      <td>0.0</td>\n",
       "      <td>0.0</td>\n",
       "    </tr>\n",
       "  </tbody>\n",
       "</table>\n",
       "<p>10200 rows × 9 columns</p>\n",
       "</div>"
      ],
      "text/plain": [
       "          cue_x     cue_y     one_x     one_y     two_x     two_y  speed  \\\n",
       "0      0.248992  0.277556  0.502934  0.872434  0.786127  0.109952   1.55   \n",
       "1      0.308776  0.951532  0.597707  0.217439  0.089493  0.601393   1.70   \n",
       "2      0.455032  0.902562  0.649085  1.159817  0.405154  0.437516   1.55   \n",
       "3      0.371664  0.838101  0.523157  1.465926  0.579649  0.515742   2.75   \n",
       "4      0.088156  0.208440  0.583521  1.191356  0.525886  1.722215   1.70   \n",
       "...         ...       ...       ...       ...       ...       ...    ...   \n",
       "10195  0.105762  0.918199  0.318486  0.248407  0.798430  0.674730   1.70   \n",
       "10196  0.366726  0.556364  0.293317  0.898841  0.098640  0.549313   1.55   \n",
       "10197  0.080874  0.404310  0.843240  0.771046  0.736955  0.053003   1.55   \n",
       "10198  0.180083  0.509725  0.260309  0.957844  0.646462  0.522819   2.15   \n",
       "10199  0.179874  0.723072  0.838642  0.486707  0.352634  1.302215   1.85   \n",
       "\n",
       "       vspin  hspin  \n",
       "0       -0.3    0.0  \n",
       "1        0.1    0.2  \n",
       "2       -0.3    0.0  \n",
       "3        0.0   -0.1  \n",
       "4        0.0    0.0  \n",
       "...      ...    ...  \n",
       "10195    0.1   -0.1  \n",
       "10196    0.1    0.0  \n",
       "10197   -0.1   -0.1  \n",
       "10198   -0.5    0.0  \n",
       "10199    0.0    0.0  \n",
       "\n",
       "[10200 rows x 9 columns]"
      ]
     },
     "execution_count": 5,
     "metadata": {},
     "output_type": "execute_result"
    }
   ],
   "source": [
    "cdf"
   ]
  },
  {
   "cell_type": "code",
   "execution_count": 2,
   "id": "a97d136f-9644-4582-a511-e1e0617d4ba2",
   "metadata": {
    "tags": []
   },
   "outputs": [
    {
     "name": "stdout",
     "output_type": "stream",
     "text": [
      "10 steps done\n",
      "20 steps done\n",
      "30 steps done\n",
      "40 steps done\n",
      "50 steps done\n",
      "60 steps done\n",
      "70 steps done\n",
      "80 steps done\n",
      "90 steps done\n",
      "100 steps done\n",
      "110 steps done\n",
      "120 steps done\n",
      "130 steps done\n",
      "140 steps done\n",
      "150 steps done\n",
      "160 steps done\n",
      "170 steps done\n",
      "180 steps done\n",
      "190 steps done\n",
      "200 steps done\n",
      "210 steps done\n",
      "220 steps done\n",
      "230 steps done\n",
      "240 steps done\n",
      "250 steps done\n",
      "260 steps done\n",
      "270 steps done\n",
      "280 steps done\n",
      "290 steps done\n",
      "300 steps done\n",
      "310 steps done\n",
      "320 steps done\n",
      "330 steps done\n",
      "340 steps done\n",
      "350 steps done\n",
      "360 steps done\n",
      "370 steps done\n",
      "380 steps done\n",
      "390 steps done\n",
      "400 steps done\n",
      "410 steps done\n",
      "420 steps done\n",
      "430 steps done\n",
      "440 steps done\n",
      "450 steps done\n",
      "460 steps done\n",
      "470 steps done\n",
      "480 steps done\n",
      "490 steps done\n",
      "500 steps done\n",
      "15.581650417804719 seconds per step\n"
     ]
    }
   ],
   "source": [
    "steps = 500\n",
    "\n",
    "start = time.time()\n",
    "df = data.get_hit_data(steps)\n",
    "print(f'{(time.time()-start)/steps} seconds per step')"
   ]
  },
  {
   "cell_type": "code",
   "execution_count": 3,
   "id": "bbc05723-9391-471e-b045-ecee4a5ea9cd",
   "metadata": {
    "tags": []
   },
   "outputs": [
    {
     "data": {
      "text/html": [
       "<div>\n",
       "<style scoped>\n",
       "    .dataframe tbody tr th:only-of-type {\n",
       "        vertical-align: middle;\n",
       "    }\n",
       "\n",
       "    .dataframe tbody tr th {\n",
       "        vertical-align: top;\n",
       "    }\n",
       "\n",
       "    .dataframe thead th {\n",
       "        text-align: right;\n",
       "    }\n",
       "</style>\n",
       "<table border=\"1\" class=\"dataframe\">\n",
       "  <thead>\n",
       "    <tr style=\"text-align: right;\">\n",
       "      <th></th>\n",
       "      <th>cue_x</th>\n",
       "      <th>cue_y</th>\n",
       "      <th>one_x</th>\n",
       "      <th>one_y</th>\n",
       "      <th>two_x</th>\n",
       "      <th>two_y</th>\n",
       "      <th>speed</th>\n",
       "      <th>vspin</th>\n",
       "      <th>hspin</th>\n",
       "    </tr>\n",
       "  </thead>\n",
       "  <tbody>\n",
       "    <tr>\n",
       "      <th>0</th>\n",
       "      <td>0.453242</td>\n",
       "      <td>0.768557</td>\n",
       "      <td>0.845746</td>\n",
       "      <td>0.440296</td>\n",
       "      <td>0.124272</td>\n",
       "      <td>1.184552</td>\n",
       "      <td>1.55</td>\n",
       "      <td>-0.2</td>\n",
       "      <td>0.2</td>\n",
       "    </tr>\n",
       "    <tr>\n",
       "      <th>1</th>\n",
       "      <td>0.409653</td>\n",
       "      <td>0.100953</td>\n",
       "      <td>0.815253</td>\n",
       "      <td>1.151811</td>\n",
       "      <td>0.958095</td>\n",
       "      <td>0.187262</td>\n",
       "      <td>1.55</td>\n",
       "      <td>-0.3</td>\n",
       "      <td>0.0</td>\n",
       "    </tr>\n",
       "    <tr>\n",
       "      <th>2</th>\n",
       "      <td>0.230832</td>\n",
       "      <td>0.251823</td>\n",
       "      <td>0.426466</td>\n",
       "      <td>1.132725</td>\n",
       "      <td>0.697507</td>\n",
       "      <td>1.222010</td>\n",
       "      <td>1.55</td>\n",
       "      <td>0.1</td>\n",
       "      <td>0.3</td>\n",
       "    </tr>\n",
       "    <tr>\n",
       "      <th>3</th>\n",
       "      <td>0.158789</td>\n",
       "      <td>0.405314</td>\n",
       "      <td>0.604191</td>\n",
       "      <td>0.592619</td>\n",
       "      <td>0.035105</td>\n",
       "      <td>1.758127</td>\n",
       "      <td>1.85</td>\n",
       "      <td>0.0</td>\n",
       "      <td>-0.3</td>\n",
       "    </tr>\n",
       "    <tr>\n",
       "      <th>4</th>\n",
       "      <td>0.035359</td>\n",
       "      <td>0.211876</td>\n",
       "      <td>0.518403</td>\n",
       "      <td>0.254136</td>\n",
       "      <td>0.637584</td>\n",
       "      <td>1.201086</td>\n",
       "      <td>1.55</td>\n",
       "      <td>-0.1</td>\n",
       "      <td>0.0</td>\n",
       "    </tr>\n",
       "    <tr>\n",
       "      <th>...</th>\n",
       "      <td>...</td>\n",
       "      <td>...</td>\n",
       "      <td>...</td>\n",
       "      <td>...</td>\n",
       "      <td>...</td>\n",
       "      <td>...</td>\n",
       "      <td>...</td>\n",
       "      <td>...</td>\n",
       "      <td>...</td>\n",
       "    </tr>\n",
       "    <tr>\n",
       "      <th>495</th>\n",
       "      <td>0.072681</td>\n",
       "      <td>0.692365</td>\n",
       "      <td>0.494013</td>\n",
       "      <td>0.301593</td>\n",
       "      <td>0.133326</td>\n",
       "      <td>1.079582</td>\n",
       "      <td>1.55</td>\n",
       "      <td>0.4</td>\n",
       "      <td>0.0</td>\n",
       "    </tr>\n",
       "    <tr>\n",
       "      <th>496</th>\n",
       "      <td>0.275428</td>\n",
       "      <td>0.806812</td>\n",
       "      <td>0.642107</td>\n",
       "      <td>0.553560</td>\n",
       "      <td>0.864625</td>\n",
       "      <td>1.702598</td>\n",
       "      <td>1.25</td>\n",
       "      <td>-0.4</td>\n",
       "      <td>0.0</td>\n",
       "    </tr>\n",
       "    <tr>\n",
       "      <th>497</th>\n",
       "      <td>0.239223</td>\n",
       "      <td>0.747367</td>\n",
       "      <td>0.650759</td>\n",
       "      <td>0.044578</td>\n",
       "      <td>0.205422</td>\n",
       "      <td>1.721575</td>\n",
       "      <td>1.40</td>\n",
       "      <td>0.0</td>\n",
       "      <td>-0.2</td>\n",
       "    </tr>\n",
       "    <tr>\n",
       "      <th>498</th>\n",
       "      <td>0.287903</td>\n",
       "      <td>0.462077</td>\n",
       "      <td>0.821709</td>\n",
       "      <td>0.644869</td>\n",
       "      <td>0.232389</td>\n",
       "      <td>1.302539</td>\n",
       "      <td>2.15</td>\n",
       "      <td>-0.2</td>\n",
       "      <td>-0.2</td>\n",
       "    </tr>\n",
       "    <tr>\n",
       "      <th>499</th>\n",
       "      <td>0.116748</td>\n",
       "      <td>0.861936</td>\n",
       "      <td>0.671146</td>\n",
       "      <td>0.644534</td>\n",
       "      <td>0.307686</td>\n",
       "      <td>1.154124</td>\n",
       "      <td>1.55</td>\n",
       "      <td>0.3</td>\n",
       "      <td>0.2</td>\n",
       "    </tr>\n",
       "  </tbody>\n",
       "</table>\n",
       "<p>500 rows × 9 columns</p>\n",
       "</div>"
      ],
      "text/plain": [
       "        cue_x     cue_y     one_x     one_y     two_x     two_y  speed  vspin  \\\n",
       "0    0.453242  0.768557  0.845746  0.440296  0.124272  1.184552   1.55   -0.2   \n",
       "1    0.409653  0.100953  0.815253  1.151811  0.958095  0.187262   1.55   -0.3   \n",
       "2    0.230832  0.251823  0.426466  1.132725  0.697507  1.222010   1.55    0.1   \n",
       "3    0.158789  0.405314  0.604191  0.592619  0.035105  1.758127   1.85    0.0   \n",
       "4    0.035359  0.211876  0.518403  0.254136  0.637584  1.201086   1.55   -0.1   \n",
       "..        ...       ...       ...       ...       ...       ...    ...    ...   \n",
       "495  0.072681  0.692365  0.494013  0.301593  0.133326  1.079582   1.55    0.4   \n",
       "496  0.275428  0.806812  0.642107  0.553560  0.864625  1.702598   1.25   -0.4   \n",
       "497  0.239223  0.747367  0.650759  0.044578  0.205422  1.721575   1.40    0.0   \n",
       "498  0.287903  0.462077  0.821709  0.644869  0.232389  1.302539   2.15   -0.2   \n",
       "499  0.116748  0.861936  0.671146  0.644534  0.307686  1.154124   1.55    0.3   \n",
       "\n",
       "     hspin  \n",
       "0      0.2  \n",
       "1      0.0  \n",
       "2      0.3  \n",
       "3     -0.3  \n",
       "4      0.0  \n",
       "..     ...  \n",
       "495    0.0  \n",
       "496    0.0  \n",
       "497   -0.2  \n",
       "498   -0.2  \n",
       "499    0.2  \n",
       "\n",
       "[500 rows x 9 columns]"
      ]
     },
     "execution_count": 3,
     "metadata": {},
     "output_type": "execute_result"
    }
   ],
   "source": [
    "df"
   ]
  },
  {
   "cell_type": "code",
   "execution_count": 28,
   "id": "d2d0283d-a043-45a6-8114-2ed11343ab58",
   "metadata": {
    "tags": []
   },
   "outputs": [
    {
     "name": "stderr",
     "output_type": "stream",
     "text": [
      "Known pipe types:\n",
      "  CocoaGraphicsPipe\n",
      "(all display modules loaded.)\n"
     ]
    }
   ],
   "source": [
    "interface = pt.ShotViewer()"
   ]
  },
  {
   "cell_type": "code",
   "execution_count": 29,
   "id": "8aba84a2-2bbd-46b1-8d1c-3b05e57c2d4f",
   "metadata": {
    "tags": []
   },
   "outputs": [
    {
     "name": "stderr",
     "output_type": "stream",
     "text": [
      ":interval(warning): CLerpNodePathInterval::priv_step() called for LerpPosQuatInterval-3 in state final.\n",
      ":interval(warning): CLerpNodePathInterval::priv_step() called for LerpPosInterval-4 in state final.\n",
      ":interval(warning): CLerpNodePathInterval::priv_step() called for LerpPosQuatInterval-639 in state final.\n",
      ":interval(warning): CLerpNodePathInterval::priv_step() called for LerpPosInterval-640 in state final.\n",
      ":interval(warning): CLerpNodePathInterval::priv_step() called for LerpPosQuatInterval-31441 in state final.\n",
      ":interval(warning): CLerpNodePathInterval::priv_step() called for LerpPosInterval-31442 in state final.\n",
      ":interval(warning): CLerpNodePathInterval::priv_step() called for LerpPosQuatInterval-32515 in state final.\n",
      ":interval(warning): CLerpNodePathInterval::priv_step() called for LerpPosInterval-32516 in state final.\n"
     ]
    }
   ],
   "source": [
    "pool.view_data(cdf.sample(30), interface)"
   ]
  },
  {
   "cell_type": "code",
   "execution_count": 5,
   "id": "0cf779d3-c786-49de-8be5-a6b7a753fbbd",
   "metadata": {
    "tags": []
   },
   "outputs": [
    {
     "data": {
      "text/html": [
       "<div>\n",
       "<style scoped>\n",
       "    .dataframe tbody tr th:only-of-type {\n",
       "        vertical-align: middle;\n",
       "    }\n",
       "\n",
       "    .dataframe tbody tr th {\n",
       "        vertical-align: top;\n",
       "    }\n",
       "\n",
       "    .dataframe thead th {\n",
       "        text-align: right;\n",
       "    }\n",
       "</style>\n",
       "<table border=\"1\" class=\"dataframe\">\n",
       "  <thead>\n",
       "    <tr style=\"text-align: right;\">\n",
       "      <th></th>\n",
       "      <th>cue_x</th>\n",
       "      <th>cue_y</th>\n",
       "      <th>one_x</th>\n",
       "      <th>one_y</th>\n",
       "      <th>two_x</th>\n",
       "      <th>two_y</th>\n",
       "      <th>speed</th>\n",
       "      <th>vspin</th>\n",
       "      <th>hspin</th>\n",
       "    </tr>\n",
       "  </thead>\n",
       "  <tbody>\n",
       "    <tr>\n",
       "      <th>0</th>\n",
       "      <td>0.453242</td>\n",
       "      <td>0.768557</td>\n",
       "      <td>0.845746</td>\n",
       "      <td>0.440296</td>\n",
       "      <td>0.124272</td>\n",
       "      <td>1.184552</td>\n",
       "      <td>1.55</td>\n",
       "      <td>-0.2</td>\n",
       "      <td>0.2</td>\n",
       "    </tr>\n",
       "    <tr>\n",
       "      <th>1</th>\n",
       "      <td>0.409653</td>\n",
       "      <td>0.100953</td>\n",
       "      <td>0.815253</td>\n",
       "      <td>1.151811</td>\n",
       "      <td>0.958095</td>\n",
       "      <td>0.187262</td>\n",
       "      <td>1.55</td>\n",
       "      <td>-0.3</td>\n",
       "      <td>0.0</td>\n",
       "    </tr>\n",
       "    <tr>\n",
       "      <th>2</th>\n",
       "      <td>0.230832</td>\n",
       "      <td>0.251823</td>\n",
       "      <td>0.426466</td>\n",
       "      <td>1.132725</td>\n",
       "      <td>0.697507</td>\n",
       "      <td>1.222010</td>\n",
       "      <td>1.55</td>\n",
       "      <td>0.1</td>\n",
       "      <td>0.3</td>\n",
       "    </tr>\n",
       "    <tr>\n",
       "      <th>3</th>\n",
       "      <td>0.158789</td>\n",
       "      <td>0.405314</td>\n",
       "      <td>0.604191</td>\n",
       "      <td>0.592619</td>\n",
       "      <td>0.035105</td>\n",
       "      <td>1.758127</td>\n",
       "      <td>1.85</td>\n",
       "      <td>0.0</td>\n",
       "      <td>-0.3</td>\n",
       "    </tr>\n",
       "    <tr>\n",
       "      <th>4</th>\n",
       "      <td>0.035359</td>\n",
       "      <td>0.211876</td>\n",
       "      <td>0.518403</td>\n",
       "      <td>0.254136</td>\n",
       "      <td>0.637584</td>\n",
       "      <td>1.201086</td>\n",
       "      <td>1.55</td>\n",
       "      <td>-0.1</td>\n",
       "      <td>0.0</td>\n",
       "    </tr>\n",
       "    <tr>\n",
       "      <th>...</th>\n",
       "      <td>...</td>\n",
       "      <td>...</td>\n",
       "      <td>...</td>\n",
       "      <td>...</td>\n",
       "      <td>...</td>\n",
       "      <td>...</td>\n",
       "      <td>...</td>\n",
       "      <td>...</td>\n",
       "      <td>...</td>\n",
       "    </tr>\n",
       "    <tr>\n",
       "      <th>11495</th>\n",
       "      <td>0.105762</td>\n",
       "      <td>0.918199</td>\n",
       "      <td>0.318486</td>\n",
       "      <td>0.248407</td>\n",
       "      <td>0.798430</td>\n",
       "      <td>0.674730</td>\n",
       "      <td>1.70</td>\n",
       "      <td>0.1</td>\n",
       "      <td>-0.1</td>\n",
       "    </tr>\n",
       "    <tr>\n",
       "      <th>11496</th>\n",
       "      <td>0.366726</td>\n",
       "      <td>0.556364</td>\n",
       "      <td>0.293317</td>\n",
       "      <td>0.898841</td>\n",
       "      <td>0.098640</td>\n",
       "      <td>0.549313</td>\n",
       "      <td>1.55</td>\n",
       "      <td>0.1</td>\n",
       "      <td>0.0</td>\n",
       "    </tr>\n",
       "    <tr>\n",
       "      <th>11497</th>\n",
       "      <td>0.080874</td>\n",
       "      <td>0.404310</td>\n",
       "      <td>0.843240</td>\n",
       "      <td>0.771046</td>\n",
       "      <td>0.736955</td>\n",
       "      <td>0.053003</td>\n",
       "      <td>1.55</td>\n",
       "      <td>-0.1</td>\n",
       "      <td>-0.1</td>\n",
       "    </tr>\n",
       "    <tr>\n",
       "      <th>11498</th>\n",
       "      <td>0.180083</td>\n",
       "      <td>0.509725</td>\n",
       "      <td>0.260309</td>\n",
       "      <td>0.957844</td>\n",
       "      <td>0.646462</td>\n",
       "      <td>0.522819</td>\n",
       "      <td>2.15</td>\n",
       "      <td>-0.5</td>\n",
       "      <td>0.0</td>\n",
       "    </tr>\n",
       "    <tr>\n",
       "      <th>11499</th>\n",
       "      <td>0.179874</td>\n",
       "      <td>0.723072</td>\n",
       "      <td>0.838642</td>\n",
       "      <td>0.486707</td>\n",
       "      <td>0.352634</td>\n",
       "      <td>1.302215</td>\n",
       "      <td>1.85</td>\n",
       "      <td>0.0</td>\n",
       "      <td>0.0</td>\n",
       "    </tr>\n",
       "  </tbody>\n",
       "</table>\n",
       "<p>12000 rows × 9 columns</p>\n",
       "</div>"
      ],
      "text/plain": [
       "          cue_x     cue_y     one_x     one_y     two_x     two_y  speed  \\\n",
       "0      0.453242  0.768557  0.845746  0.440296  0.124272  1.184552   1.55   \n",
       "1      0.409653  0.100953  0.815253  1.151811  0.958095  0.187262   1.55   \n",
       "2      0.230832  0.251823  0.426466  1.132725  0.697507  1.222010   1.55   \n",
       "3      0.158789  0.405314  0.604191  0.592619  0.035105  1.758127   1.85   \n",
       "4      0.035359  0.211876  0.518403  0.254136  0.637584  1.201086   1.55   \n",
       "...         ...       ...       ...       ...       ...       ...    ...   \n",
       "11495  0.105762  0.918199  0.318486  0.248407  0.798430  0.674730   1.70   \n",
       "11496  0.366726  0.556364  0.293317  0.898841  0.098640  0.549313   1.55   \n",
       "11497  0.080874  0.404310  0.843240  0.771046  0.736955  0.053003   1.55   \n",
       "11498  0.180083  0.509725  0.260309  0.957844  0.646462  0.522819   2.15   \n",
       "11499  0.179874  0.723072  0.838642  0.486707  0.352634  1.302215   1.85   \n",
       "\n",
       "       vspin  hspin  \n",
       "0       -0.2    0.2  \n",
       "1       -0.3    0.0  \n",
       "2        0.1    0.3  \n",
       "3        0.0   -0.3  \n",
       "4       -0.1    0.0  \n",
       "...      ...    ...  \n",
       "11495    0.1   -0.1  \n",
       "11496    0.1    0.0  \n",
       "11497   -0.1   -0.1  \n",
       "11498   -0.5    0.0  \n",
       "11499    0.0    0.0  \n",
       "\n",
       "[12000 rows x 9 columns]"
      ]
     },
     "execution_count": 5,
     "metadata": {},
     "output_type": "execute_result"
    }
   ],
   "source": [
    "cdf = pd.concat([df, cdf])\n",
    "cdf"
   ]
  },
  {
   "cell_type": "code",
   "execution_count": 6,
   "id": "1fa4ece2-63da-4fb0-8482-7df8ecd71aa8",
   "metadata": {
    "tags": []
   },
   "outputs": [],
   "source": [
    "cdf.to_csv('Datasets/two_ball_hit_new.csv', index = False)"
   ]
  },
  {
   "cell_type": "code",
   "execution_count": null,
   "id": "84a6c945-b14c-42f9-b6c8-b150c6196826",
   "metadata": {
    "tags": []
   },
   "outputs": [],
   "source": [
    "cdf0.to_csv('Datasets/one_ball_full_pos0.csv', index = False)\n",
    "cdf1.to_csv('Datasets/one_ball_full_pos1.csv', index = False)\n",
    "cdf2.to_csv('Datasets/one_ball_full_pos2.csv', index = False)\n",
    "cdf3.to_csv('Datasets/one_ball_full_pos3.csv', index = False)"
   ]
  },
  {
   "cell_type": "code",
   "execution_count": 4,
   "id": "aa5dd93f",
   "metadata": {
    "tags": []
   },
   "outputs": [],
   "source": [
    "cdf = pd.read_csv('Datasets/two_ball_hit_new.csv')"
   ]
  },
  {
   "cell_type": "code",
   "execution_count": null,
   "id": "3714c443-3dbd-4a25-a42e-6f4c05bbc2b0",
   "metadata": {
    "tags": []
   },
   "outputs": [],
   "source": [
    "df = pd.read_csv('Datasets/two_ball_hit_new.csv')"
   ]
  },
  {
   "cell_type": "code",
   "execution_count": null,
   "id": "c18cc45e-5d92-4949-954a-1a2e9bb0a4bc",
   "metadata": {
    "tags": []
   },
   "outputs": [],
   "source": [
    "reg_net = torch.load('reg_net.pt')\n",
    "# reg_net_2 = torch.load('reg_net_2.pt')\n",
    "# reg_net_2b = torch.load('reg_net_2b.pt')\n",
    "# reg_net_2c = torch.load('reg_net_2c.pt')"
   ]
  },
  {
   "cell_type": "code",
   "execution_count": null,
   "id": "bdf48322-73d6-47b4-992f-8b6d17586920",
   "metadata": {
    "tags": []
   },
   "outputs": [],
   "source": [
    "df0 = pd.read_csv('Datasets/one_ball_full_pos0.csv')\n",
    "df1 = pd.read_csv('Datasets/one_ball_full_pos1.csv')\n",
    "df2 = pd.read_csv('Datasets/one_ball_full_pos2.csv')\n",
    "df3 = pd.read_csv('Datasets/one_ball_full_pos3.csv')"
   ]
  },
  {
   "cell_type": "code",
   "execution_count": null,
   "id": "142783a1",
   "metadata": {},
   "outputs": [],
   "source": [
    "df0"
   ]
  },
  {
   "cell_type": "code",
   "execution_count": 3,
   "id": "01bd3553-b9fe-4b18-a12e-48c3173489cf",
   "metadata": {
    "tags": []
   },
   "outputs": [
    {
     "data": {
      "text/html": [
       "<div>\n",
       "<style scoped>\n",
       "    .dataframe tbody tr th:only-of-type {\n",
       "        vertical-align: middle;\n",
       "    }\n",
       "\n",
       "    .dataframe tbody tr th {\n",
       "        vertical-align: top;\n",
       "    }\n",
       "\n",
       "    .dataframe thead th {\n",
       "        text-align: right;\n",
       "    }\n",
       "</style>\n",
       "<table border=\"1\" class=\"dataframe\">\n",
       "  <thead>\n",
       "    <tr style=\"text-align: right;\">\n",
       "      <th></th>\n",
       "      <th>cue_x</th>\n",
       "      <th>cue_y</th>\n",
       "      <th>one_x</th>\n",
       "      <th>one_y</th>\n",
       "      <th>two_x</th>\n",
       "      <th>two_y</th>\n",
       "      <th>speed</th>\n",
       "      <th>vspin</th>\n",
       "      <th>hspin</th>\n",
       "    </tr>\n",
       "  </thead>\n",
       "  <tbody>\n",
       "    <tr>\n",
       "      <th>0</th>\n",
       "      <td>0.248992</td>\n",
       "      <td>0.277556</td>\n",
       "      <td>0.502934</td>\n",
       "      <td>0.872434</td>\n",
       "      <td>0.786127</td>\n",
       "      <td>0.109952</td>\n",
       "      <td>1.55</td>\n",
       "      <td>-0.3</td>\n",
       "      <td>0.0</td>\n",
       "    </tr>\n",
       "    <tr>\n",
       "      <th>1</th>\n",
       "      <td>0.308776</td>\n",
       "      <td>0.951532</td>\n",
       "      <td>0.597707</td>\n",
       "      <td>0.217439</td>\n",
       "      <td>0.089493</td>\n",
       "      <td>0.601393</td>\n",
       "      <td>1.70</td>\n",
       "      <td>0.1</td>\n",
       "      <td>0.2</td>\n",
       "    </tr>\n",
       "    <tr>\n",
       "      <th>2</th>\n",
       "      <td>0.455032</td>\n",
       "      <td>0.902562</td>\n",
       "      <td>0.649085</td>\n",
       "      <td>1.159817</td>\n",
       "      <td>0.405154</td>\n",
       "      <td>0.437516</td>\n",
       "      <td>1.55</td>\n",
       "      <td>-0.3</td>\n",
       "      <td>0.0</td>\n",
       "    </tr>\n",
       "    <tr>\n",
       "      <th>3</th>\n",
       "      <td>0.371664</td>\n",
       "      <td>0.838101</td>\n",
       "      <td>0.523157</td>\n",
       "      <td>1.465926</td>\n",
       "      <td>0.579649</td>\n",
       "      <td>0.515742</td>\n",
       "      <td>2.75</td>\n",
       "      <td>0.0</td>\n",
       "      <td>-0.1</td>\n",
       "    </tr>\n",
       "    <tr>\n",
       "      <th>4</th>\n",
       "      <td>0.088156</td>\n",
       "      <td>0.208440</td>\n",
       "      <td>0.583521</td>\n",
       "      <td>1.191356</td>\n",
       "      <td>0.525886</td>\n",
       "      <td>1.722215</td>\n",
       "      <td>1.70</td>\n",
       "      <td>0.0</td>\n",
       "      <td>0.0</td>\n",
       "    </tr>\n",
       "    <tr>\n",
       "      <th>...</th>\n",
       "      <td>...</td>\n",
       "      <td>...</td>\n",
       "      <td>...</td>\n",
       "      <td>...</td>\n",
       "      <td>...</td>\n",
       "      <td>...</td>\n",
       "      <td>...</td>\n",
       "      <td>...</td>\n",
       "      <td>...</td>\n",
       "    </tr>\n",
       "    <tr>\n",
       "      <th>10195</th>\n",
       "      <td>0.105762</td>\n",
       "      <td>0.918199</td>\n",
       "      <td>0.318486</td>\n",
       "      <td>0.248407</td>\n",
       "      <td>0.798430</td>\n",
       "      <td>0.674730</td>\n",
       "      <td>1.70</td>\n",
       "      <td>0.1</td>\n",
       "      <td>-0.1</td>\n",
       "    </tr>\n",
       "    <tr>\n",
       "      <th>10196</th>\n",
       "      <td>0.366726</td>\n",
       "      <td>0.556364</td>\n",
       "      <td>0.293317</td>\n",
       "      <td>0.898841</td>\n",
       "      <td>0.098640</td>\n",
       "      <td>0.549313</td>\n",
       "      <td>1.55</td>\n",
       "      <td>0.1</td>\n",
       "      <td>0.0</td>\n",
       "    </tr>\n",
       "    <tr>\n",
       "      <th>10197</th>\n",
       "      <td>0.080874</td>\n",
       "      <td>0.404310</td>\n",
       "      <td>0.843240</td>\n",
       "      <td>0.771046</td>\n",
       "      <td>0.736955</td>\n",
       "      <td>0.053003</td>\n",
       "      <td>1.55</td>\n",
       "      <td>-0.1</td>\n",
       "      <td>-0.1</td>\n",
       "    </tr>\n",
       "    <tr>\n",
       "      <th>10198</th>\n",
       "      <td>0.180083</td>\n",
       "      <td>0.509725</td>\n",
       "      <td>0.260309</td>\n",
       "      <td>0.957844</td>\n",
       "      <td>0.646462</td>\n",
       "      <td>0.522819</td>\n",
       "      <td>2.15</td>\n",
       "      <td>-0.5</td>\n",
       "      <td>0.0</td>\n",
       "    </tr>\n",
       "    <tr>\n",
       "      <th>10199</th>\n",
       "      <td>0.179874</td>\n",
       "      <td>0.723072</td>\n",
       "      <td>0.838642</td>\n",
       "      <td>0.486707</td>\n",
       "      <td>0.352634</td>\n",
       "      <td>1.302215</td>\n",
       "      <td>1.85</td>\n",
       "      <td>0.0</td>\n",
       "      <td>0.0</td>\n",
       "    </tr>\n",
       "  </tbody>\n",
       "</table>\n",
       "<p>10200 rows × 9 columns</p>\n",
       "</div>"
      ],
      "text/plain": [
       "          cue_x     cue_y     one_x     one_y     two_x     two_y  speed  \\\n",
       "0      0.248992  0.277556  0.502934  0.872434  0.786127  0.109952   1.55   \n",
       "1      0.308776  0.951532  0.597707  0.217439  0.089493  0.601393   1.70   \n",
       "2      0.455032  0.902562  0.649085  1.159817  0.405154  0.437516   1.55   \n",
       "3      0.371664  0.838101  0.523157  1.465926  0.579649  0.515742   2.75   \n",
       "4      0.088156  0.208440  0.583521  1.191356  0.525886  1.722215   1.70   \n",
       "...         ...       ...       ...       ...       ...       ...    ...   \n",
       "10195  0.105762  0.918199  0.318486  0.248407  0.798430  0.674730   1.70   \n",
       "10196  0.366726  0.556364  0.293317  0.898841  0.098640  0.549313   1.55   \n",
       "10197  0.080874  0.404310  0.843240  0.771046  0.736955  0.053003   1.55   \n",
       "10198  0.180083  0.509725  0.260309  0.957844  0.646462  0.522819   2.15   \n",
       "10199  0.179874  0.723072  0.838642  0.486707  0.352634  1.302215   1.85   \n",
       "\n",
       "       vspin  hspin  \n",
       "0       -0.3    0.0  \n",
       "1        0.1    0.2  \n",
       "2       -0.3    0.0  \n",
       "3        0.0   -0.1  \n",
       "4        0.0    0.0  \n",
       "...      ...    ...  \n",
       "10195    0.1   -0.1  \n",
       "10196    0.1    0.0  \n",
       "10197   -0.1   -0.1  \n",
       "10198   -0.5    0.0  \n",
       "10199    0.0    0.0  \n",
       "\n",
       "[10200 rows x 9 columns]"
      ]
     },
     "execution_count": 3,
     "metadata": {},
     "output_type": "execute_result"
    }
   ],
   "source": [
    "cdf"
   ]
  },
  {
   "cell_type": "code",
   "execution_count": null,
   "id": "e2cedf3a",
   "metadata": {
    "tags": []
   },
   "outputs": [],
   "source": [
    "cdf = pd.read_csv('Datasets/two_ball_hit.csv')"
   ]
  },
  {
   "cell_type": "code",
   "execution_count": null,
   "id": "6022739e",
   "metadata": {},
   "outputs": [],
   "source": [
    "df0.to_csv('C:/Users/Masahiro/Datasets/one_ball_full_pos0.csv', index = False)\n",
    "df1.to_csv('C:/Users/Masahiro/Datasets/one_ball_full_pos1.csv', index = False)\n",
    "df2.to_csv('C:/Users/Masahiro/Datasets/one_ball_full_pos2.csv', index = False)\n",
    "df3.to_csv('C:/Users/Masahiro/Datasets/one_ball_full_pos3.csv', index = False)"
   ]
  },
  {
   "cell_type": "code",
   "execution_count": null,
   "id": "5e3d4edb",
   "metadata": {},
   "outputs": [],
   "source": [
    "print(len(df1.query('cue_y > 0.5')), len(df1.query('cue_y < 0.5')))"
   ]
  },
  {
   "cell_type": "code",
   "execution_count": null,
   "id": "f95ab1f0-df59-4564-9e10-ec4c75e94733",
   "metadata": {
    "tags": []
   },
   "outputs": [],
   "source": [
    "cdf0 = cdf.query('one_x < 0.5 and one_y < 1')\n",
    "cdf1 = cdf.query('one_x < 0.5 and one_y > 1')\n",
    "cdf2 = cdf.query('one_x > 0.5 and one_y < 1')\n",
    "cdf3 = cdf.query('one_x > 0.5 and one_y > 1')"
   ]
  },
  {
   "cell_type": "code",
   "execution_count": null,
   "id": "fce7c6d9-86a2-4706-9080-eccb60b619e9",
   "metadata": {
    "tags": []
   },
   "outputs": [],
   "source": [
    "df0 = pd.concat([df0, cdf0])\n",
    "df1 = pd.concat([df1, cdf1])\n",
    "df2 = pd.concat([df2, cdf2])\n",
    "df3 = pd.concat([df3, cdf3])"
   ]
  },
  {
   "cell_type": "code",
   "execution_count": null,
   "id": "897b12ea-5243-43d8-bed6-9cf5fe9e3a92",
   "metadata": {
    "tags": []
   },
   "outputs": [],
   "source": [
    "cdf = pd.concat([df0, df1, df2, df3])"
   ]
  },
  {
   "cell_type": "code",
   "execution_count": null,
   "id": "849f3154-9d01-48d1-91e6-1d2675d949b5",
   "metadata": {
    "tags": []
   },
   "outputs": [],
   "source": [
    "cdf"
   ]
  },
  {
   "cell_type": "code",
   "execution_count": 4,
   "id": "aaea4c98-d068-4a40-b393-138f64a6f7ee",
   "metadata": {
    "tags": []
   },
   "outputs": [],
   "source": [
    "X = cdf.loc[:,[col not in ['speed', 'vspin', 'hspin'] for col in cdf.columns]]\n",
    "y = cdf[['speed', 'vspin', 'hspin']]"
   ]
  },
  {
   "cell_type": "code",
   "execution_count": null,
   "id": "8122304b-81f8-4cfc-ba73-ed1f512bd4d7",
   "metadata": {
    "tags": []
   },
   "outputs": [],
   "source": [
    "X = df3.loc[:,[col not in ['end_x', 'end_y'] for col in df.columns]]\n",
    "y = df3[['end_x', 'end_y']]"
   ]
  },
  {
   "cell_type": "code",
   "execution_count": 5,
   "id": "1a2a797f-5fc5-42d9-81ba-dab5c6faa726",
   "metadata": {
    "tags": []
   },
   "outputs": [],
   "source": [
    "X_train, X_test, y_train, y_test = train_test_split(X, y, test_size=0.2)"
   ]
  },
  {
   "cell_type": "code",
   "execution_count": 13,
   "id": "f157dd10-7373-4804-b8c7-2d846c5671aa",
   "metadata": {
    "tags": []
   },
   "outputs": [],
   "source": [
    "dtrain = xgb.DMatrix(X_train, label=y_train)\n",
    "dtest = xgb.DMatrix(X_test, label=y_test)"
   ]
  },
  {
   "cell_type": "code",
   "execution_count": 15,
   "id": "39cebae3-f607-4686-893e-7f07f7c49792",
   "metadata": {
    "tags": []
   },
   "outputs": [
    {
     "name": "stdout",
     "output_type": "stream",
     "text": [
      "[0]\ttrain-rmse:0.74797\teval-rmse:0.75277\n",
      "[1]\ttrain-rmse:0.63168\teval-rmse:0.63643\n",
      "[2]\ttrain-rmse:0.54413\teval-rmse:0.54887\n",
      "[3]\ttrain-rmse:0.47957\teval-rmse:0.48440\n",
      "[4]\ttrain-rmse:0.43144\teval-rmse:0.43686\n",
      "[5]\ttrain-rmse:0.39659\teval-rmse:0.40330\n",
      "[6]\ttrain-rmse:0.37127\teval-rmse:0.37913\n",
      "[7]\ttrain-rmse:0.35288\teval-rmse:0.36294\n",
      "[8]\ttrain-rmse:0.33724\teval-rmse:0.35179\n",
      "[9]\ttrain-rmse:0.32374\teval-rmse:0.34254\n",
      "[10]\ttrain-rmse:0.31304\teval-rmse:0.33696\n",
      "[11]\ttrain-rmse:0.30252\teval-rmse:0.33368\n",
      "[12]\ttrain-rmse:0.29215\teval-rmse:0.32937\n",
      "[13]\ttrain-rmse:0.28378\teval-rmse:0.32720\n",
      "[14]\ttrain-rmse:0.27567\teval-rmse:0.32483\n",
      "[15]\ttrain-rmse:0.26715\teval-rmse:0.32247\n",
      "[16]\ttrain-rmse:0.25976\teval-rmse:0.32056\n",
      "[17]\ttrain-rmse:0.25300\teval-rmse:0.31992\n",
      "[18]\ttrain-rmse:0.24688\teval-rmse:0.31913\n",
      "[19]\ttrain-rmse:0.24087\teval-rmse:0.31877\n",
      "[20]\ttrain-rmse:0.23629\teval-rmse:0.31821\n",
      "[21]\ttrain-rmse:0.23011\teval-rmse:0.31786\n",
      "[22]\ttrain-rmse:0.22514\teval-rmse:0.31762\n",
      "[23]\ttrain-rmse:0.22225\teval-rmse:0.31738\n",
      "[24]\ttrain-rmse:0.21750\teval-rmse:0.31721\n",
      "[25]\ttrain-rmse:0.21474\teval-rmse:0.31713\n",
      "[26]\ttrain-rmse:0.21016\teval-rmse:0.31670\n",
      "[27]\ttrain-rmse:0.20720\teval-rmse:0.31687\n",
      "[28]\ttrain-rmse:0.20460\teval-rmse:0.31692\n",
      "[29]\ttrain-rmse:0.20063\teval-rmse:0.31658\n",
      "[30]\ttrain-rmse:0.19821\teval-rmse:0.31653\n",
      "[31]\ttrain-rmse:0.19570\teval-rmse:0.31660\n",
      "[32]\ttrain-rmse:0.19278\teval-rmse:0.31662\n",
      "[33]\ttrain-rmse:0.18859\teval-rmse:0.31670\n",
      "[34]\ttrain-rmse:0.18466\teval-rmse:0.31683\n",
      "[35]\ttrain-rmse:0.18098\teval-rmse:0.31660\n",
      "[36]\ttrain-rmse:0.17800\teval-rmse:0.31639\n",
      "[37]\ttrain-rmse:0.17583\teval-rmse:0.31655\n",
      "[38]\ttrain-rmse:0.17291\teval-rmse:0.31664\n",
      "[39]\ttrain-rmse:0.17134\teval-rmse:0.31665\n"
     ]
    }
   ],
   "source": [
    "param = {'max_depth': 20, 'eta': 0.2, 'lambda': 40, 'objective': 'reg:squarederror'}\n",
    "evallist = [(dtrain, 'train'), (dtest, 'eval')]\n",
    "num_round = 40\n",
    "\n",
    "reg = xgb.train(param, dtrain, num_round, evals=evallist)"
   ]
  },
  {
   "cell_type": "code",
   "execution_count": 16,
   "id": "bf90c6bf",
   "metadata": {
    "tags": []
   },
   "outputs": [],
   "source": [
    "dtrain = xgb.DMatrix(X, label=y)"
   ]
  },
  {
   "cell_type": "code",
   "execution_count": 17,
   "id": "ff475bd2",
   "metadata": {
    "tags": []
   },
   "outputs": [
    {
     "name": "stdout",
     "output_type": "stream",
     "text": [
      "[0]\ttrain-rmse:0.74862\n",
      "[1]\ttrain-rmse:0.63214\n",
      "[2]\ttrain-rmse:0.54448\n",
      "[3]\ttrain-rmse:0.47900\n",
      "[4]\ttrain-rmse:0.43086\n",
      "[5]\ttrain-rmse:0.39645\n",
      "[6]\ttrain-rmse:0.37121\n",
      "[7]\ttrain-rmse:0.35273\n",
      "[8]\ttrain-rmse:0.33560\n",
      "[9]\ttrain-rmse:0.32296\n",
      "[10]\ttrain-rmse:0.31066\n",
      "[11]\ttrain-rmse:0.29973\n",
      "[12]\ttrain-rmse:0.29014\n",
      "[13]\ttrain-rmse:0.28081\n",
      "[14]\ttrain-rmse:0.27252\n",
      "[15]\ttrain-rmse:0.26470\n",
      "[16]\ttrain-rmse:0.25849\n",
      "[17]\ttrain-rmse:0.25177\n",
      "[18]\ttrain-rmse:0.24575\n",
      "[19]\ttrain-rmse:0.24010\n",
      "[20]\ttrain-rmse:0.23623\n",
      "[21]\ttrain-rmse:0.23211\n",
      "[22]\ttrain-rmse:0.22706\n",
      "[23]\ttrain-rmse:0.22180\n",
      "[24]\ttrain-rmse:0.21826\n",
      "[25]\ttrain-rmse:0.21449\n",
      "[26]\ttrain-rmse:0.21201\n",
      "[27]\ttrain-rmse:0.20838\n",
      "[28]\ttrain-rmse:0.20566\n",
      "[29]\ttrain-rmse:0.20131\n"
     ]
    }
   ],
   "source": [
    "param = {'max_depth': 20, 'eta': 0.2, 'lambda': 40, 'objective': 'reg:squarederror'}\n",
    "evallist = [(dtrain, 'train')]\n",
    "num_round = 30\n",
    "\n",
    "reg = xgb.train(param, dtrain, num_round, evals=evallist)"
   ]
  },
  {
   "cell_type": "code",
   "execution_count": null,
   "id": "2b39db8a-7a1c-4c76-b1a5-6a917e72d3cb",
   "metadata": {
    "tags": []
   },
   "outputs": [],
   "source": [
    "reg = xgb.XGBRegressor(param)\n",
    "\n",
    "reg.load_model('boosted.json')"
   ]
  },
  {
   "cell_type": "code",
   "execution_count": null,
   "id": "1967d1d0-0a60-4bc8-9ff2-ddb9a9a9a535",
   "metadata": {
    "tags": []
   },
   "outputs": [],
   "source": [
    "reg = xgb.XGBRegressor(n_estimators = 4000)\n",
    "reg.fit(X_train, y_train)"
   ]
  },
  {
   "cell_type": "code",
   "execution_count": null,
   "id": "5bf15625-2f5c-4b9f-a009-28296f082f0d",
   "metadata": {
    "tags": []
   },
   "outputs": [],
   "source": [
    "#Construct an ensemble of boosted trees\n",
    "\n",
    "n_trees = 4\n",
    "ensemble = []\n",
    "\n",
    "X_train = X_train.reset_index(drop = True)\n",
    "y_train = y_train.reset_index(drop = True)\n",
    "\n",
    "for i in range(n_trees):\n",
    "    X_sample = X_train.sample(10000, replace=True)\n",
    "    print('finished sampling')\n",
    "    y_sample = y_train.iloc[X_sample.index]\n",
    "    reg = xgb.XGBRegressor(n_estimators = 2000)\n",
    "    reg.fit(X_sample, y_sample)\n",
    "    ensemble.append(reg)\n",
    "    print('finished one tree')\n"
   ]
  },
  {
   "cell_type": "code",
   "execution_count": 18,
   "id": "22e2e608-b2c6-4594-bfb9-90bfa5628107",
   "metadata": {},
   "outputs": [],
   "source": [
    "reg.save_model('boosted.json')"
   ]
  },
  {
   "cell_type": "code",
   "execution_count": null,
   "id": "ec8ca60d-0f79-41a8-bdee-35ab5eab46be",
   "metadata": {
    "tags": []
   },
   "outputs": [],
   "source": [
    "#Test ensemble\n",
    "    \n",
    "pred = 0\n",
    "\n",
    "for tree in ensemble:\n",
    "    print(tree.score(X_test, y_test))\n",
    "    pred += tree.predict(X_test)\n",
    "    \n",
    "\n",
    "pred = pred/(len(ensemble))\n",
    "\n",
    "\n",
    "sklearn.metrics.mean_squared_error(y_test, pred)"
   ]
  },
  {
   "cell_type": "code",
   "execution_count": null,
   "id": "8c864654-58f2-49ac-97ba-f9b71b1c5438",
   "metadata": {
    "tags": []
   },
   "outputs": [],
   "source": [
    "pred"
   ]
  },
  {
   "cell_type": "code",
   "execution_count": null,
   "id": "53302fa1-313e-4f54-a156-56a7e5ce32ed",
   "metadata": {
    "tags": []
   },
   "outputs": [],
   "source": [
    "for tree in ensemble:\n",
    "    pred += tree.predict(np.array([[2,0.3,0.1]]))"
   ]
  },
  {
   "cell_type": "code",
   "execution_count": null,
   "id": "4495c1c9-8682-4462-992a-67b9459650c6",
   "metadata": {
    "tags": []
   },
   "outputs": [],
   "source": [
    "pred.reshape(-1)"
   ]
  },
  {
   "cell_type": "code",
   "execution_count": null,
   "id": "dc9a39f2-5480-4584-abc8-f8f195466218",
   "metadata": {
    "tags": []
   },
   "outputs": [],
   "source": [
    "#Test nn ensemble\n",
    "\n",
    "models = [reg_net_2, reg_net_2b, reg_net_2c]\n",
    "\n",
    "predictions = np.zeros(len(y_test))\n",
    "\n",
    "for model in models:\n",
    "    pred = model(torch.as_tensor(np.array(X_test), dtype=torch.float32))\n",
    "    pred = pred.detach().numpy().squeeze() * 100\n",
    "    print(sklearn.metrics.r2_score(y_test, pred))\n",
    "    predictions += pred\n",
    "\n",
    "f_pred = predictions/3\n",
    "\n",
    "sklearn.metrics.r2_score(y_test, f_pred)"
   ]
  },
  {
   "cell_type": "code",
   "execution_count": null,
   "id": "df23f067-6dc1-448c-8bdd-3bc0c026ecec",
   "metadata": {
    "tags": []
   },
   "outputs": [],
   "source": [
    "X_train, X_test, y_train, y_test = train_test_split(df.iloc[:,:-1], df.iloc[:,-1:])"
   ]
  },
  {
   "cell_type": "code",
   "execution_count": null,
   "id": "881b3e1e-ecea-4ae7-b67d-ae8c248f2857",
   "metadata": {},
   "outputs": [],
   "source": [
    "dtrain = xgb.DMatrix(X_train, label=y_train)\n",
    "dtest = xgb.DMatrix(X_test, label=y_test)"
   ]
  },
  {
   "cell_type": "code",
   "execution_count": null,
   "id": "8378b272-fb03-4933-abbd-cda9b1fee836",
   "metadata": {},
   "outputs": [],
   "source": [
    "params = {'objective': 'reg:linear', 'verbose': False}\n",
    "model_1 = xgb.train(params, dtrain, 30)"
   ]
  },
  {
   "cell_type": "code",
   "execution_count": null,
   "id": "08eca02d-9e77-4cba-aa0a-cda221694dcd",
   "metadata": {},
   "outputs": [],
   "source": [
    "print(sklearn.metrics.r2_score(model_1.predict(dtest), y_test))"
   ]
  },
  {
   "cell_type": "code",
   "execution_count": null,
   "id": "ca3d92e0-0e8a-4777-84f5-0a4f3f9b7b51",
   "metadata": {
    "tags": []
   },
   "outputs": [],
   "source": [
    "reg.fit(X_train, y_train)"
   ]
  },
  {
   "cell_type": "code",
   "execution_count": null,
   "id": "c5ae24e0-9015-4841-b5dd-293cc788fe43",
   "metadata": {
    "tags": []
   },
   "outputs": [],
   "source": [
    "reg.score(X_train, y_train)"
   ]
  },
  {
   "cell_type": "code",
   "execution_count": null,
   "id": "03cf7903-6c85-4ded-8a08-89cdd48afe2b",
   "metadata": {
    "tags": []
   },
   "outputs": [],
   "source": [
    "reg.score(X_test, y_test)"
   ]
  },
  {
   "cell_type": "code",
   "execution_count": null,
   "id": "294fd07a-b125-4a9c-88f5-81ce3c6ffe37",
   "metadata": {
    "tags": []
   },
   "outputs": [],
   "source": [
    "reg.save_model('boostedLarge.json')"
   ]
  },
  {
   "cell_type": "code",
   "execution_count": null,
   "id": "2d53a9f0-8294-4ead-b749-c5a91a49bd1c",
   "metadata": {
    "tags": []
   },
   "outputs": [],
   "source": [
    "pred = reg_net_2(torch.as_tensor(np.array(X_test), dtype=torch.float32))"
   ]
  },
  {
   "cell_type": "code",
   "execution_count": null,
   "id": "1cf3cf73-1129-4858-bc78-5c85407fbd6f",
   "metadata": {
    "tags": []
   },
   "outputs": [],
   "source": [
    "pred = pred * 100"
   ]
  },
  {
   "cell_type": "code",
   "execution_count": null,
   "id": "ff441b0a-b68e-464c-8953-49365ef24d3d",
   "metadata": {
    "tags": []
   },
   "outputs": [],
   "source": [
    "pred = reg_net_2(torch.as_tensor(np.array(X_test), dtype=torch.float32))\n",
    "pred = pred * 100\n",
    "sklearn.metrics.r2_score(y_test, pred.detach().numpy())"
   ]
  },
  {
   "cell_type": "code",
   "execution_count": null,
   "id": "b61b4198-5534-4bd3-8669-befc2a08dd60",
   "metadata": {},
   "outputs": [],
   "source": [
    "if pred is None:\n",
    "    print('yes')"
   ]
  },
  {
   "cell_type": "code",
   "execution_count": null,
   "id": "e56614a1-0386-4471-9270-ad14a6bb1b36",
   "metadata": {},
   "outputs": [],
   "source": [
    "pred.detach().numpy().squeeze()"
   ]
  },
  {
   "cell_type": "code",
   "execution_count": null,
   "id": "8c65ed13-cad9-474f-8d94-67f36e966883",
   "metadata": {
    "tags": []
   },
   "outputs": [],
   "source": [
    "y_test"
   ]
  },
  {
   "cell_type": "code",
   "execution_count": null,
   "id": "b862c71a-b0c4-44d7-9a32-9b718d0ca29e",
   "metadata": {
    "tags": []
   },
   "outputs": [],
   "source": [
    "pred[:20]"
   ]
  },
  {
   "cell_type": "code",
   "execution_count": null,
   "id": "10ae9ac4-6515-4758-ae74-5ace4c8bd837",
   "metadata": {
    "tags": []
   },
   "outputs": [],
   "source": [
    "len(X_train)"
   ]
  },
  {
   "cell_type": "code",
   "execution_count": null,
   "id": "7bc4a397-f1f8-4261-a551-a1fc3ca01132",
   "metadata": {},
   "outputs": [],
   "source": [
    "reg_net_2b"
   ]
  },
  {
   "cell_type": "code",
   "execution_count": null,
   "id": "e8983da9-c864-43f2-abd3-d23cc511f0b4",
   "metadata": {
    "tags": []
   },
   "outputs": [],
   "source": [
    "cdf"
   ]
  },
  {
   "cell_type": "code",
   "execution_count": null,
   "id": "423a39d2-7407-41a5-a351-ff97be511779",
   "metadata": {},
   "outputs": [],
   "source": []
  }
 ],
 "metadata": {
  "kernelspec": {
   "display_name": "Python 3 (ipykernel)",
   "language": "python",
   "name": "python3"
  },
  "language_info": {
   "codemirror_mode": {
    "name": "ipython",
    "version": 3
   },
   "file_extension": ".py",
   "mimetype": "text/x-python",
   "name": "python",
   "nbconvert_exporter": "python",
   "pygments_lexer": "ipython3",
   "version": "3.10.0"
  }
 },
 "nbformat": 4,
 "nbformat_minor": 5
}
